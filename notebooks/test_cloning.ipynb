{
 "cells": [
  {
   "cell_type": "code",
   "execution_count": 1,
   "metadata": {},
   "outputs": [
    {
     "name": "stdout",
     "output_type": "stream",
     "text": [
      "Added /home/amir/Codes/NN-dynamic-scaling to Python path\n"
     ]
    }
   ],
   "source": [
    "# Import the utility module\n",
    "import notebook_utils\n",
    "\n",
    "# Setup the path\n",
    "notebook_utils.setup_path()"
   ]
  },
  {
   "cell_type": "code",
   "execution_count": null,
   "metadata": {},
   "outputs": [
    {
     "data": {
      "text/plain": [
       "MLP(\n",
       "  (layers): ModuleDict(\n",
       "    (linear_0): Linear(in_features=784, out_features=512, bias=True)\n",
       "    (act_0): ReLU()\n",
       "    (linear_1): Linear(in_features=512, out_features=256, bias=True)\n",
       "    (act_1): ReLU()\n",
       "    (linear_2): Linear(in_features=256, out_features=128, bias=True)\n",
       "    (act_2): ReLU()\n",
       "    (out): Linear(in_features=128, out_features=10, bias=True)\n",
       "  )\n",
       ")"
      ]
     },
     "execution_count": 5,
     "metadata": {},
     "output_type": "execute_result"
    }
   ],
   "source": [
    "# Now you can import from src\n",
    "from src.models.mlp import MLP\n",
    "from src.utils.cloning import clone_model\n",
    "from src.utils import metrics\n",
    "\n",
    "# Check the imported modules\n",
    "model = MLP()\n",
    "model"
   ]
  },
  {
   "cell_type": "markdown",
   "metadata": {},
   "source": [
    "## Example: Using modules from src"
   ]
  },
  {
   "cell_type": "code",
   "execution_count": null,
   "metadata": {},
   "outputs": [],
   "source": [
    "import torch\n",
    "from src.models.mlp import MLP\n",
    "\n",
    "# Create a simple MLP model\n",
    "model = MLP(\n",
    "    input_size=784,\n",
    "    hidden_sizes=[128, 64],\n",
    "    output_size=10,\n",
    "    activation='relu'\n",
    ")\n",
    "\n",
    "print(model)"
   ]
  },
  {
   "cell_type": "code",
   "execution_count": null,
   "metadata": {},
   "outputs": [],
   "source": [
    "# Generate random input\n",
    "torch.manual_seed(42)\n",
    "x = torch.randn(10, 784)\n",
    "\n",
    "# Run forward pass\n",
    "with torch.no_grad():\n",
    "    output = model(x)\n",
    "\n",
    "print(f\"Input shape: {x.shape}\")\n",
    "print(f\"Output shape: {output.shape}\")"
   ]
  },
  {
   "cell_type": "markdown",
   "metadata": {},
   "source": [
    "## Accessing the new Gaussianity metrics"
   ]
  },
  {
   "cell_type": "code",
   "execution_count": null,
   "metadata": {},
   "outputs": [],
   "source": [
    "from src.utils.metrics import measure_gaussianity\n",
    "\n",
    "# Generate random activations\n",
    "gaussian_activations = torch.randn(1000, 10)  # Normal distribution\n",
    "uniform_activations = torch.rand(1000, 10)    # Uniform distribution\n",
    "\n",
    "# Measure Gaussianity\n",
    "gaussian_score = measure_gaussianity(gaussian_activations, method=\"shapiro\")\n",
    "uniform_score = measure_gaussianity(uniform_activations, method=\"shapiro\")\n",
    "\n",
    "print(f\"Gaussianity score for normal distribution: {gaussian_score:.4f}\")\n",
    "print(f\"Gaussianity score for uniform distribution: {uniform_score:.4f}\")\n",
    "print(f\"Uniform distribution is {uniform_score/gaussian_score:.1f}x less Gaussian\")"
   ]
  },
  {
   "cell_type": "markdown",
   "metadata": {},
   "source": [
    "## Reloading modules after changes\n",
    "\n",
    "If you make changes to files in the `src` directory while working in the notebook, you can reload the modules to pick up those changes."
   ]
  },
  {
   "cell_type": "code",
   "execution_count": null,
   "metadata": {},
   "outputs": [],
   "source": [
    "# After making changes to src/utils/metrics.py\n",
    "import importlib\n",
    "from src.utils import metrics\n",
    "\n",
    "# Reload the module\n",
    "metrics = importlib.reload(metrics)\n",
    "\n",
    "# Or if using the utility module:\n",
    "# metrics = notebook_utils.reload_module(metrics)"
   ]
  }
 ],
 "metadata": {
  "kernelspec": {
   "display_name": "base",
   "language": "python",
   "name": "python3"
  },
  "language_info": {
   "codemirror_mode": {
    "name": "ipython",
    "version": 3
   },
   "file_extension": ".py",
   "mimetype": "text/x-python",
   "name": "python",
   "nbconvert_exporter": "python",
   "pygments_lexer": "ipython3",
   "version": "3.10.14"
  }
 },
 "nbformat": 4,
 "nbformat_minor": 4
}
