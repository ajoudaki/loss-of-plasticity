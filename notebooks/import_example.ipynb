{
 "cells": [
  {
   "cell_type": "markdown",
   "metadata": {},
   "source": [
    "# Example: Importing from src directory\n",
    "\n",
    "This notebook demonstrates how to import modules from the `src` directory."
   ]
  },
  {
   "cell_type": "markdown",
   "metadata": {},
   "source": [
    "## Option 1: Direct Path Setup"
   ]
  },
  {
   "cell_type": "code",
   "execution_count": null,
   "metadata": {},
   "outputs": [],
   "source": [
    "import sys\n",
    "import os\n",
    "\n",
    "# Add the project root directory to the Python path\n",
    "project_root = os.path.abspath(os.path.join(os.getcwd(), '..'))\n",
    "if project_root not in sys.path:\n",
    "    sys.path.insert(0, project_root)\n",
    "    print(f\"Added {project_root} to Python path\")\n",
    "else:\n",
    "    print(f\"{project_root} already in Python path\")"
   ]
  },
  {
   "cell_type": "code",
   "execution_count": null,
   "metadata": {},
   "outputs": [],
   "source": [
    "# Now you can import from src\n",
    "from src.models import mlp\n",
    "from src.utils import metrics\n",
    "\n",
    "# Check the imported modules\n",
    "print(f\"MLP module: {mlp.__file__}\")\n",
    "print(f\"Metrics module: {metrics.__file__}\")"
   ]
  },
  {
   "cell_type": "markdown",
   "metadata": {},
   "source": [
    "## Option 2: Using the utility module"
   ]
  },
  {
   "cell_type": "code",
   "execution_count": null,
   "metadata": {},
   "outputs": [],
   "source": [
    "# Import the utility module\n",
    "import notebook_utils\n",
    "\n",
    "# Setup the path\n",
    "notebook_utils.setup_path()"
   ]
  },
  {
   "cell_type": "code",
   "execution_count": null,
   "metadata": {},
   "outputs": [],
   "source": [
    "# Now you can import from src\n",
    "from src.models import mlp\n",
    "from src.utils import metrics\n",
    "\n",
    "# Check the imported modules\n",
    "print(f\"MLP module: {mlp.__file__}\")\n",
    "print(f\"Metrics module: {metrics.__file__}\")"
   ]
  },
  {
   "cell_type": "markdown",
   "metadata": {},
   "source": [
    "## Example: Using modules from src"
   ]
  },
  {
   "cell_type": "code",
   "execution_count": null,
   "metadata": {},
   "outputs": [],
   "source": [
    "import torch\n",
    "from src.models.mlp import MLP\n",
    "\n",
    "# Create a simple MLP model\n",
    "model = MLP(\n",
    "    input_size=784,\n",
    "    hidden_sizes=[128, 64],\n",
    "    output_size=10,\n",
    "    activation='relu'\n",
    ")\n",
    "\n",
    "print(model)"
   ]
  },
  {
   "cell_type": "code",
   "execution_count": null,
   "metadata": {},
   "outputs": [],
   "source": [
    "# Generate random input\n",
    "torch.manual_seed(42)\n",
    "x = torch.randn(10, 784)\n",
    "\n",
    "# Run forward pass\n",
    "with torch.no_grad():\n",
    "    output = model(x)\n",
    "\n",
    "print(f\"Input shape: {x.shape}\")\n",
    "print(f\"Output shape: {output.shape}\")"
   ]
  },
  {
   "cell_type": "markdown",
   "metadata": {},
   "source": [
    "## Accessing the new Gaussianity metrics"
   ]
  },
  {
   "cell_type": "code",
   "execution_count": null,
   "metadata": {},
   "outputs": [],
   "source": [
    "from src.utils.metrics import measure_gaussianity\n",
    "\n",
    "# Generate random activations\n",
    "gaussian_activations = torch.randn(1000, 10)  # Normal distribution\n",
    "uniform_activations = torch.rand(1000, 10)    # Uniform distribution\n",
    "\n",
    "# Measure Gaussianity\n",
    "gaussian_score = measure_gaussianity(gaussian_activations, method=\"shapiro\")\n",
    "uniform_score = measure_gaussianity(uniform_activations, method=\"shapiro\")\n",
    "\n",
    "print(f\"Gaussianity score for normal distribution: {gaussian_score:.4f}\")\n",
    "print(f\"Gaussianity score for uniform distribution: {uniform_score:.4f}\")\n",
    "print(f\"Uniform distribution is {uniform_score/gaussian_score:.1f}x less Gaussian\")"
   ]
  },
  {
   "cell_type": "markdown",
   "metadata": {},
   "source": [
    "## Reloading modules after changes\n",
    "\n",
    "If you make changes to files in the `src` directory while working in the notebook, you can reload the modules to pick up those changes."
   ]
  },
  {
   "cell_type": "code",
   "execution_count": null,
   "metadata": {},
   "outputs": [],
   "source": [
    "# After making changes to src/utils/metrics.py\n",
    "import importlib\n",
    "from src.utils import metrics\n",
    "\n",
    "# Reload the module\n",
    "metrics = importlib.reload(metrics)\n",
    "\n",
    "# Or if using the utility module:\n",
    "# metrics = notebook_utils.reload_module(metrics)"
   ]
  }
 ],
 "metadata": {
  "kernelspec": {
   "display_name": "Python 3",
   "language": "python",
   "name": "python3"
  },
  "language_info": {
   "codemirror_mode": {
    "name": "ipython",
    "version": 3
   },
   "file_extension": ".py",
   "mimetype": "text/x-python",
   "name": "python",
   "nbconvert_exporter": "python",
   "pygments_lexer": "ipython3",
   "version": "3.8.10"
  }
 },
 "nbformat": 4,
 "nbformat_minor": 4
}