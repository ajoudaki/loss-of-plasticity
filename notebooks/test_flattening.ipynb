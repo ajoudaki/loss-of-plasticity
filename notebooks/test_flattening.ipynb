{
 "cells": [
  {
   "cell_type": "code",
   "execution_count": 1,
   "metadata": {},
   "outputs": [],
   "source": [
    "# Import the utility module\n",
    "import notebook_utils\n",
    "\n",
    "# Setup the path\n",
    "notebook_utils.setup_path()"
   ]
  },
  {
   "cell_type": "code",
   "execution_count": 7,
   "metadata": {},
   "outputs": [],
   "source": [
    "# Now you can import from src\n",
    "from src.models import MLP, ResNet, CNN, VisionTransformer\n",
    "from src.utils import metrics, monitor\n",
    "import torch\n",
    "import torch.nn as nn\n",
    "\n",
    "inputs = torch.randn(32,3,32,32)\n",
    "targets = torch.randint(0,2,size=(32,),dtype=torch.long)\n",
    "\n",
    "model_name = 'vit'\n",
    "if model_name=='mlp':\n",
    "    model = MLP(input_size=10, output_size=2)\n",
    "    inputs = torch.randn(32,10)\n",
    "elif model_name=='cnn':\n",
    "    model = CNN(in_channels=3,num_classes=2)\n",
    "elif model_name=='resnet':\n",
    "    model = ResNet(in_channels=3,num_classes=2)\n",
    "elif model_name=='vit':\n",
    "    model= VisionTransformer(in_channels=3,img_size=32)\n",
    "else:\n",
    "    raise ValueError(f'model {model_name} does not exist')\n",
    "\n",
    "criteria = nn.CrossEntropyLoss()\n",
    "\n",
    "monitor = monitor.NetworkMonitor(model)\n",
    "monitor.register_hooks()\n",
    "# model\n",
    "out = model(inputs)\n",
    "loss = criteria(out,targets)\n",
    "loss.backward()\n",
    "\n",
    "acts = monitor.get_latest_activations()\n",
    "grads = monitor.get_latest_gradients()\n",
    "\n",
    "for k,a in acts.items():\n",
    "    g = grads[k]\n",
    "    a_flatten = metrics.flatten_activations(a)\n",
    "    print(f\"{k} -> {a.shape} -(flatten)-> {a_flatten.shape}\")"
   ]
  },
  {
   "cell_type": "code",
   "execution_count": 8,
   "metadata": {},
   "outputs": [],
   "source": [
    "model"
   ]
  },
  {
   "cell_type": "markdown",
   "metadata": {},
   "source": [
    "## Example: Using modules from src"
   ]
  },
  {
   "cell_type": "code",
   "execution_count": null,
   "metadata": {},
   "outputs": [],
   "source": [
    "import torch\n",
    "from src.models.mlp import MLP\n",
    "\n",
    "# Create a simple MLP model\n",
    "model = MLP(\n",
    "    input_size=784,\n",
    "    hidden_sizes=[128, 64],\n",
    "    output_size=10,\n",
    "    activation='relu'\n",
    ")\n",
    "\n",
    "print(model)"
   ]
  },
  {
   "cell_type": "code",
   "execution_count": null,
   "metadata": {},
   "outputs": [],
   "source": [
    "# Generate random input\n",
    "torch.manual_seed(42)\n",
    "x = torch.randn(10, 784)\n",
    "\n",
    "# Run forward pass\n",
    "with torch.no_grad():\n",
    "    output = model(x)\n",
    "\n",
    "print(f\"Input shape: {x.shape}\")\n",
    "print(f\"Output shape: {output.shape}\")"
   ]
  },
  {
   "cell_type": "markdown",
   "metadata": {},
   "source": [
    "## Accessing the new Gaussianity metrics"
   ]
  },
  {
   "cell_type": "code",
   "execution_count": null,
   "metadata": {},
   "outputs": [],
   "source": [
    "from src.utils.metrics import measure_gaussianity\n",
    "\n",
    "# Generate random activations\n",
    "gaussian_activations = torch.randn(1000, 10)  # Normal distribution\n",
    "uniform_activations = torch.rand(1000, 10)    # Uniform distribution\n",
    "\n",
    "# Measure Gaussianity\n",
    "gaussian_score = measure_gaussianity(gaussian_activations, method=\"shapiro\")\n",
    "uniform_score = measure_gaussianity(uniform_activations, method=\"shapiro\")\n",
    "\n",
    "print(f\"Gaussianity score for normal distribution: {gaussian_score:.4f}\")\n",
    "print(f\"Gaussianity score for uniform distribution: {uniform_score:.4f}\")\n",
    "print(f\"Uniform distribution is {uniform_score/gaussian_score:.1f}x less Gaussian\")"
   ]
  },
  {
   "cell_type": "markdown",
   "metadata": {},
   "source": [
    "## Reloading modules after changes\n",
    "\n",
    "If you make changes to files in the `src` directory while working in the notebook, you can reload the modules to pick up those changes."
   ]
  },
  {
   "cell_type": "code",
   "execution_count": null,
   "metadata": {},
   "outputs": [],
   "source": [
    "# After making changes to src/utils/metrics.py\n",
    "import importlib\n",
    "from src.utils import metrics\n",
    "\n",
    "# Reload the module\n",
    "metrics = importlib.reload(metrics)\n",
    "\n",
    "# Or if using the utility module:\n",
    "# metrics = notebook_utils.reload_module(metrics)"
   ]
  }
 ],
 "metadata": {
  "kernelspec": {
   "display_name": "base",
   "language": "python",
   "name": "python3"
  },
  "language_info": {
   "codemirror_mode": {
    "name": "ipython",
    "version": 3
   },
   "file_extension": ".py",
   "mimetype": "text/x-python",
   "name": "python",
   "nbconvert_exporter": "python",
   "pygments_lexer": "ipython3",
   "version": "3.10.14"
  }
 },
 "nbformat": 4,
 "nbformat_minor": 4
}
