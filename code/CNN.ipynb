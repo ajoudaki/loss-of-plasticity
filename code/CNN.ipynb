{
 "cells": [
  {
   "cell_type": "code",
   "execution_count": 1,
   "id": "ee3419b6-664f-404a-b1a0-10a14db8463f",
   "metadata": {},
   "outputs": [
    {
     "name": "stderr",
     "output_type": "stream",
     "text": [
      "100%|██████████████████████████████████████████████████████████████████████| 391/391 [00:37<00:00, 10.36it/s]"
     ]
    },
    {
     "name": "stdout",
     "output_type": "stream",
     "text": [
      "Epoch 1, Train Loss: 3.44915\n"
     ]
    },
    {
     "name": "stderr",
     "output_type": "stream",
     "text": [
      "\n"
     ]
    },
    {
     "name": "stdout",
     "output_type": "stream",
     "text": [
      "# CC  =  156, e-rank =   21, soft rank = 4.318, dead features =    0 / 256\n",
      "# CC  =  109, e-rank =   33, soft rank = 3.329, dead features =    0 / 256\n",
      "# CC  =   56, e-rank =   26, soft rank = 3.329, dead features =    0 / 256\n",
      "# CC  =   99, e-rank =   28, soft rank = 4.098, dead features =    0 / 256\n",
      "# CC  =  195, e-rank =   36, soft rank = 4.890, dead features =    0 / 256\n",
      "# CC  =  254, e-rank =   51, soft rank = 7.585, dead features =    0 / 256\n",
      "# CC  =  256, e-rank =   71, soft rank = 7.968, dead features =    0 / 256\n",
      "Accuracy on test set after epoch 1: 4.20%\n"
     ]
    },
    {
     "name": "stderr",
     "output_type": "stream",
     "text": [
      "100%|██████████████████████████████████████████████████████████████████████| 391/391 [00:37<00:00, 10.44it/s]"
     ]
    },
    {
     "name": "stdout",
     "output_type": "stream",
     "text": [
      "Epoch 2, Train Loss: 3.02895\n"
     ]
    },
    {
     "name": "stderr",
     "output_type": "stream",
     "text": [
      "\n"
     ]
    },
    {
     "name": "stdout",
     "output_type": "stream",
     "text": [
      "# CC  =  168, e-rank =   21, soft rank = 4.433, dead features =    0 / 256\n",
      "# CC  =  137, e-rank =   32, soft rank = 3.920, dead features =    0 / 256\n",
      "# CC  =  101, e-rank =   27, soft rank = 3.776, dead features =    0 / 256\n",
      "# CC  =  132, e-rank =   28, soft rank = 4.583, dead features =    0 / 256\n",
      "# CC  =  230, e-rank =   39, soft rank = 6.132, dead features =    0 / 256\n",
      "# CC  =  255, e-rank =   59, soft rank = 10.457, dead features =    0 / 256\n",
      "# CC  =  256, e-rank =   87, soft rank = 11.493, dead features =    0 / 256\n",
      "Accuracy on test set after epoch 2: 6.99%\n"
     ]
    },
    {
     "name": "stderr",
     "output_type": "stream",
     "text": [
      "100%|██████████████████████████████████████████████████████████████████████| 391/391 [00:37<00:00, 10.42it/s]"
     ]
    },
    {
     "name": "stdout",
     "output_type": "stream",
     "text": [
      "Epoch 3, Train Loss: 2.80418\n"
     ]
    },
    {
     "name": "stderr",
     "output_type": "stream",
     "text": [
      "\n"
     ]
    },
    {
     "name": "stdout",
     "output_type": "stream",
     "text": [
      "# CC  =  167, e-rank =   21, soft rank = 4.828, dead features =    0 / 256\n",
      "# CC  =  148, e-rank =   33, soft rank = 4.317, dead features =    0 / 256\n",
      "# CC  =  117, e-rank =   29, soft rank = 4.128, dead features =    0 / 256\n",
      "# CC  =  168, e-rank =   32, soft rank = 5.158, dead features =    0 / 256\n",
      "# CC  =  236, e-rank =   46, soft rank = 7.306, dead features =    0 / 256\n",
      "# CC  =  256, e-rank =   72, soft rank = 12.391, dead features =    0 / 256\n",
      "# CC  =  256, e-rank =  101, soft rank = 12.230, dead features =    0 / 256\n",
      "Accuracy on test set after epoch 3: 3.82%\n"
     ]
    },
    {
     "name": "stderr",
     "output_type": "stream",
     "text": [
      "100%|██████████████████████████████████████████████████████████████████████| 391/391 [00:37<00:00, 10.41it/s]"
     ]
    },
    {
     "name": "stdout",
     "output_type": "stream",
     "text": [
      "Epoch 4, Train Loss: 2.61524\n"
     ]
    },
    {
     "name": "stderr",
     "output_type": "stream",
     "text": [
      "\n"
     ]
    },
    {
     "name": "stdout",
     "output_type": "stream",
     "text": [
      "# CC  =  173, e-rank =   21, soft rank = 5.138, dead features =    0 / 256\n",
      "# CC  =  162, e-rank =   35, soft rank = 4.506, dead features =    0 / 256\n",
      "# CC  =  121, e-rank =   32, soft rank = 4.010, dead features =    0 / 256\n",
      "# CC  =  179, e-rank =   35, soft rank = 5.142, dead features =    0 / 256\n",
      "# CC  =  248, e-rank =   53, soft rank = 8.356, dead features =    0 / 256\n",
      "# CC  =  256, e-rank =   85, soft rank = 15.047, dead features =    0 / 256\n",
      "# CC  =  256, e-rank =  117, soft rank = 15.663, dead features =    0 / 256\n",
      "Accuracy on test set after epoch 4: 2.50%\n"
     ]
    },
    {
     "name": "stderr",
     "output_type": "stream",
     "text": [
      "100%|██████████████████████████████████████████████████████████████████████| 391/391 [00:37<00:00, 10.40it/s]"
     ]
    },
    {
     "name": "stdout",
     "output_type": "stream",
     "text": [
      "Epoch 5, Train Loss: 2.42739\n"
     ]
    },
    {
     "name": "stderr",
     "output_type": "stream",
     "text": [
      "\n"
     ]
    },
    {
     "name": "stdout",
     "output_type": "stream",
     "text": [
      "# CC  =  171, e-rank =   21, soft rank = 5.457, dead features =    0 / 256\n",
      "# CC  =  179, e-rank =   36, soft rank = 5.451, dead features =    0 / 256\n",
      "# CC  =  159, e-rank =   36, soft rank = 5.024, dead features =    0 / 256\n",
      "# CC  =  206, e-rank =   40, soft rank = 6.012, dead features =    0 / 256\n",
      "# CC  =  253, e-rank =   59, soft rank = 9.638, dead features =    0 / 256\n",
      "# CC  =  256, e-rank =   98, soft rank = 16.324, dead features =    0 / 256\n",
      "# CC  =  256, e-rank =  134, soft rank = 18.581, dead features =    0 / 256\n",
      "Accuracy on test set after epoch 5: 5.65%\n"
     ]
    },
    {
     "name": "stderr",
     "output_type": "stream",
     "text": [
      "100%|██████████████████████████████████████████████████████████████████████| 391/391 [00:37<00:00, 10.42it/s]"
     ]
    },
    {
     "name": "stdout",
     "output_type": "stream",
     "text": [
      "Epoch 6, Train Loss: 2.24817\n"
     ]
    },
    {
     "name": "stderr",
     "output_type": "stream",
     "text": [
      "\n"
     ]
    },
    {
     "name": "stdout",
     "output_type": "stream",
     "text": [
      "# CC  =  175, e-rank =   21, soft rank = 5.571, dead features =    0 / 256\n",
      "# CC  =  190, e-rank =   37, soft rank = 5.596, dead features =    0 / 256\n",
      "# CC  =  176, e-rank =   39, soft rank = 5.372, dead features =    0 / 256\n",
      "# CC  =  226, e-rank =   44, soft rank = 6.714, dead features =    0 / 256\n",
      "# CC  =  254, e-rank =   66, soft rank = 10.265, dead features =    0 / 256\n",
      "# CC  =  256, e-rank =  108, soft rank = 16.332, dead features =    0 / 256\n",
      "# CC  =  256, e-rank =  152, soft rank = 21.466, dead features =    0 / 256\n",
      "Accuracy on test set after epoch 6: 2.46%\n"
     ]
    },
    {
     "name": "stderr",
     "output_type": "stream",
     "text": [
      "100%|██████████████████████████████████████████████████████████████████████| 391/391 [00:37<00:00, 10.40it/s]"
     ]
    },
    {
     "name": "stdout",
     "output_type": "stream",
     "text": [
      "Epoch 7, Train Loss: 2.07016\n"
     ]
    },
    {
     "name": "stderr",
     "output_type": "stream",
     "text": [
      "\n"
     ]
    },
    {
     "name": "stdout",
     "output_type": "stream",
     "text": [
      "# CC  =  178, e-rank =   21, soft rank = 5.720, dead features =    0 / 256\n",
      "# CC  =  203, e-rank =   37, soft rank = 6.047, dead features =    0 / 256\n",
      "# CC  =  196, e-rank =   41, soft rank = 5.781, dead features =    0 / 256\n",
      "# CC  =  228, e-rank =   48, soft rank = 6.992, dead features =    0 / 256\n",
      "# CC  =  254, e-rank =   73, soft rank = 11.604, dead features =    0 / 256\n",
      "# CC  =  256, e-rank =  120, soft rank = 15.587, dead features =    0 / 256\n",
      "# CC  =  256, e-rank =  164, soft rank = 22.159, dead features =    0 / 256\n",
      "Accuracy on test set after epoch 7: 2.41%\n"
     ]
    },
    {
     "name": "stderr",
     "output_type": "stream",
     "text": [
      "100%|██████████████████████████████████████████████████████████████████████| 391/391 [00:37<00:00, 10.39it/s]"
     ]
    },
    {
     "name": "stdout",
     "output_type": "stream",
     "text": [
      "Epoch 8, Train Loss: 1.86404\n"
     ]
    },
    {
     "name": "stderr",
     "output_type": "stream",
     "text": [
      "\n"
     ]
    },
    {
     "name": "stdout",
     "output_type": "stream",
     "text": [
      "# CC  =  173, e-rank =   21, soft rank = 5.606, dead features =    0 / 256\n",
      "# CC  =  198, e-rank =   39, soft rank = 5.958, dead features =    0 / 256\n",
      "# CC  =  195, e-rank =   42, soft rank = 5.798, dead features =    0 / 256\n",
      "# CC  =  238, e-rank =   52, soft rank = 7.324, dead features =    0 / 256\n",
      "# CC  =  256, e-rank =   79, soft rank = 12.163, dead features =    0 / 256\n",
      "# CC  =  256, e-rank =  131, soft rank = 14.028, dead features =    0 / 256\n",
      "# CC  =  256, e-rank =  184, soft rank = 26.783, dead features =    0 / 256\n",
      "Accuracy on test set after epoch 8: 3.40%\n"
     ]
    },
    {
     "name": "stderr",
     "output_type": "stream",
     "text": [
      "100%|██████████████████████████████████████████████████████████████████████| 391/391 [00:37<00:00, 10.43it/s]"
     ]
    },
    {
     "name": "stdout",
     "output_type": "stream",
     "text": [
      "Epoch 9, Train Loss: 1.63346\n"
     ]
    },
    {
     "name": "stderr",
     "output_type": "stream",
     "text": [
      "\n"
     ]
    },
    {
     "name": "stdout",
     "output_type": "stream",
     "text": [
      "# CC  =  180, e-rank =   21, soft rank = 5.715, dead features =    0 / 256\n",
      "# CC  =  206, e-rank =   39, soft rank = 6.192, dead features =    0 / 256\n",
      "# CC  =  205, e-rank =   45, soft rank = 6.408, dead features =    0 / 256\n",
      "# CC  =  237, e-rank =   57, soft rank = 7.781, dead features =    0 / 256\n",
      "# CC  =  256, e-rank =   86, soft rank = 13.041, dead features =    0 / 256\n",
      "# CC  =  256, e-rank =  143, soft rank = 12.863, dead features =    0 / 256\n",
      "# CC  =  256, e-rank =  200, soft rank = 29.141, dead features =    0 / 256\n",
      "Accuracy on test set after epoch 9: 3.60%\n"
     ]
    },
    {
     "name": "stderr",
     "output_type": "stream",
     "text": [
      "100%|██████████████████████████████████████████████████████████████████████| 391/391 [00:37<00:00, 10.40it/s]"
     ]
    },
    {
     "name": "stdout",
     "output_type": "stream",
     "text": [
      "Epoch 10, Train Loss: 1.39614\n"
     ]
    },
    {
     "name": "stderr",
     "output_type": "stream",
     "text": [
      "\n"
     ]
    },
    {
     "name": "stdout",
     "output_type": "stream",
     "text": [
      "# CC  =  168, e-rank =   21, soft rank = 5.728, dead features =    0 / 256\n",
      "# CC  =  215, e-rank =   40, soft rank = 6.158, dead features =    0 / 256\n",
      "# CC  =  207, e-rank =   48, soft rank = 6.595, dead features =    0 / 256\n",
      "# CC  =  238, e-rank =   62, soft rank = 8.177, dead features =    0 / 256\n",
      "# CC  =  256, e-rank =   94, soft rank = 13.869, dead features =    0 / 256\n",
      "# CC  =  256, e-rank =  154, soft rank = 11.215, dead features =    0 / 256\n",
      "# CC  =  256, e-rank =  216, soft rank = 32.567, dead features =    0 / 256\n",
      "Accuracy on test set after epoch 10: 2.24%\n"
     ]
    },
    {
     "name": "stderr",
     "output_type": "stream",
     "text": [
      "100%|██████████████████████████████████████████████████████████████████████| 391/391 [00:37<00:00, 10.39it/s]"
     ]
    },
    {
     "name": "stdout",
     "output_type": "stream",
     "text": [
      "Epoch 11, Train Loss: 1.13320\n"
     ]
    },
    {
     "name": "stderr",
     "output_type": "stream",
     "text": [
      "\n"
     ]
    },
    {
     "name": "stdout",
     "output_type": "stream",
     "text": [
      "# CC  =  167, e-rank =   21, soft rank = 5.735, dead features =    0 / 256\n",
      "# CC  =  214, e-rank =   42, soft rank = 6.374, dead features =    0 / 256\n",
      "# CC  =  208, e-rank =   50, soft rank = 6.732, dead features =    0 / 256\n",
      "# CC  =  239, e-rank =   64, soft rank = 8.498, dead features =    0 / 256\n",
      "# CC  =  256, e-rank =  101, soft rank = 14.187, dead features =    0 / 256\n",
      "# CC  =  256, e-rank =  165, soft rank = 10.180, dead features =    0 / 256\n",
      "# CC  =  256, e-rank =  227, soft rank = 34.868, dead features =    0 / 256\n",
      "Accuracy on test set after epoch 11: 3.40%\n"
     ]
    },
    {
     "name": "stderr",
     "output_type": "stream",
     "text": [
      "100%|██████████████████████████████████████████████████████████████████████| 391/391 [00:37<00:00, 10.41it/s]"
     ]
    },
    {
     "name": "stdout",
     "output_type": "stream",
     "text": [
      "Epoch 12, Train Loss: 0.84474\n"
     ]
    },
    {
     "name": "stderr",
     "output_type": "stream",
     "text": [
      "\n"
     ]
    },
    {
     "name": "stdout",
     "output_type": "stream",
     "text": [
      "# CC  =  170, e-rank =   21, soft rank = 5.772, dead features =    0 / 256\n",
      "# CC  =  214, e-rank =   42, soft rank = 6.362, dead features =    0 / 256\n",
      "# CC  =  213, e-rank =   53, soft rank = 6.912, dead features =    0 / 256\n",
      "# CC  =  247, e-rank =   68, soft rank = 8.927, dead features =    0 / 256\n",
      "# CC  =  256, e-rank =  107, soft rank = 14.343, dead features =    0 / 256\n",
      "# CC  =  256, e-rank =  175, soft rank = 9.690, dead features =    0 / 256\n",
      "# CC  =  256, e-rank =  237, soft rank = 35.143, dead features =    0 / 256\n",
      "Accuracy on test set after epoch 12: 1.93%\n"
     ]
    },
    {
     "name": "stderr",
     "output_type": "stream",
     "text": [
      "100%|██████████████████████████████████████████████████████████████████████| 391/391 [00:37<00:00, 10.40it/s]"
     ]
    },
    {
     "name": "stdout",
     "output_type": "stream",
     "text": [
      "Epoch 13, Train Loss: 0.60338\n"
     ]
    },
    {
     "name": "stderr",
     "output_type": "stream",
     "text": [
      "\n"
     ]
    },
    {
     "name": "stdout",
     "output_type": "stream",
     "text": [
      "# CC  =  168, e-rank =   21, soft rank = 5.741, dead features =    0 / 256\n",
      "# CC  =  218, e-rank =   42, soft rank = 6.377, dead features =    0 / 256\n",
      "# CC  =  215, e-rank =   55, soft rank = 7.136, dead features =    0 / 256\n",
      "# CC  =  246, e-rank =   71, soft rank = 9.231, dead features =    0 / 256\n",
      "# CC  =  256, e-rank =  113, soft rank = 15.063, dead features =    0 / 256\n",
      "# CC  =  256, e-rank =  184, soft rank = 9.012, dead features =    0 / 256\n",
      "# CC  =  256, e-rank =  243, soft rank = 38.961, dead features =    0 / 256\n",
      "Accuracy on test set after epoch 13: 2.67%\n"
     ]
    },
    {
     "name": "stderr",
     "output_type": "stream",
     "text": [
      "100%|██████████████████████████████████████████████████████████████████████| 391/391 [00:37<00:00, 10.40it/s]"
     ]
    },
    {
     "name": "stdout",
     "output_type": "stream",
     "text": [
      "Epoch 14, Train Loss: 0.41620\n"
     ]
    },
    {
     "name": "stderr",
     "output_type": "stream",
     "text": [
      "\n"
     ]
    },
    {
     "name": "stdout",
     "output_type": "stream",
     "text": [
      "# CC  =  165, e-rank =   21, soft rank = 5.763, dead features =    0 / 256\n",
      "# CC  =  212, e-rank =   44, soft rank = 6.459, dead features =    0 / 256\n",
      "# CC  =  216, e-rank =   56, soft rank = 7.026, dead features =    0 / 256\n",
      "# CC  =  250, e-rank =   74, soft rank = 9.305, dead features =    0 / 256\n",
      "# CC  =  256, e-rank =  116, soft rank = 14.702, dead features =    0 / 256\n",
      "# CC  =  256, e-rank =  189, soft rank = 8.600, dead features =    0 / 256\n",
      "# CC  =  256, e-rank =  246, soft rank = 38.495, dead features =    0 / 256\n",
      "Accuracy on test set after epoch 14: 2.94%\n"
     ]
    },
    {
     "name": "stderr",
     "output_type": "stream",
     "text": [
      "100%|██████████████████████████████████████████████████████████████████████| 391/391 [00:37<00:00, 10.40it/s]"
     ]
    },
    {
     "name": "stdout",
     "output_type": "stream",
     "text": [
      "Epoch 15, Train Loss: 0.26362\n"
     ]
    },
    {
     "name": "stderr",
     "output_type": "stream",
     "text": [
      "\n"
     ]
    },
    {
     "name": "stdout",
     "output_type": "stream",
     "text": [
      "# CC  =  164, e-rank =   21, soft rank = 5.774, dead features =    0 / 256\n",
      "# CC  =  214, e-rank =   44, soft rank = 6.502, dead features =    0 / 256\n",
      "# CC  =  222, e-rank =   59, soft rank = 7.201, dead features =    0 / 256\n",
      "# CC  =  252, e-rank =   75, soft rank = 9.454, dead features =    0 / 256\n",
      "# CC  =  256, e-rank =  121, soft rank = 15.005, dead features =    0 / 256\n",
      "# CC  =  256, e-rank =  195, soft rank = 8.284, dead features =    0 / 256\n",
      "# CC  =  256, e-rank =  249, soft rank = 39.690, dead features =    0 / 256\n",
      "Accuracy on test set after epoch 15: 2.89%\n"
     ]
    },
    {
     "name": "stderr",
     "output_type": "stream",
     "text": [
      "100%|██████████████████████████████████████████████████████████████████████| 391/391 [00:37<00:00, 10.39it/s]"
     ]
    },
    {
     "name": "stdout",
     "output_type": "stream",
     "text": [
      "Epoch 16, Train Loss: 0.18091\n"
     ]
    },
    {
     "name": "stderr",
     "output_type": "stream",
     "text": [
      "\n"
     ]
    },
    {
     "name": "stdout",
     "output_type": "stream",
     "text": [
      "# CC  =  161, e-rank =   21, soft rank = 5.795, dead features =    0 / 256\n",
      "# CC  =  218, e-rank =   44, soft rank = 6.636, dead features =    0 / 256\n",
      "# CC  =  220, e-rank =   59, soft rank = 7.193, dead features =    0 / 256\n",
      "# CC  =  250, e-rank =   77, soft rank = 9.166, dead features =    0 / 256\n",
      "# CC  =  256, e-rank =  122, soft rank = 14.523, dead features =    0 / 256\n",
      "# CC  =  256, e-rank =  196, soft rank = 7.922, dead features =    0 / 256\n",
      "# CC  =  256, e-rank =  251, soft rank = 37.906, dead features =    0 / 256\n",
      "Accuracy on test set after epoch 16: 2.36%\n"
     ]
    },
    {
     "name": "stderr",
     "output_type": "stream",
     "text": [
      "100%|██████████████████████████████████████████████████████████████████████| 391/391 [00:37<00:00, 10.40it/s]"
     ]
    },
    {
     "name": "stdout",
     "output_type": "stream",
     "text": [
      "Epoch 17, Train Loss: 0.15264\n"
     ]
    },
    {
     "name": "stderr",
     "output_type": "stream",
     "text": [
      "\n"
     ]
    },
    {
     "name": "stdout",
     "output_type": "stream",
     "text": [
      "# CC  =  157, e-rank =   21, soft rank = 5.757, dead features =    0 / 256\n",
      "# CC  =  216, e-rank =   44, soft rank = 6.620, dead features =    0 / 256\n",
      "# CC  =  222, e-rank =   60, soft rank = 7.320, dead features =    0 / 256\n",
      "# CC  =  252, e-rank =   77, soft rank = 9.410, dead features =    0 / 256\n",
      "# CC  =  256, e-rank =  123, soft rank = 14.586, dead features =    0 / 256\n",
      "# CC  =  256, e-rank =  200, soft rank = 7.786, dead features =    0 / 256\n",
      "# CC  =  256, e-rank =  250, soft rank = 37.983, dead features =    0 / 256\n",
      "Accuracy on test set after epoch 17: 2.48%\n"
     ]
    },
    {
     "name": "stderr",
     "output_type": "stream",
     "text": [
      "100%|██████████████████████████████████████████████████████████████████████| 391/391 [00:37<00:00, 10.40it/s]"
     ]
    },
    {
     "name": "stdout",
     "output_type": "stream",
     "text": [
      "Epoch 18, Train Loss: 0.15876\n"
     ]
    },
    {
     "name": "stderr",
     "output_type": "stream",
     "text": [
      "\n"
     ]
    },
    {
     "name": "stdout",
     "output_type": "stream",
     "text": [
      "# CC  =  156, e-rank =   21, soft rank = 5.781, dead features =    0 / 256\n",
      "# CC  =  214, e-rank =   44, soft rank = 6.525, dead features =    0 / 256\n",
      "# CC  =  223, e-rank =   59, soft rank = 7.132, dead features =    0 / 256\n",
      "# CC  =  251, e-rank =   78, soft rank = 9.485, dead features =    0 / 256\n",
      "# CC  =  256, e-rank =  124, soft rank = 14.482, dead features =    0 / 256\n",
      "# CC  =  256, e-rank =  200, soft rank = 7.561, dead features =    0 / 256\n",
      "# CC  =  256, e-rank =  251, soft rank = 37.043, dead features =    0 / 256\n",
      "Accuracy on test set after epoch 18: 2.54%\n"
     ]
    },
    {
     "name": "stderr",
     "output_type": "stream",
     "text": [
      "100%|██████████████████████████████████████████████████████████████████████| 391/391 [00:37<00:00, 10.40it/s]\n"
     ]
    },
    {
     "name": "stdout",
     "output_type": "stream",
     "text": [
      "Epoch 19, Train Loss: 0.21302\n",
      "# CC  =  162, e-rank =   21, soft rank = 5.748, dead features =    0 / 256\n",
      "# CC  =  209, e-rank =   44, soft rank = 6.424, dead features =    0 / 256\n",
      "# CC  =  220, e-rank =   60, soft rank = 7.033, dead features =    0 / 256\n",
      "# CC  =  251, e-rank =   79, soft rank = 9.339, dead features =    0 / 256\n",
      "# CC  =  256, e-rank =  126, soft rank = 14.645, dead features =    0 / 256\n",
      "# CC  =  256, e-rank =  203, soft rank = 6.900, dead features =    0 / 256\n",
      "# CC  =  256, e-rank =  253, soft rank = 37.251, dead features =    0 / 256\n",
      "Accuracy on test set after epoch 19: 1.97%\n"
     ]
    },
    {
     "name": "stderr",
     "output_type": "stream",
     "text": [
      "100%|██████████████████████████████████████████████████████████████████████| 391/391 [00:37<00:00, 10.39it/s]"
     ]
    },
    {
     "name": "stdout",
     "output_type": "stream",
     "text": [
      "Epoch 20, Train Loss: 0.13362\n"
     ]
    },
    {
     "name": "stderr",
     "output_type": "stream",
     "text": [
      "\n"
     ]
    },
    {
     "name": "stdout",
     "output_type": "stream",
     "text": [
      "# CC  =  159, e-rank =   21, soft rank = 5.786, dead features =    0 / 256\n",
      "# CC  =  212, e-rank =   44, soft rank = 6.703, dead features =    0 / 256\n",
      "# CC  =  224, e-rank =   61, soft rank = 7.488, dead features =    0 / 256\n",
      "# CC  =  250, e-rank =   81, soft rank = 9.527, dead features =    0 / 256\n",
      "# CC  =  256, e-rank =  127, soft rank = 14.577, dead features =    0 / 256\n",
      "# CC  =  256, e-rank =  205, soft rank = 6.896, dead features =    0 / 256\n",
      "# CC  =  256, e-rank =  252, soft rank = 35.377, dead features =    0 / 256\n",
      "Accuracy on test set after epoch 20: 3.94%\n"
     ]
    },
    {
     "name": "stderr",
     "output_type": "stream",
     "text": [
      "100%|██████████████████████████████████████████████████████████████████████| 391/391 [00:37<00:00, 10.41it/s]"
     ]
    },
    {
     "name": "stdout",
     "output_type": "stream",
     "text": [
      "Epoch 21, Train Loss: 0.10753\n"
     ]
    },
    {
     "name": "stderr",
     "output_type": "stream",
     "text": [
      "\n"
     ]
    },
    {
     "name": "stdout",
     "output_type": "stream",
     "text": [
      "# CC  =  148, e-rank =   21, soft rank = 5.735, dead features =    0 / 256\n",
      "# CC  =  213, e-rank =   44, soft rank = 6.487, dead features =    0 / 256\n",
      "# CC  =  223, e-rank =   62, soft rank = 7.497, dead features =    0 / 256\n",
      "# CC  =  251, e-rank =   81, soft rank = 9.524, dead features =    0 / 256\n",
      "# CC  =  256, e-rank =  128, soft rank = 14.662, dead features =    0 / 256\n",
      "# CC  =  256, e-rank =  207, soft rank = 6.734, dead features =    0 / 256\n",
      "# CC  =  256, e-rank =  254, soft rank = 35.922, dead features =    0 / 256\n",
      "Accuracy on test set after epoch 21: 2.76%\n"
     ]
    },
    {
     "name": "stderr",
     "output_type": "stream",
     "text": [
      "100%|██████████████████████████████████████████████████████████████████████| 391/391 [00:37<00:00, 10.40it/s]"
     ]
    },
    {
     "name": "stdout",
     "output_type": "stream",
     "text": [
      "Epoch 22, Train Loss: 0.09273\n"
     ]
    },
    {
     "name": "stderr",
     "output_type": "stream",
     "text": [
      "\n"
     ]
    },
    {
     "name": "stdout",
     "output_type": "stream",
     "text": [
      "# CC  =  156, e-rank =   20, soft rank = 5.741, dead features =    0 / 256\n",
      "# CC  =  206, e-rank =   44, soft rank = 6.698, dead features =    0 / 256\n",
      "# CC  =  226, e-rank =   61, soft rank = 7.403, dead features =    0 / 256\n",
      "# CC  =  251, e-rank =   82, soft rank = 9.550, dead features =    0 / 256\n",
      "# CC  =  256, e-rank =  129, soft rank = 14.565, dead features =    0 / 256\n",
      "# CC  =  256, e-rank =  209, soft rank = 6.892, dead features =    0 / 256\n",
      "# CC  =  256, e-rank =  254, soft rank = 35.922, dead features =    0 / 256\n",
      "Accuracy on test set after epoch 22: 2.59%\n"
     ]
    },
    {
     "name": "stderr",
     "output_type": "stream",
     "text": [
      "100%|██████████████████████████████████████████████████████████████████████| 391/391 [00:37<00:00, 10.38it/s]"
     ]
    },
    {
     "name": "stdout",
     "output_type": "stream",
     "text": [
      "Epoch 23, Train Loss: 0.12112\n"
     ]
    },
    {
     "name": "stderr",
     "output_type": "stream",
     "text": [
      "\n"
     ]
    },
    {
     "name": "stdout",
     "output_type": "stream",
     "text": [
      "# CC  =  154, e-rank =   20, soft rank = 5.758, dead features =    0 / 256\n",
      "# CC  =  210, e-rank =   45, soft rank = 6.650, dead features =    0 / 256\n",
      "# CC  =  224, e-rank =   61, soft rank = 7.547, dead features =    0 / 256\n",
      "# CC  =  252, e-rank =   83, soft rank = 9.776, dead features =    0 / 256\n",
      "# CC  =  256, e-rank =  129, soft rank = 14.313, dead features =    0 / 256\n",
      "# CC  =  256, e-rank =  208, soft rank = 6.656, dead features =    0 / 256\n",
      "# CC  =  256, e-rank =  252, soft rank = 35.326, dead features =    0 / 256\n",
      "Accuracy on test set after epoch 23: 1.69%\n"
     ]
    },
    {
     "name": "stderr",
     "output_type": "stream",
     "text": [
      "100%|██████████████████████████████████████████████████████████████████████| 391/391 [00:37<00:00, 10.40it/s]"
     ]
    },
    {
     "name": "stdout",
     "output_type": "stream",
     "text": [
      "Epoch 24, Train Loss: 0.14980\n"
     ]
    },
    {
     "name": "stderr",
     "output_type": "stream",
     "text": [
      "\n"
     ]
    },
    {
     "name": "stdout",
     "output_type": "stream",
     "text": [
      "# CC  =  143, e-rank =   20, soft rank = 5.726, dead features =    0 / 256\n",
      "# CC  =  211, e-rank =   45, soft rank = 6.560, dead features =    0 / 256\n",
      "# CC  =  222, e-rank =   62, soft rank = 7.429, dead features =    0 / 256\n",
      "# CC  =  253, e-rank =   83, soft rank = 9.730, dead features =    0 / 256\n",
      "# CC  =  256, e-rank =  130, soft rank = 14.088, dead features =    0 / 256\n",
      "# CC  =  256, e-rank =  207, soft rank = 6.344, dead features =    0 / 256\n",
      "# CC  =  256, e-rank =  254, soft rank = 34.734, dead features =    0 / 256\n",
      "Accuracy on test set after epoch 24: 2.14%\n"
     ]
    },
    {
     "name": "stderr",
     "output_type": "stream",
     "text": [
      "100%|██████████████████████████████████████████████████████████████████████| 391/391 [00:37<00:00, 10.40it/s]"
     ]
    },
    {
     "name": "stdout",
     "output_type": "stream",
     "text": [
      "Epoch 25, Train Loss: 0.09602\n"
     ]
    },
    {
     "name": "stderr",
     "output_type": "stream",
     "text": [
      "\n"
     ]
    },
    {
     "name": "stdout",
     "output_type": "stream",
     "text": [
      "# CC  =  149, e-rank =   20, soft rank = 5.681, dead features =    0 / 256\n",
      "# CC  =  214, e-rank =   45, soft rank = 6.527, dead features =    0 / 256\n",
      "# CC  =  225, e-rank =   62, soft rank = 7.272, dead features =    0 / 256\n",
      "# CC  =  252, e-rank =   84, soft rank = 9.328, dead features =    0 / 256\n",
      "# CC  =  256, e-rank =  131, soft rank = 13.836, dead features =    0 / 256\n",
      "# CC  =  256, e-rank =  209, soft rank = 6.347, dead features =    0 / 256\n",
      "# CC  =  256, e-rank =  254, soft rank = 34.029, dead features =    0 / 256\n",
      "Accuracy on test set after epoch 25: 3.86%\n"
     ]
    },
    {
     "name": "stderr",
     "output_type": "stream",
     "text": [
      "100%|██████████████████████████████████████████████████████████████████████| 391/391 [00:37<00:00, 10.40it/s]"
     ]
    },
    {
     "name": "stdout",
     "output_type": "stream",
     "text": [
      "Epoch 26, Train Loss: 0.06965\n"
     ]
    },
    {
     "name": "stderr",
     "output_type": "stream",
     "text": [
      "\n"
     ]
    },
    {
     "name": "stdout",
     "output_type": "stream",
     "text": [
      "# CC  =  146, e-rank =   20, soft rank = 5.710, dead features =    0 / 256\n",
      "# CC  =  213, e-rank =   45, soft rank = 6.665, dead features =    0 / 256\n",
      "# CC  =  225, e-rank =   62, soft rank = 7.490, dead features =    0 / 256\n",
      "# CC  =  252, e-rank =   84, soft rank = 9.719, dead features =    0 / 256\n",
      "# CC  =  256, e-rank =  132, soft rank = 14.097, dead features =    0 / 256\n",
      "# CC  =  256, e-rank =  211, soft rank = 6.330, dead features =    0 / 256\n",
      "# CC  =  256, e-rank =  254, soft rank = 34.310, dead features =    0 / 256\n",
      "Accuracy on test set after epoch 26: 2.83%\n"
     ]
    },
    {
     "name": "stderr",
     "output_type": "stream",
     "text": [
      "100%|██████████████████████████████████████████████████████████████████████| 391/391 [00:37<00:00, 10.40it/s]"
     ]
    },
    {
     "name": "stdout",
     "output_type": "stream",
     "text": [
      "Epoch 27, Train Loss: 0.10885\n"
     ]
    },
    {
     "name": "stderr",
     "output_type": "stream",
     "text": [
      "\n"
     ]
    },
    {
     "name": "stdout",
     "output_type": "stream",
     "text": [
      "# CC  =  156, e-rank =   20, soft rank = 5.672, dead features =    0 / 256\n",
      "# CC  =  212, e-rank =   45, soft rank = 6.656, dead features =    0 / 256\n",
      "# CC  =  224, e-rank =   61, soft rank = 7.368, dead features =    0 / 256\n",
      "# CC  =  251, e-rank =   83, soft rank = 9.688, dead features =    0 / 256\n",
      "# CC  =  256, e-rank =  132, soft rank = 14.114, dead features =    0 / 256\n",
      "# CC  =  256, e-rank =  212, soft rank = 6.236, dead features =    0 / 256\n",
      "# CC  =  256, e-rank =  254, soft rank = 33.326, dead features =    0 / 256\n",
      "Accuracy on test set after epoch 27: 2.13%\n"
     ]
    },
    {
     "name": "stderr",
     "output_type": "stream",
     "text": [
      "100%|██████████████████████████████████████████████████████████████████████| 391/391 [00:37<00:00, 10.40it/s]"
     ]
    },
    {
     "name": "stdout",
     "output_type": "stream",
     "text": [
      "Epoch 28, Train Loss: 0.11675\n"
     ]
    },
    {
     "name": "stderr",
     "output_type": "stream",
     "text": [
      "\n"
     ]
    },
    {
     "name": "stdout",
     "output_type": "stream",
     "text": [
      "# CC  =  147, e-rank =   20, soft rank = 5.671, dead features =    0 / 256\n",
      "# CC  =  215, e-rank =   45, soft rank = 6.712, dead features =    0 / 256\n",
      "# CC  =  226, e-rank =   63, soft rank = 7.687, dead features =    0 / 256\n",
      "# CC  =  250, e-rank =   84, soft rank = 9.769, dead features =    0 / 256\n",
      "# CC  =  256, e-rank =  134, soft rank = 13.758, dead features =    0 / 256\n",
      "# CC  =  256, e-rank =  214, soft rank = 6.173, dead features =    0 / 256\n",
      "# CC  =  256, e-rank =  254, soft rank = 33.160, dead features =    0 / 256\n",
      "Accuracy on test set after epoch 28: 2.17%\n"
     ]
    },
    {
     "name": "stderr",
     "output_type": "stream",
     "text": [
      "100%|██████████████████████████████████████████████████████████████████████| 391/391 [00:37<00:00, 10.40it/s]"
     ]
    },
    {
     "name": "stdout",
     "output_type": "stream",
     "text": [
      "Epoch 29, Train Loss: 0.09010\n"
     ]
    },
    {
     "name": "stderr",
     "output_type": "stream",
     "text": [
      "\n"
     ]
    },
    {
     "name": "stdout",
     "output_type": "stream",
     "text": [
      "# CC  =  144, e-rank =   20, soft rank = 5.703, dead features =    0 / 256\n",
      "# CC  =  215, e-rank =   45, soft rank = 6.758, dead features =    0 / 256\n",
      "# CC  =  225, e-rank =   63, soft rank = 7.584, dead features =    0 / 256\n",
      "# CC  =  252, e-rank =   84, soft rank = 9.496, dead features =    0 / 256\n",
      "# CC  =  256, e-rank =  133, soft rank = 13.190, dead features =    0 / 256\n",
      "# CC  =  256, e-rank =  213, soft rank = 5.987, dead features =    0 / 256\n",
      "# CC  =  256, e-rank =  254, soft rank = 32.003, dead features =    0 / 256\n",
      "Accuracy on test set after epoch 29: 3.12%\n"
     ]
    },
    {
     "name": "stderr",
     "output_type": "stream",
     "text": [
      "100%|██████████████████████████████████████████████████████████████████████| 391/391 [00:37<00:00, 10.41it/s]"
     ]
    },
    {
     "name": "stdout",
     "output_type": "stream",
     "text": [
      "Epoch 30, Train Loss: 0.09110\n"
     ]
    },
    {
     "name": "stderr",
     "output_type": "stream",
     "text": [
      "\n"
     ]
    },
    {
     "name": "stdout",
     "output_type": "stream",
     "text": [
      "# CC  =  149, e-rank =   20, soft rank = 5.624, dead features =    0 / 256\n",
      "# CC  =  214, e-rank =   45, soft rank = 6.686, dead features =    0 / 256\n",
      "# CC  =  228, e-rank =   62, soft rank = 7.643, dead features =    0 / 256\n",
      "# CC  =  253, e-rank =   85, soft rank = 9.870, dead features =    0 / 256\n",
      "# CC  =  256, e-rank =  135, soft rank = 13.619, dead features =    0 / 256\n",
      "# CC  =  256, e-rank =  214, soft rank = 6.005, dead features =    0 / 256\n",
      "# CC  =  256, e-rank =  255, soft rank = 31.567, dead features =    0 / 256\n",
      "Accuracy on test set after epoch 30: 2.98%\n"
     ]
    },
    {
     "name": "stderr",
     "output_type": "stream",
     "text": [
      "100%|██████████████████████████████████████████████████████████████████████| 391/391 [00:37<00:00, 10.40it/s]"
     ]
    },
    {
     "name": "stdout",
     "output_type": "stream",
     "text": [
      "Epoch 31, Train Loss: 0.07908\n"
     ]
    },
    {
     "name": "stderr",
     "output_type": "stream",
     "text": [
      "\n"
     ]
    },
    {
     "name": "stdout",
     "output_type": "stream",
     "text": [
      "# CC  =  142, e-rank =   20, soft rank = 5.626, dead features =    0 / 256\n",
      "# CC  =  217, e-rank =   46, soft rank = 6.778, dead features =    0 / 256\n",
      "# CC  =  229, e-rank =   63, soft rank = 7.768, dead features =    0 / 256\n",
      "# CC  =  252, e-rank =   85, soft rank = 9.639, dead features =    0 / 256\n",
      "# CC  =  256, e-rank =  135, soft rank = 13.635, dead features =    0 / 256\n",
      "# CC  =  256, e-rank =  214, soft rank = 5.991, dead features =    0 / 256\n",
      "# CC  =  256, e-rank =  255, soft rank = 31.086, dead features =    0 / 256\n",
      "Accuracy on test set after epoch 31: 2.83%\n"
     ]
    },
    {
     "name": "stderr",
     "output_type": "stream",
     "text": [
      "100%|██████████████████████████████████████████████████████████████████████| 391/391 [00:37<00:00, 10.39it/s]"
     ]
    },
    {
     "name": "stdout",
     "output_type": "stream",
     "text": [
      "Epoch 32, Train Loss: 0.05976\n"
     ]
    },
    {
     "name": "stderr",
     "output_type": "stream",
     "text": [
      "\n"
     ]
    },
    {
     "name": "stdout",
     "output_type": "stream",
     "text": [
      "# CC  =  141, e-rank =   20, soft rank = 5.618, dead features =    0 / 256\n",
      "# CC  =  216, e-rank =   46, soft rank = 6.767, dead features =    0 / 256\n",
      "# CC  =  231, e-rank =   63, soft rank = 7.724, dead features =    0 / 256\n",
      "# CC  =  253, e-rank =   85, soft rank = 10.072, dead features =    0 / 256\n",
      "# CC  =  256, e-rank =  136, soft rank = 13.553, dead features =    0 / 256\n",
      "# CC  =  256, e-rank =  215, soft rank = 6.020, dead features =    0 / 256\n",
      "# CC  =  256, e-rank =  254, soft rank = 31.688, dead features =    0 / 256\n",
      "Accuracy on test set after epoch 32: 3.24%\n"
     ]
    },
    {
     "name": "stderr",
     "output_type": "stream",
     "text": [
      "100%|██████████████████████████████████████████████████████████████████████| 391/391 [00:37<00:00, 10.40it/s]"
     ]
    },
    {
     "name": "stdout",
     "output_type": "stream",
     "text": [
      "Epoch 33, Train Loss: 0.08020\n"
     ]
    },
    {
     "name": "stderr",
     "output_type": "stream",
     "text": [
      "\n"
     ]
    },
    {
     "name": "stdout",
     "output_type": "stream",
     "text": [
      "# CC  =  147, e-rank =   20, soft rank = 5.631, dead features =    0 / 256\n",
      "# CC  =  216, e-rank =   45, soft rank = 6.578, dead features =    0 / 256\n",
      "# CC  =  229, e-rank =   64, soft rank = 7.488, dead features =    0 / 256\n",
      "# CC  =  253, e-rank =   86, soft rank = 9.712, dead features =    0 / 256\n",
      "# CC  =  256, e-rank =  138, soft rank = 13.450, dead features =    0 / 256\n",
      "# CC  =  256, e-rank =  216, soft rank = 5.843, dead features =    0 / 256\n",
      "# CC  =  256, e-rank =  254, soft rank = 30.630, dead features =    0 / 256\n",
      "Accuracy on test set after epoch 33: 2.88%\n"
     ]
    },
    {
     "name": "stderr",
     "output_type": "stream",
     "text": [
      "100%|██████████████████████████████████████████████████████████████████████| 391/391 [00:37<00:00, 10.39it/s]"
     ]
    },
    {
     "name": "stdout",
     "output_type": "stream",
     "text": [
      "Epoch 34, Train Loss: 0.10483\n"
     ]
    },
    {
     "name": "stderr",
     "output_type": "stream",
     "text": [
      "\n"
     ]
    },
    {
     "name": "stdout",
     "output_type": "stream",
     "text": [
      "# CC  =  139, e-rank =   20, soft rank = 5.611, dead features =    0 / 256\n",
      "# CC  =  218, e-rank =   45, soft rank = 6.649, dead features =    0 / 256\n",
      "# CC  =  229, e-rank =   63, soft rank = 7.580, dead features =    0 / 256\n",
      "# CC  =  251, e-rank =   86, soft rank = 9.737, dead features =    0 / 256\n",
      "# CC  =  256, e-rank =  136, soft rank = 12.611, dead features =    0 / 256\n",
      "# CC  =  256, e-rank =  216, soft rank = 5.742, dead features =    0 / 256\n",
      "# CC  =  256, e-rank =  254, soft rank = 29.536, dead features =    0 / 256\n",
      "Accuracy on test set after epoch 34: 3.51%\n"
     ]
    },
    {
     "name": "stderr",
     "output_type": "stream",
     "text": [
      "100%|██████████████████████████████████████████████████████████████████████| 391/391 [00:37<00:00, 10.40it/s]"
     ]
    },
    {
     "name": "stdout",
     "output_type": "stream",
     "text": [
      "Epoch 35, Train Loss: 0.09099\n"
     ]
    },
    {
     "name": "stderr",
     "output_type": "stream",
     "text": [
      "\n"
     ]
    },
    {
     "name": "stdout",
     "output_type": "stream",
     "text": [
      "# CC  =  139, e-rank =   20, soft rank = 5.569, dead features =    0 / 256\n",
      "# CC  =  222, e-rank =   45, soft rank = 6.701, dead features =    0 / 256\n",
      "# CC  =  227, e-rank =   64, soft rank = 7.523, dead features =    0 / 256\n",
      "# CC  =  252, e-rank =   88, soft rank = 9.652, dead features =    0 / 256\n",
      "# CC  =  256, e-rank =  138, soft rank = 13.301, dead features =    0 / 256\n",
      "# CC  =  256, e-rank =  216, soft rank = 5.540, dead features =    0 / 256\n",
      "# CC  =  256, e-rank =  255, soft rank = 29.057, dead features =    0 / 256\n",
      "Accuracy on test set after epoch 35: 2.07%\n"
     ]
    },
    {
     "name": "stderr",
     "output_type": "stream",
     "text": [
      "100%|██████████████████████████████████████████████████████████████████████| 391/391 [00:37<00:00, 10.41it/s]"
     ]
    },
    {
     "name": "stdout",
     "output_type": "stream",
     "text": [
      "Epoch 36, Train Loss: 0.06491\n"
     ]
    },
    {
     "name": "stderr",
     "output_type": "stream",
     "text": [
      "\n"
     ]
    },
    {
     "name": "stdout",
     "output_type": "stream",
     "text": [
      "# CC  =  137, e-rank =   19, soft rank = 5.627, dead features =    0 / 256\n",
      "# CC  =  216, e-rank =   46, soft rank = 6.701, dead features =    0 / 256\n",
      "# CC  =  227, e-rank =   64, soft rank = 7.551, dead features =    0 / 256\n",
      "# CC  =  251, e-rank =   86, soft rank = 9.689, dead features =    0 / 256\n",
      "# CC  =  256, e-rank =  139, soft rank = 12.927, dead features =    0 / 256\n",
      "# CC  =  256, e-rank =  216, soft rank = 5.555, dead features =    0 / 256\n",
      "# CC  =  256, e-rank =  254, soft rank = 28.927, dead features =    0 / 256\n",
      "Accuracy on test set after epoch 36: 2.64%\n"
     ]
    },
    {
     "name": "stderr",
     "output_type": "stream",
     "text": [
      "100%|██████████████████████████████████████████████████████████████████████| 391/391 [00:37<00:00, 10.38it/s]"
     ]
    },
    {
     "name": "stdout",
     "output_type": "stream",
     "text": [
      "Epoch 37, Train Loss: 0.05846\n"
     ]
    },
    {
     "name": "stderr",
     "output_type": "stream",
     "text": [
      "\n"
     ]
    },
    {
     "name": "stdout",
     "output_type": "stream",
     "text": [
      "# CC  =  131, e-rank =   19, soft rank = 5.558, dead features =    0 / 256\n",
      "# CC  =  213, e-rank =   45, soft rank = 6.752, dead features =    0 / 256\n",
      "# CC  =  226, e-rank =   64, soft rank = 7.771, dead features =    0 / 256\n",
      "# CC  =  251, e-rank =   87, soft rank = 9.759, dead features =    0 / 256\n",
      "# CC  =  256, e-rank =  139, soft rank = 13.411, dead features =    0 / 256\n",
      "# CC  =  256, e-rank =  219, soft rank = 5.628, dead features =    0 / 256\n",
      "# CC  =  256, e-rank =  255, soft rank = 29.098, dead features =    0 / 256\n",
      "Accuracy on test set after epoch 37: 2.89%\n"
     ]
    },
    {
     "name": "stderr",
     "output_type": "stream",
     "text": [
      "100%|██████████████████████████████████████████████████████████████████████| 391/391 [00:37<00:00, 10.40it/s]"
     ]
    },
    {
     "name": "stdout",
     "output_type": "stream",
     "text": [
      "Epoch 38, Train Loss: 0.06078\n"
     ]
    },
    {
     "name": "stderr",
     "output_type": "stream",
     "text": [
      "\n"
     ]
    },
    {
     "name": "stdout",
     "output_type": "stream",
     "text": [
      "# CC  =  143, e-rank =   19, soft rank = 5.588, dead features =    0 / 256\n",
      "# CC  =  217, e-rank =   46, soft rank = 6.763, dead features =    0 / 256\n",
      "# CC  =  225, e-rank =   64, soft rank = 7.713, dead features =    0 / 256\n",
      "# CC  =  250, e-rank =   88, soft rank = 9.660, dead features =    0 / 256\n",
      "# CC  =  256, e-rank =  139, soft rank = 12.969, dead features =    0 / 256\n",
      "# CC  =  256, e-rank =  219, soft rank = 5.543, dead features =    0 / 256\n",
      "# CC  =  256, e-rank =  255, soft rank = 29.048, dead features =    0 / 256\n",
      "Accuracy on test set after epoch 38: 2.34%\n"
     ]
    },
    {
     "name": "stderr",
     "output_type": "stream",
     "text": [
      "100%|██████████████████████████████████████████████████████████████████████| 391/391 [00:37<00:00, 10.38it/s]"
     ]
    },
    {
     "name": "stdout",
     "output_type": "stream",
     "text": [
      "Epoch 39, Train Loss: 0.07687\n"
     ]
    },
    {
     "name": "stderr",
     "output_type": "stream",
     "text": [
      "\n"
     ]
    },
    {
     "name": "stdout",
     "output_type": "stream",
     "text": [
      "# CC  =  131, e-rank =   19, soft rank = 5.583, dead features =    0 / 256\n",
      "# CC  =  216, e-rank =   45, soft rank = 6.939, dead features =    0 / 256\n",
      "# CC  =  227, e-rank =   64, soft rank = 7.892, dead features =    0 / 256\n",
      "# CC  =  250, e-rank =   88, soft rank = 9.781, dead features =    0 / 256\n",
      "# CC  =  256, e-rank =  140, soft rank = 13.247, dead features =    0 / 256\n",
      "# CC  =  256, e-rank =  220, soft rank = 5.657, dead features =    0 / 256\n",
      "# CC  =  256, e-rank =  256, soft rank = 27.542, dead features =    0 / 256\n",
      "Accuracy on test set after epoch 39: 2.93%\n"
     ]
    },
    {
     "name": "stderr",
     "output_type": "stream",
     "text": [
      "100%|██████████████████████████████████████████████████████████████████████| 391/391 [00:37<00:00, 10.39it/s]"
     ]
    },
    {
     "name": "stdout",
     "output_type": "stream",
     "text": [
      "Epoch 40, Train Loss: 0.07582\n"
     ]
    },
    {
     "name": "stderr",
     "output_type": "stream",
     "text": [
      "\n"
     ]
    },
    {
     "name": "stdout",
     "output_type": "stream",
     "text": [
      "# CC  =  126, e-rank =   19, soft rank = 5.514, dead features =    0 / 256\n",
      "# CC  =  217, e-rank =   46, soft rank = 6.606, dead features =    0 / 256\n",
      "# CC  =  232, e-rank =   64, soft rank = 7.749, dead features =    0 / 256\n",
      "# CC  =  251, e-rank =   88, soft rank = 9.749, dead features =    0 / 256\n",
      "# CC  =  256, e-rank =  140, soft rank = 12.738, dead features =    0 / 256\n",
      "# CC  =  256, e-rank =  218, soft rank = 5.612, dead features =    0 / 256\n",
      "# CC  =  256, e-rank =  255, soft rank = 27.459, dead features =    0 / 256\n",
      "Accuracy on test set after epoch 40: 3.20%\n"
     ]
    },
    {
     "name": "stderr",
     "output_type": "stream",
     "text": [
      "100%|██████████████████████████████████████████████████████████████████████| 391/391 [00:37<00:00, 10.37it/s]"
     ]
    },
    {
     "name": "stdout",
     "output_type": "stream",
     "text": [
      "Epoch 41, Train Loss: 0.06718\n"
     ]
    },
    {
     "name": "stderr",
     "output_type": "stream",
     "text": [
      "\n"
     ]
    },
    {
     "name": "stdout",
     "output_type": "stream",
     "text": [
      "# CC  =  138, e-rank =   18, soft rank = 5.529, dead features =    0 / 256\n",
      "# CC  =  213, e-rank =   46, soft rank = 6.611, dead features =    0 / 256\n",
      "# CC  =  229, e-rank =   64, soft rank = 7.533, dead features =    0 / 256\n",
      "# CC  =  251, e-rank =   88, soft rank = 9.712, dead features =    0 / 256\n",
      "# CC  =  256, e-rank =  140, soft rank = 12.747, dead features =    0 / 256\n",
      "# CC  =  256, e-rank =  219, soft rank = 5.484, dead features =    0 / 256\n",
      "# CC  =  256, e-rank =  256, soft rank = 26.884, dead features =    0 / 256\n",
      "Accuracy on test set after epoch 41: 2.66%\n"
     ]
    },
    {
     "name": "stderr",
     "output_type": "stream",
     "text": [
      " 60%|█████████████████████████████████████████▋                            | 233/391 [00:22<00:15, 10.35it/s]\n"
     ]
    },
    {
     "ename": "KeyboardInterrupt",
     "evalue": "",
     "output_type": "error",
     "traceback": [
      "\u001b[0;31m---------------------------------------------------------------------------\u001b[0m",
      "\u001b[0;31mKeyboardInterrupt\u001b[0m                         Traceback (most recent call last)",
      "Cell \u001b[0;32mIn[1], line 188\u001b[0m\n\u001b[1;32m    185\u001b[0m     loss\u001b[38;5;241m.\u001b[39mbackward()  \u001b[38;5;66;03m# Backpropagation\u001b[39;00m\n\u001b[1;32m    186\u001b[0m     optimizer\u001b[38;5;241m.\u001b[39mstep()  \u001b[38;5;66;03m# Update parameters\u001b[39;00m\n\u001b[0;32m--> 188\u001b[0m     running_loss \u001b[38;5;241m+\u001b[39m\u001b[38;5;241m=\u001b[39m \u001b[43mloss\u001b[49m\u001b[38;5;241;43m.\u001b[39;49m\u001b[43mitem\u001b[49m\u001b[43m(\u001b[49m\u001b[43m)\u001b[49m\n\u001b[1;32m    189\u001b[0m \u001b[38;5;28mprint\u001b[39m(\u001b[38;5;124mf\u001b[39m\u001b[38;5;124m'\u001b[39m\u001b[38;5;124mEpoch \u001b[39m\u001b[38;5;132;01m{\u001b[39;00mepoch\u001b[38;5;250m \u001b[39m\u001b[38;5;241m+\u001b[39m\u001b[38;5;250m \u001b[39m\u001b[38;5;241m1\u001b[39m\u001b[38;5;132;01m}\u001b[39;00m\u001b[38;5;124m, Train Loss: \u001b[39m\u001b[38;5;132;01m{\u001b[39;00mrunning_loss\u001b[38;5;250m \u001b[39m\u001b[38;5;241m/\u001b[39m\u001b[38;5;250m \u001b[39m\u001b[38;5;28mlen\u001b[39m(trainloader)\u001b[38;5;132;01m:\u001b[39;00m\u001b[38;5;124m.5f\u001b[39m\u001b[38;5;132;01m}\u001b[39;00m\u001b[38;5;124m'\u001b[39m)\n\u001b[1;32m    190\u001b[0m running_loss \u001b[38;5;241m=\u001b[39m \u001b[38;5;241m0.0\u001b[39m\n",
      "\u001b[0;31mKeyboardInterrupt\u001b[0m: "
     ]
    }
   ],
   "source": [
    "import torch\n",
    "import torch.nn as nn\n",
    "import torch.optim as optim\n",
    "import torch.nn.functional as F\n",
    "import torchvision\n",
    "import torchvision.transforms as transforms\n",
    "import tqdm\n",
    "\n",
    "import numpy as np\n",
    "from scipy.sparse.csgraph import connected_components\n",
    "\n",
    "# -------------------------\n",
    "# Configurable CNN with Batch Normalization and Hidden Activations Collection\n",
    "# -------------------------\n",
    "class ConfigurableCNN(nn.Module):\n",
    "    def __init__(self, conv_channels, fc_hidden_units=512, dropout_p=0.25,\n",
    "                 num_classes=10, input_size=32, input_channels=3, use_batchnorm=True):\n",
    "        \"\"\"\n",
    "        Args:\n",
    "            conv_channels (list of int): List of output channels for each convolutional layer.\n",
    "            fc_hidden_units (int): Number of neurons in the hidden fully connected layer.\n",
    "            dropout_p (float): Dropout probability.\n",
    "            num_classes (int): Number of output classes.\n",
    "            input_size (int): Height/width of the input images (assumed square).\n",
    "            input_channels (int): Number of channels in the input images.\n",
    "            use_batchnorm (bool): Whether to use batch normalization after each convolution.\n",
    "        \"\"\"\n",
    "        super(ConfigurableCNN, self).__init__()\n",
    "        self.use_batchnorm = use_batchnorm\n",
    "        self.conv_layers = nn.ModuleList()\n",
    "        if self.use_batchnorm:\n",
    "            self.bn_layers = nn.ModuleList()\n",
    "        \n",
    "        in_channels = input_channels  # For colored images, this is 3.\n",
    "        self.num_pool = len(conv_channels)  # One pooling per conv layer\n",
    "        \n",
    "        # Create convolutional layers along with optional batch normalization.\n",
    "        for out_channels in conv_channels:\n",
    "            self.conv_layers.append(nn.Conv2d(in_channels, out_channels, kernel_size=3, padding=1))\n",
    "            if self.use_batchnorm:\n",
    "                self.bn_layers.append(nn.BatchNorm2d(out_channels))\n",
    "            in_channels = out_channels\n",
    "        \n",
    "        # Define a max pooling layer (2x2) applied after each conv block.\n",
    "        self.pool = nn.MaxPool2d(2, 2)\n",
    "        \n",
    "        # Compute the spatial size after all pooling operations.\n",
    "        final_size = input_size // (2 ** self.num_pool)\n",
    "        self.flattened_size = conv_channels[-1] * final_size * final_size\n",
    "        \n",
    "        # Fully connected layers.\n",
    "        self.fc1 = nn.Linear(self.flattened_size, fc_hidden_units)\n",
    "        self.fc2 = nn.Linear(fc_hidden_units, num_classes)\n",
    "        \n",
    "        # Dropout layer for regularization.\n",
    "        self.dropout = nn.Dropout(dropout_p)\n",
    "        self.act = F.tanh  # You can change this activation if desired\n",
    "\n",
    "    def forward(self, x, return_hidden=False):\n",
    "        hidden_activations = []  # List to collect hidden activations\n",
    "\n",
    "        # Pass through each convolutional layer\n",
    "        for idx, conv in enumerate(self.conv_layers):\n",
    "            x = conv(x)\n",
    "            if self.use_batchnorm:\n",
    "                x = self.bn_layers[idx](x)\n",
    "            if return_hidden:\n",
    "                hidden_activations.append(x.detach().cpu())\n",
    "            x = self.act(x)\n",
    "            x = self.pool(x)\n",
    "        \n",
    "        x = self.dropout(x)\n",
    "        x = x.view(x.size(0), -1)  # Flatten the tensor\n",
    "\n",
    "        # First fully connected layer with activation\n",
    "        x = self.fc1(x)\n",
    "        x = self.act(x)\n",
    "        x = self.dropout(x)\n",
    "\n",
    "        # Final fully connected layer (logits)\n",
    "        x = self.fc2(x)\n",
    "        \n",
    "        if return_hidden:\n",
    "            return x, hidden_activations\n",
    "        return x\n",
    "\n",
    "\n",
    "def eval_features(model, testloader, thresh=0.9, tol=1e-10, rank_atol=1e-2, dead_tol=0.05):\n",
    "    model.eval()\n",
    "    sample_inputs, _ = next(iter(testloader))\n",
    "    sample_inputs = sample_inputs.to(device)\n",
    "    with torch.no_grad():\n",
    "        _, hidden_activations = model(sample_inputs, return_hidden=True)\n",
    "        \n",
    "    for act in hidden_activations:\n",
    "        # Reshape: (batch, channels, H, W) --> (channels, batch * H * W)\n",
    "        A = act.transpose(0, 1).flatten(1)\n",
    "        # Normalize each row (avoid division by zero with a small epsilon)\n",
    "        # A = A - A.mean(dim=1,keepdim=True)\n",
    "        A = A / (A.norm(dim=1, keepdim=True) + tol)\n",
    "        stds = A.std(dim=1) / A.abs().mean(dim=1)\n",
    "        # print(stds.shape, stds)\n",
    "        dead_features = (stds<dead_tol).sum()\n",
    "        # Compute cosine similarity matrix\n",
    "        C = A @ A.t()\n",
    "        rank = torch.linalg.matrix_rank(C, atol=rank_atol)\n",
    "        soft_rank = torch.trace(C)**2 / torch.trace(C @ C)\n",
    "        # Remove self-similarity by zeroing the diagonal and take absolute value.\n",
    "        C.fill_diagonal_(0)\n",
    "        C = C.abs()\n",
    "        # Create an adjacency matrix by thresholding.\n",
    "        Adj = (C > thresh).float()\n",
    "        \n",
    "        # Convert to numpy array (scipy works with numpy arrays)\n",
    "        Adj_np = Adj.numpy()\n",
    "        # Compute the number of connected components using SciPy's stable routine.\n",
    "        n_components, labels = connected_components(csgraph=Adj_np, directed=False)\n",
    "        R = Adj_np.shape[0]\n",
    "        print(f'# CC  = {n_components:4}, e-rank = {rank:4}, soft rank = {soft_rank:4.3f}, dead features = {dead_features:4} / {R}')\n",
    "\n",
    "# -------------------------\n",
    "# Data Preparation (Tiny ImageNet with Selected Classes)\n",
    "# -------------------------\n",
    "# Specify which classes to use.\n",
    "selected_classes = range(50)  # Set to None to use all available classes\n",
    "\n",
    "# Define the image size for resizing\n",
    "input_size = 128\n",
    "\n",
    "transform = transforms.Compose([\n",
    "    transforms.Resize((input_size, input_size)),  # Resize images to input_size x input_size\n",
    "    transforms.ToTensor(),\n",
    "    transforms.Normalize((0.5, 0.5, 0.5), (0.5, 0.5, 0.5))\n",
    "])\n",
    "\n",
    "# Load the Tiny ImageNet datasets using ImageFolder.\n",
    "# Adjust the root paths to where you have Tiny ImageNet stored.\n",
    "trainset = torchvision.datasets.ImageFolder(root='./data/tiny-imagenet-200/train', transform=transform)\n",
    "testset = torchvision.datasets.ImageFolder(root='./data/tiny-imagenet-200/val', transform=transform)\n",
    "\n",
    "# If selected_classes is specified, filter the dataset to include only those classes.\n",
    "if selected_classes is not None:\n",
    "    train_indices = [i for i, (_, label) in enumerate(trainset.samples) if label in selected_classes]\n",
    "    trainset = torch.utils.data.Subset(trainset, train_indices)\n",
    "    test_indices = [i for i, (_, label) in enumerate(testset.samples) if label in selected_classes]\n",
    "    testset = torch.utils.data.Subset(testset, test_indices)\n",
    "    num_used_classes = len(selected_classes)\n",
    "else:\n",
    "    num_used_classes = len(trainset.classes)\n",
    "\n",
    "trainloader = torch.utils.data.DataLoader(trainset, batch_size=64,\n",
    "                                          shuffle=True, num_workers=2)\n",
    "testloader = torch.utils.data.DataLoader(testset, batch_size=128,\n",
    "                                         shuffle=False, num_workers=2)\n",
    "\n",
    "# -------------------------\n",
    "# Model Configuration and Instantiation\n",
    "# -------------------------\n",
    "conv_channels = [256] * 7  # Example configuration\n",
    "fc_hidden_units = conv_channels[0]\n",
    "dropout_p = 0.0\n",
    "use_batchnorm = True\n",
    "\n",
    "device = torch.device(\"cuda:0\" if torch.cuda.is_available() else \"cpu\")\n",
    "net = ConfigurableCNN(conv_channels, fc_hidden_units, dropout_p,\n",
    "                      num_classes=num_used_classes, input_size=input_size, input_channels=3,\n",
    "                      use_batchnorm=use_batchnorm).to(device)\n",
    "\n",
    "criterion = nn.CrossEntropyLoss()\n",
    "optimizer = optim.Adam(net.parameters(), lr=0.001)\n",
    "\n",
    "# -------------------------\n",
    "# Training Loop\n",
    "# -------------------------\n",
    "num_epochs = 100  # Adjust the number of epochs as needed\n",
    "for epoch in range(num_epochs):\n",
    "    net.train()\n",
    "    running_loss = 0.0\n",
    "    for i, data in tqdm.tqdm(enumerate(trainloader, 0), total=len(trainloader)):\n",
    "        inputs, labels = data[0].to(device), data[1].to(device)\n",
    "        \n",
    "        optimizer.zero_grad()  # Zero the parameter gradients\n",
    "        outputs = net(inputs)   # Forward pass\n",
    "        loss = criterion(outputs, labels)  # Compute loss\n",
    "        loss.backward()  # Backpropagation\n",
    "        optimizer.step()  # Update parameters\n",
    "        \n",
    "        running_loss += loss.item()\n",
    "    print(f'Epoch {epoch + 1}, Train Loss: {running_loss / len(trainloader):.5f}')\n",
    "    running_loss = 0.0\n",
    "\n",
    "    # Optionally, evaluate feature connectivity\n",
    "    eval_features(net, testloader, thresh=0.95)\n",
    "    \n",
    "    # -------------------------\n",
    "    # Validation after each epoch\n",
    "    # -------------------------\n",
    "    net.eval()\n",
    "    correct = 0\n",
    "    total = 0\n",
    "    with torch.no_grad():\n",
    "        for data in testloader:\n",
    "            images, labels = data[0].to(device), data[1].to(device)\n",
    "            outputs = net(images)\n",
    "            _, predicted = torch.max(outputs.data, 1)\n",
    "            total += labels.size(0)\n",
    "            correct += (predicted == labels).sum().item()\n",
    "    accuracy = 100 * correct / total\n",
    "    print(f'Accuracy on test set after epoch {epoch + 1}: {accuracy:.2f}%')\n",
    "\n",
    "print(\"Training complete!\")\n",
    "x\n",
    "# -------------------------\n",
    "# Example: Obtaining Hidden Activations\n",
    "# -------------------------\n",
    "net.eval()\n",
    "sample_inputs, _ = next(iter(testloader))\n",
    "sample_inputs = sample_inputs.to(device)\n",
    "with torch.no_grad():\n",
    "    output, hidden_activations = net(sample_inputs, return_hidden=True)\n",
    "print(\"Collected {} hidden activations.\".format(len(hidden_activations)))\n"
   ]
  },
  {
   "cell_type": "code",
   "execution_count": null,
   "id": "b722580a-72c7-465b-9090-8727c6a71f85",
   "metadata": {},
   "outputs": [],
   "source": []
  },
  {
   "cell_type": "code",
   "execution_count": null,
   "id": "7b8a5bea-cf76-473b-92dc-6247337d3dfc",
   "metadata": {},
   "outputs": [],
   "source": []
  },
  {
   "cell_type": "code",
   "execution_count": null,
   "id": "fddf3d26-0202-4c11-9aa7-7b0aeeabb577",
   "metadata": {},
   "outputs": [],
   "source": []
  },
  {
   "cell_type": "code",
   "execution_count": null,
   "id": "17c8e32d-a47c-4f59-b60b-a35a0ef2dedc",
   "metadata": {},
   "outputs": [],
   "source": []
  },
  {
   "cell_type": "code",
   "execution_count": null,
   "id": "60ec7dc8-5b84-4ccf-a739-509042a84e10",
   "metadata": {},
   "outputs": [],
   "source": []
  }
 ],
 "metadata": {
  "kernelspec": {
   "display_name": "Python 3",
   "language": "python",
   "name": "python3"
  },
  "language_info": {
   "codemirror_mode": {
    "name": "ipython",
    "version": 3
   },
   "file_extension": ".py",
   "mimetype": "text/x-python",
   "name": "python",
   "nbconvert_exporter": "python",
   "pygments_lexer": "ipython3",
   "version": "3.10.14"
  }
 },
 "nbformat": 4,
 "nbformat_minor": 5
}
