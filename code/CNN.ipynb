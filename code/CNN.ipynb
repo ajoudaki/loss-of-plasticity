{
 "cells": [
  {
   "cell_type": "code",
   "execution_count": null,
   "id": "ee3419b6-664f-404a-b1a0-10a14db8463f",
   "metadata": {},
   "outputs": [
    {
     "name": "stderr",
     "output_type": "stream",
     "text": [
      "100%|███████████████████████████████████████████████████████████████████████████████████████████████████████████████████████████████████████████████████████| 20/20 [00:02<00:00,  9.63it/s]"
     ]
    },
    {
     "name": "stdout",
     "output_type": "stream",
     "text": [
      "Epoch 1, Train Loss: 1.505\n"
     ]
    },
    {
     "name": "stderr",
     "output_type": "stream",
     "text": [
      "\n"
     ]
    },
    {
     "name": "stdout",
     "output_type": "stream",
     "text": [
      "# CC  = 56, e-rank = 17, soft rank = 2.387, dead features = 0 / 128\n",
      "# CC  = 26, e-rank = 19, soft rank = 1.816, dead features = 0 / 128\n",
      "# CC  = 14, e-rank = 19, soft rank = 1.658, dead features = 0 / 128\n",
      "# CC  = 19, e-rank = 23, soft rank = 2.294, dead features = 0 / 128\n",
      "# CC  = 52, e-rank = 33, soft rank = 3.200, dead features = 0 / 128\n",
      "# CC  = 83, e-rank = 35, soft rank = 2.983, dead features = 0 / 128\n",
      "# CC  = 94, e-rank = 30, soft rank = 3.216, dead features = 0 / 128\n",
      "Accuracy on test set after epoch 1: 3.90%\n"
     ]
    },
    {
     "name": "stderr",
     "output_type": "stream",
     "text": [
      "100%|███████████████████████████████████████████████████████████████████████████████████████████████████████████████████████████████████████████████████████| 20/20 [00:01<00:00, 11.27it/s]"
     ]
    },
    {
     "name": "stdout",
     "output_type": "stream",
     "text": [
      "Epoch 2, Train Loss: 1.241\n"
     ]
    },
    {
     "name": "stderr",
     "output_type": "stream",
     "text": [
      "\n"
     ]
    },
    {
     "name": "stdout",
     "output_type": "stream",
     "text": [
      "# CC  = 38, e-rank = 16, soft rank = 2.266, dead features = 0 / 128\n",
      "# CC  = 30, e-rank = 20, soft rank = 1.963, dead features = 0 / 128\n",
      "# CC  = 6, e-rank = 20, soft rank = 2.000, dead features = 0 / 128\n",
      "# CC  = 22, e-rank = 23, soft rank = 3.018, dead features = 0 / 128\n",
      "# CC  = 37, e-rank = 25, soft rank = 2.952, dead features = 0 / 128\n",
      "# CC  = 82, e-rank = 30, soft rank = 3.049, dead features = 0 / 128\n",
      "# CC  = 109, e-rank = 29, soft rank = 3.387, dead features = 0 / 128\n",
      "Accuracy on test set after epoch 2: 13.30%\n"
     ]
    },
    {
     "name": "stderr",
     "output_type": "stream",
     "text": [
      "100%|███████████████████████████████████████████████████████████████████████████████████████████████████████████████████████████████████████████████████████| 20/20 [00:01<00:00, 11.25it/s]"
     ]
    },
    {
     "name": "stdout",
     "output_type": "stream",
     "text": [
      "Epoch 3, Train Loss: 1.164\n"
     ]
    },
    {
     "name": "stderr",
     "output_type": "stream",
     "text": [
      "\n"
     ]
    },
    {
     "name": "stdout",
     "output_type": "stream",
     "text": [
      "# CC  = 40, e-rank = 15, soft rank = 2.070, dead features = 0 / 128\n",
      "# CC  = 24, e-rank = 19, soft rank = 1.745, dead features = 0 / 128\n",
      "# CC  = 5, e-rank = 18, soft rank = 1.645, dead features = 0 / 128\n",
      "# CC  = 14, e-rank = 24, soft rank = 2.452, dead features = 0 / 128\n",
      "# CC  = 48, e-rank = 27, soft rank = 2.978, dead features = 0 / 128\n",
      "# CC  = 116, e-rank = 34, soft rank = 4.350, dead features = 0 / 128\n",
      "# CC  = 125, e-rank = 34, soft rank = 4.332, dead features = 0 / 128\n",
      "Accuracy on test set after epoch 3: 23.06%\n"
     ]
    },
    {
     "name": "stderr",
     "output_type": "stream",
     "text": [
      "100%|███████████████████████████████████████████████████████████████████████████████████████████████████████████████████████████████████████████████████████| 20/20 [00:01<00:00, 11.31it/s]"
     ]
    },
    {
     "name": "stdout",
     "output_type": "stream",
     "text": [
      "Epoch 4, Train Loss: 1.141\n"
     ]
    },
    {
     "name": "stderr",
     "output_type": "stream",
     "text": [
      "\n"
     ]
    },
    {
     "name": "stdout",
     "output_type": "stream",
     "text": [
      "# CC  = 38, e-rank = 15, soft rank = 2.344, dead features = 0 / 128\n",
      "# CC  = 29, e-rank = 20, soft rank = 2.109, dead features = 0 / 128\n",
      "# CC  = 13, e-rank = 19, soft rank = 2.207, dead features = 0 / 128\n",
      "# CC  = 21, e-rank = 22, soft rank = 3.202, dead features = 0 / 128\n",
      "# CC  = 37, e-rank = 24, soft rank = 3.335, dead features = 0 / 128\n",
      "# CC  = 115, e-rank = 32, soft rank = 4.699, dead features = 0 / 128\n",
      "# CC  = 120, e-rank = 34, soft rank = 3.541, dead features = 0 / 128\n",
      "Accuracy on test set after epoch 4: 24.79%\n"
     ]
    },
    {
     "name": "stderr",
     "output_type": "stream",
     "text": [
      "100%|███████████████████████████████████████████████████████████████████████████████████████████████████████████████████████████████████████████████████████| 20/20 [00:01<00:00, 11.21it/s]"
     ]
    },
    {
     "name": "stdout",
     "output_type": "stream",
     "text": [
      "Epoch 5, Train Loss: 1.081\n"
     ]
    },
    {
     "name": "stderr",
     "output_type": "stream",
     "text": [
      "\n"
     ]
    },
    {
     "name": "stdout",
     "output_type": "stream",
     "text": [
      "# CC  = 37, e-rank = 15, soft rank = 2.209, dead features = 0 / 128\n",
      "# CC  = 34, e-rank = 19, soft rank = 2.054, dead features = 0 / 128\n",
      "# CC  = 23, e-rank = 20, soft rank = 2.081, dead features = 0 / 128\n",
      "# CC  = 34, e-rank = 23, soft rank = 2.934, dead features = 0 / 128\n",
      "# CC  = 56, e-rank = 25, soft rank = 3.308, dead features = 0 / 128\n",
      "# CC  = 115, e-rank = 34, soft rank = 5.319, dead features = 0 / 128\n",
      "# CC  = 127, e-rank = 37, soft rank = 4.375, dead features = 0 / 128\n",
      "Accuracy on test set after epoch 5: 41.39%\n"
     ]
    },
    {
     "name": "stderr",
     "output_type": "stream",
     "text": [
      "100%|███████████████████████████████████████████████████████████████████████████████████████████████████████████████████████████████████████████████████████| 20/20 [00:01<00:00, 11.22it/s]"
     ]
    },
    {
     "name": "stdout",
     "output_type": "stream",
     "text": [
      "Epoch 6, Train Loss: 0.988\n"
     ]
    },
    {
     "name": "stderr",
     "output_type": "stream",
     "text": [
      "\n"
     ]
    },
    {
     "name": "stdout",
     "output_type": "stream",
     "text": [
      "# CC  = 32, e-rank = 14, soft rank = 2.229, dead features = 0 / 128\n",
      "# CC  = 46, e-rank = 20, soft rank = 2.184, dead features = 0 / 128\n",
      "# CC  = 20, e-rank = 20, soft rank = 2.049, dead features = 0 / 128\n",
      "# CC  = 23, e-rank = 21, soft rank = 2.628, dead features = 0 / 128\n",
      "# CC  = 69, e-rank = 26, soft rank = 3.737, dead features = 0 / 128\n",
      "# CC  = 124, e-rank = 36, soft rank = 5.965, dead features = 0 / 128\n",
      "# CC  = 128, e-rank = 38, soft rank = 4.613, dead features = 0 / 128\n",
      "Accuracy on test set after epoch 6: 15.02%\n"
     ]
    },
    {
     "name": "stderr",
     "output_type": "stream",
     "text": [
      "100%|███████████████████████████████████████████████████████████████████████████████████████████████████████████████████████████████████████████████████████| 20/20 [00:01<00:00, 11.19it/s]"
     ]
    },
    {
     "name": "stdout",
     "output_type": "stream",
     "text": [
      "Epoch 7, Train Loss: 0.925\n"
     ]
    },
    {
     "name": "stderr",
     "output_type": "stream",
     "text": [
      "\n"
     ]
    },
    {
     "name": "stdout",
     "output_type": "stream",
     "text": [
      "# CC  = 46, e-rank = 15, soft rank = 2.361, dead features = 0 / 128\n",
      "# CC  = 48, e-rank = 22, soft rank = 2.514, dead features = 0 / 128\n",
      "# CC  = 49, e-rank = 22, soft rank = 2.822, dead features = 0 / 128\n",
      "# CC  = 36, e-rank = 22, soft rank = 3.198, dead features = 0 / 128\n",
      "# CC  = 79, e-rank = 26, soft rank = 4.148, dead features = 0 / 128\n",
      "# CC  = 124, e-rank = 37, soft rank = 6.756, dead features = 0 / 128\n",
      "# CC  = 127, e-rank = 40, soft rank = 4.972, dead features = 0 / 128\n",
      "Accuracy on test set after epoch 7: 26.06%\n"
     ]
    },
    {
     "name": "stderr",
     "output_type": "stream",
     "text": [
      "100%|███████████████████████████████████████████████████████████████████████████████████████████████████████████████████████████████████████████████████████| 20/20 [00:01<00:00, 11.26it/s]"
     ]
    },
    {
     "name": "stdout",
     "output_type": "stream",
     "text": [
      "Epoch 8, Train Loss: 0.925\n"
     ]
    },
    {
     "name": "stderr",
     "output_type": "stream",
     "text": [
      "\n"
     ]
    },
    {
     "name": "stdout",
     "output_type": "stream",
     "text": [
      "# CC  = 41, e-rank = 15, soft rank = 2.565, dead features = 0 / 128\n",
      "# CC  = 52, e-rank = 19, soft rank = 2.542, dead features = 0 / 128\n",
      "# CC  = 51, e-rank = 23, soft rank = 2.796, dead features = 0 / 128\n",
      "# CC  = 49, e-rank = 24, soft rank = 3.259, dead features = 0 / 128\n",
      "# CC  = 87, e-rank = 29, soft rank = 4.289, dead features = 0 / 128\n",
      "# CC  = 125, e-rank = 40, soft rank = 7.289, dead features = 0 / 128\n",
      "# CC  = 127, e-rank = 47, soft rank = 5.313, dead features = 0 / 128\n",
      "Accuracy on test set after epoch 8: 27.22%\n"
     ]
    },
    {
     "name": "stderr",
     "output_type": "stream",
     "text": [
      "100%|███████████████████████████████████████████████████████████████████████████████████████████████████████████████████████████████████████████████████████| 20/20 [00:01<00:00, 11.26it/s]"
     ]
    },
    {
     "name": "stdout",
     "output_type": "stream",
     "text": [
      "Epoch 9, Train Loss: 0.859\n"
     ]
    },
    {
     "name": "stderr",
     "output_type": "stream",
     "text": [
      "\n"
     ]
    },
    {
     "name": "stdout",
     "output_type": "stream",
     "text": [
      "# CC  = 41, e-rank = 14, soft rank = 2.630, dead features = 0 / 128\n",
      "# CC  = 39, e-rank = 20, soft rank = 2.588, dead features = 0 / 128\n",
      "# CC  = 38, e-rank = 21, soft rank = 2.738, dead features = 0 / 128\n",
      "# CC  = 43, e-rank = 23, soft rank = 3.148, dead features = 0 / 128\n",
      "# CC  = 83, e-rank = 27, soft rank = 4.214, dead features = 0 / 128\n",
      "# CC  = 123, e-rank = 42, soft rank = 7.043, dead features = 0 / 128\n",
      "# CC  = 128, e-rank = 46, soft rank = 4.952, dead features = 0 / 128\n",
      "Accuracy on test set after epoch 9: 25.55%\n"
     ]
    },
    {
     "name": "stderr",
     "output_type": "stream",
     "text": [
      "100%|███████████████████████████████████████████████████████████████████████████████████████████████████████████████████████████████████████████████████████| 20/20 [00:01<00:00, 11.17it/s]"
     ]
    },
    {
     "name": "stdout",
     "output_type": "stream",
     "text": [
      "Epoch 10, Train Loss: 0.857\n"
     ]
    },
    {
     "name": "stderr",
     "output_type": "stream",
     "text": [
      "\n"
     ]
    },
    {
     "name": "stdout",
     "output_type": "stream",
     "text": [
      "# CC  = 36, e-rank = 13, soft rank = 2.489, dead features = 0 / 128\n",
      "# CC  = 41, e-rank = 20, soft rank = 2.595, dead features = 0 / 128\n",
      "# CC  = 47, e-rank = 22, soft rank = 2.916, dead features = 0 / 128\n",
      "# CC  = 51, e-rank = 22, soft rank = 3.557, dead features = 0 / 128\n",
      "# CC  = 95, e-rank = 30, soft rank = 4.798, dead features = 0 / 128\n",
      "# CC  = 124, e-rank = 44, soft rank = 7.453, dead features = 0 / 128\n",
      "# CC  = 128, e-rank = 47, soft rank = 5.333, dead features = 0 / 128\n",
      "Accuracy on test set after epoch 10: 16.56%\n"
     ]
    },
    {
     "name": "stderr",
     "output_type": "stream",
     "text": [
      "100%|███████████████████████████████████████████████████████████████████████████████████████████████████████████████████████████████████████████████████████| 20/20 [00:01<00:00, 11.20it/s]"
     ]
    },
    {
     "name": "stdout",
     "output_type": "stream",
     "text": [
      "Epoch 11, Train Loss: 0.785\n"
     ]
    },
    {
     "name": "stderr",
     "output_type": "stream",
     "text": [
      "\n"
     ]
    },
    {
     "name": "stdout",
     "output_type": "stream",
     "text": [
      "# CC  = 37, e-rank = 13, soft rank = 2.511, dead features = 0 / 128\n",
      "# CC  = 55, e-rank = 21, soft rank = 2.890, dead features = 0 / 128\n",
      "# CC  = 69, e-rank = 22, soft rank = 3.222, dead features = 0 / 128\n",
      "# CC  = 62, e-rank = 23, soft rank = 3.733, dead features = 0 / 128\n",
      "# CC  = 101, e-rank = 30, soft rank = 4.949, dead features = 0 / 128\n",
      "# CC  = 126, e-rank = 44, soft rank = 7.632, dead features = 0 / 128\n",
      "# CC  = 125, e-rank = 47, soft rank = 4.273, dead features = 0 / 128\n",
      "Accuracy on test set after epoch 11: 15.97%\n"
     ]
    },
    {
     "name": "stderr",
     "output_type": "stream",
     "text": [
      "100%|███████████████████████████████████████████████████████████████████████████████████████████████████████████████████████████████████████████████████████| 20/20 [00:01<00:00, 11.25it/s]"
     ]
    },
    {
     "name": "stdout",
     "output_type": "stream",
     "text": [
      "Epoch 12, Train Loss: 0.780\n"
     ]
    },
    {
     "name": "stderr",
     "output_type": "stream",
     "text": [
      "\n"
     ]
    },
    {
     "name": "stdout",
     "output_type": "stream",
     "text": [
      "# CC  = 42, e-rank = 13, soft rank = 2.751, dead features = 0 / 128\n",
      "# CC  = 46, e-rank = 20, soft rank = 2.971, dead features = 0 / 128\n",
      "# CC  = 68, e-rank = 23, soft rank = 3.236, dead features = 0 / 128\n",
      "# CC  = 72, e-rank = 23, soft rank = 4.037, dead features = 0 / 128\n",
      "# CC  = 99, e-rank = 31, soft rank = 5.014, dead features = 0 / 128\n",
      "# CC  = 124, e-rank = 48, soft rank = 7.797, dead features = 0 / 128\n",
      "# CC  = 126, e-rank = 50, soft rank = 5.106, dead features = 0 / 128\n",
      "Accuracy on test set after epoch 12: 39.88%\n"
     ]
    },
    {
     "name": "stderr",
     "output_type": "stream",
     "text": [
      "100%|███████████████████████████████████████████████████████████████████████████████████████████████████████████████████████████████████████████████████████| 20/20 [00:01<00:00, 11.26it/s]"
     ]
    },
    {
     "name": "stdout",
     "output_type": "stream",
     "text": [
      "Epoch 13, Train Loss: 0.800\n"
     ]
    },
    {
     "name": "stderr",
     "output_type": "stream",
     "text": [
      "\n"
     ]
    },
    {
     "name": "stdout",
     "output_type": "stream",
     "text": [
      "# CC  = 52, e-rank = 14, soft rank = 2.941, dead features = 0 / 128\n",
      "# CC  = 61, e-rank = 20, soft rank = 2.791, dead features = 0 / 128\n",
      "# CC  = 62, e-rank = 23, soft rank = 3.022, dead features = 0 / 128\n",
      "# CC  = 77, e-rank = 24, soft rank = 4.186, dead features = 0 / 128\n",
      "# CC  = 101, e-rank = 32, soft rank = 5.371, dead features = 0 / 128\n",
      "# CC  = 127, e-rank = 49, soft rank = 9.192, dead features = 0 / 128\n",
      "# CC  = 126, e-rank = 53, soft rank = 4.806, dead features = 0 / 128\n",
      "Accuracy on test set after epoch 13: 16.32%\n"
     ]
    },
    {
     "name": "stderr",
     "output_type": "stream",
     "text": [
      "100%|███████████████████████████████████████████████████████████████████████████████████████████████████████████████████████████████████████████████████████| 20/20 [00:01<00:00, 11.21it/s]"
     ]
    },
    {
     "name": "stdout",
     "output_type": "stream",
     "text": [
      "Epoch 14, Train Loss: 0.761\n"
     ]
    },
    {
     "name": "stderr",
     "output_type": "stream",
     "text": [
      "\n"
     ]
    },
    {
     "name": "stdout",
     "output_type": "stream",
     "text": [
      "# CC  = 54, e-rank = 14, soft rank = 3.290, dead features = 0 / 128\n",
      "# CC  = 66, e-rank = 21, soft rank = 3.288, dead features = 0 / 128\n",
      "# CC  = 78, e-rank = 23, soft rank = 3.514, dead features = 0 / 128\n",
      "# CC  = 69, e-rank = 24, soft rank = 4.201, dead features = 0 / 128\n",
      "# CC  = 94, e-rank = 31, soft rank = 4.987, dead features = 0 / 128\n",
      "# CC  = 125, e-rank = 49, soft rank = 8.330, dead features = 0 / 128\n",
      "# CC  = 128, e-rank = 56, soft rank = 5.798, dead features = 0 / 128\n",
      "Accuracy on test set after epoch 14: 29.35%\n"
     ]
    },
    {
     "name": "stderr",
     "output_type": "stream",
     "text": [
      "100%|███████████████████████████████████████████████████████████████████████████████████████████████████████████████████████████████████████████████████████| 20/20 [00:01<00:00, 11.22it/s]"
     ]
    },
    {
     "name": "stdout",
     "output_type": "stream",
     "text": [
      "Epoch 15, Train Loss: 0.651\n"
     ]
    },
    {
     "name": "stderr",
     "output_type": "stream",
     "text": [
      "\n"
     ]
    },
    {
     "name": "stdout",
     "output_type": "stream",
     "text": [
      "# CC  = 48, e-rank = 13, soft rank = 3.206, dead features = 0 / 128\n",
      "# CC  = 60, e-rank = 21, soft rank = 3.148, dead features = 0 / 128\n",
      "# CC  = 72, e-rank = 23, soft rank = 3.503, dead features = 0 / 128\n",
      "# CC  = 80, e-rank = 25, soft rank = 4.719, dead features = 0 / 128\n",
      "# CC  = 104, e-rank = 34, soft rank = 5.887, dead features = 0 / 128\n",
      "# CC  = 127, e-rank = 51, soft rank = 9.174, dead features = 0 / 128\n",
      "# CC  = 128, e-rank = 56, soft rank = 5.352, dead features = 0 / 128\n",
      "Accuracy on test set after epoch 15: 9.63%\n"
     ]
    },
    {
     "name": "stderr",
     "output_type": "stream",
     "text": [
      "100%|███████████████████████████████████████████████████████████████████████████████████████████████████████████████████████████████████████████████████████| 20/20 [00:01<00:00, 11.23it/s]"
     ]
    },
    {
     "name": "stdout",
     "output_type": "stream",
     "text": [
      "Epoch 16, Train Loss: 0.602\n"
     ]
    },
    {
     "name": "stderr",
     "output_type": "stream",
     "text": [
      "\n"
     ]
    },
    {
     "name": "stdout",
     "output_type": "stream",
     "text": [
      "# CC  = 51, e-rank = 13, soft rank = 3.329, dead features = 0 / 128\n",
      "# CC  = 63, e-rank = 21, soft rank = 3.111, dead features = 0 / 128\n",
      "# CC  = 74, e-rank = 24, soft rank = 3.217, dead features = 0 / 128\n",
      "# CC  = 80, e-rank = 26, soft rank = 4.214, dead features = 0 / 128\n",
      "# CC  = 105, e-rank = 34, soft rank = 5.914, dead features = 0 / 128\n",
      "# CC  = 127, e-rank = 54, soft rank = 8.882, dead features = 0 / 128\n",
      "# CC  = 128, e-rank = 61, soft rank = 5.875, dead features = 0 / 128\n"
     ]
    }
   ],
   "source": [
    "import torch\n",
    "import torch.nn as nn\n",
    "import torch.optim as optim\n",
    "import torch.nn.functional as F\n",
    "import torchvision\n",
    "import torchvision.transforms as transforms\n",
    "import tqdm\n",
    "\n",
    "import numpy as np\n",
    "from scipy.sparse.csgraph import connected_components\n",
    "\n",
    "# -------------------------\n",
    "# Configurable CNN with Batch Normalization and Hidden Activations Collection\n",
    "# -------------------------\n",
    "class ConfigurableCNN(nn.Module):\n",
    "    def __init__(self, conv_channels, fc_hidden_units=512, dropout_p=0.25,\n",
    "                 num_classes=10, input_size=32, input_channels=3, use_batchnorm=True):\n",
    "        \"\"\"\n",
    "        Args:\n",
    "            conv_channels (list of int): List of output channels for each convolutional layer.\n",
    "            fc_hidden_units (int): Number of neurons in the hidden fully connected layer.\n",
    "            dropout_p (float): Dropout probability.\n",
    "            num_classes (int): Number of output classes.\n",
    "            input_size (int): Height/width of the input images (assumed square).\n",
    "            input_channels (int): Number of channels in the input images.\n",
    "            use_batchnorm (bool): Whether to use batch normalization after each convolution.\n",
    "        \"\"\"\n",
    "        super(ConfigurableCNN, self).__init__()\n",
    "        self.use_batchnorm = use_batchnorm\n",
    "        self.conv_layers = nn.ModuleList()\n",
    "        if self.use_batchnorm:\n",
    "            self.bn_layers = nn.ModuleList()\n",
    "        \n",
    "        in_channels = input_channels  # For colored images, this is 3.\n",
    "        self.num_pool = len(conv_channels)  # One pooling per conv layer\n",
    "        \n",
    "        # Create convolutional layers along with optional batch normalization.\n",
    "        for out_channels in conv_channels:\n",
    "            self.conv_layers.append(nn.Conv2d(in_channels, out_channels, kernel_size=3, padding=1))\n",
    "            if self.use_batchnorm:\n",
    "                self.bn_layers.append(nn.BatchNorm2d(out_channels))\n",
    "            in_channels = out_channels\n",
    "        \n",
    "        # Define a max pooling layer (2x2) applied after each conv block.\n",
    "        self.pool = nn.MaxPool2d(2, 2)\n",
    "        \n",
    "        # Compute the spatial size after all pooling operations.\n",
    "        final_size = input_size // (2 ** self.num_pool)\n",
    "        self.flattened_size = conv_channels[-1] * final_size * final_size\n",
    "        \n",
    "        # Fully connected layers.\n",
    "        self.fc1 = nn.Linear(self.flattened_size, fc_hidden_units)\n",
    "        self.fc2 = nn.Linear(fc_hidden_units, num_classes)\n",
    "        \n",
    "        # Dropout layer for regularization.\n",
    "        self.dropout = nn.Dropout(dropout_p)\n",
    "        self.act = F.tanh  # You can change this activation if desired\n",
    "\n",
    "    def forward(self, x, return_hidden=False):\n",
    "        hidden_activations = []  # List to collect hidden activations\n",
    "\n",
    "        # Pass through each convolutional layer\n",
    "        for idx, conv in enumerate(self.conv_layers):\n",
    "            x = conv(x)\n",
    "            if self.use_batchnorm:\n",
    "                x = self.bn_layers[idx](x)\n",
    "            if return_hidden:\n",
    "                hidden_activations.append(x.detach().cpu())\n",
    "            x = self.act(x)\n",
    "            x = self.pool(x)\n",
    "        \n",
    "        # x = self.dropout(x)\n",
    "        x = x.view(x.size(0), -1)  # Flatten the tensor\n",
    "\n",
    "        # First fully connected layer with activation\n",
    "        x = self.fc1(x)\n",
    "        x = self.act(x)\n",
    "        # x = self.dropout(x)\n",
    "\n",
    "        # Final fully connected layer (logits)\n",
    "        x = self.fc2(x)\n",
    "        \n",
    "        if return_hidden:\n",
    "            return x, hidden_activations\n",
    "        return x\n",
    "\n",
    "\n",
    "def eval_features(model, testloader, thresh=0.9, tol=1e-10, rank_atol=1e-2, dead_tol=0.1):\n",
    "    model.eval()\n",
    "    sample_inputs, _ = next(iter(testloader))\n",
    "    sample_inputs = sample_inputs.to(device)\n",
    "    with torch.no_grad():\n",
    "        _, hidden_activations = model(sample_inputs, return_hidden=True)\n",
    "        \n",
    "    for act in hidden_activations:\n",
    "        # Reshape: (batch, channels, H, W) --> (channels, batch * H * W)\n",
    "        A = act.transpose(0, 1).flatten(1)\n",
    "        # Normalize each row (avoid division by zero with a small epsilon)\n",
    "        # A = A - A.mean(dim=1,keepdim=True)\n",
    "        A = A / (A.norm(dim=1, keepdim=True) + tol)\n",
    "        stds = A.std(dim=1) / A.abs().mean(dim=1)\n",
    "        # print(stds.shape, stds)\n",
    "        dead_features = (stds<dead_tol).sum()\n",
    "        # Compute cosine similarity matrix\n",
    "        C = A @ A.t()\n",
    "        rank = torch.linalg.matrix_rank(C, atol=rank_atol)\n",
    "        soft_rank = torch.trace(C)**2 / torch.trace(C @ C)\n",
    "        # Remove self-similarity by zeroing the diagonal and take absolute value.\n",
    "        C.fill_diagonal_(0)\n",
    "        C = C.abs()\n",
    "        # Create an adjacency matrix by thresholding.\n",
    "        Adj = (C > thresh).float()\n",
    "        \n",
    "        # Convert to numpy array (scipy works with numpy arrays)\n",
    "        Adj_np = Adj.numpy()\n",
    "        # Compute the number of connected components using SciPy's stable routine.\n",
    "        n_components, labels = connected_components(csgraph=Adj_np, directed=False)\n",
    "        R = Adj_np.shape[0]\n",
    "        print(f'# CC  = {n_components}, e-rank = {rank}, soft rank = {soft_rank:.3f}, dead features = {dead_features} / {R}')\n",
    "\n",
    "\n",
    "\n",
    "# -------------------------\n",
    "# Data Preparation (Tiny ImageNet with Selected Classes)\n",
    "# -------------------------\n",
    "# Specify which classes to use.\n",
    "# For Tiny ImageNet, the classes are the subfolder names in the training folder.\n",
    "# Here we select classes by their numeric index (after ImageFolder sorts the folders).\n",
    "# For example, to use the first 5 classes:\n",
    "selected_classes = range(20)  # Set to None to use all available classes\n",
    "\n",
    "# Define the image size for resizing\n",
    "input_size = 128\n",
    "\n",
    "transform = transforms.Compose([\n",
    "    transforms.Resize((input_size, input_size)),  # Resize images to input_size x input_size\n",
    "    transforms.ToTensor(),\n",
    "    transforms.Normalize((0.5, 0.5, 0.5), (0.5, 0.5, 0.5))\n",
    "])\n",
    "\n",
    "# Load the Tiny ImageNet datasets using ImageFolder.\n",
    "# Adjust the root paths to where you have Tiny ImageNet stored.\n",
    "trainset = torchvision.datasets.ImageFolder(root='./tiny-imagenet-200/train', transform=transform)\n",
    "testset = torchvision.datasets.ImageFolder(root='./tiny-imagenet-200/val', transform=transform)\n",
    "\n",
    "# If selected_classes is specified, filter the dataset to include only those classes.\n",
    "if selected_classes is not None:\n",
    "    train_indices = [i for i, (_, label) in enumerate(trainset.samples) if label in selected_classes]\n",
    "    trainset = torch.utils.data.Subset(trainset, train_indices)\n",
    "    test_indices = [i for i, (_, label) in enumerate(testset.samples) if label in selected_classes]\n",
    "    testset = torch.utils.data.Subset(testset, test_indices)\n",
    "    num_used_classes = len(selected_classes)\n",
    "else:\n",
    "    num_used_classes = len(trainset.classes)\n",
    "\n",
    "trainloader = torch.utils.data.DataLoader(trainset, batch_size=128,\n",
    "                                          shuffle=True, num_workers=2)\n",
    "testloader = torch.utils.data.DataLoader(testset, batch_size=256,\n",
    "                                         shuffle=False, num_workers=2)\n",
    "\n",
    "# -------------------------\n",
    "# Model Configuration and Instantiation\n",
    "# -------------------------\n",
    "conv_channels = [128] * 7  # Example configuration\n",
    "fc_hidden_units = 128\n",
    "dropout_p = 0.25\n",
    "use_batchnorm = True\n",
    "\n",
    "device = torch.device(\"cuda:0\" if torch.cuda.is_available() else \"cpu\")\n",
    "net = ConfigurableCNN(conv_channels, fc_hidden_units, dropout_p,\n",
    "                      num_classes=num_used_classes, input_size=input_size, input_channels=3,\n",
    "                      use_batchnorm=use_batchnorm).to(device)\n",
    "\n",
    "criterion = nn.CrossEntropyLoss()\n",
    "optimizer = optim.Adam(net.parameters(), lr=0.01)\n",
    "\n",
    "# -------------------------\n",
    "# Training Loop\n",
    "# -------------------------\n",
    "num_epochs = 100  # Adjust the number of epochs as needed\n",
    "for epoch in range(num_epochs):\n",
    "    net.train()\n",
    "    running_loss = 0.0\n",
    "    for i, data in tqdm.tqdm(enumerate(trainloader, 0), total=len(trainloader)):\n",
    "        inputs, labels = data[0].to(device), data[1].to(device)\n",
    "        \n",
    "        optimizer.zero_grad()  # Zero the parameter gradients\n",
    "        outputs = net(inputs)   # Forward pass\n",
    "        loss = criterion(outputs, labels)  # Compute loss\n",
    "        loss.backward()  # Backpropagation\n",
    "        optimizer.step()  # Update parameters\n",
    "        \n",
    "        running_loss += loss.item()\n",
    "    print(f'Epoch {epoch + 1}, Train Loss: {running_loss / len(trainloader):.3f}')\n",
    "    running_loss = 0.0\n",
    "\n",
    "    # Optionally, evaluate feature connectivity\n",
    "    eval_features(net, trainloader, thresh=0.95)\n",
    "    \n",
    "    # -------------------------\n",
    "    # Validation after each epoch\n",
    "    # -------------------------\n",
    "    net.eval()\n",
    "    correct = 0\n",
    "    total = 0\n",
    "    with torch.no_grad():\n",
    "        for data in testloader:\n",
    "            images, labels = data[0].to(device), data[1].to(device)\n",
    "            outputs = net(images)\n",
    "            _, predicted = torch.max(outputs.data, 1)\n",
    "            total += labels.size(0)\n",
    "            correct += (predicted == labels).sum().item()\n",
    "    accuracy = 100 * correct / total\n",
    "    print(f'Accuracy on test set after epoch {epoch + 1}: {accuracy:.2f}%')\n",
    "\n",
    "print(\"Training complete!\")\n",
    "\n",
    "# -------------------------\n",
    "# Example: Obtaining Hidden Activations\n",
    "# -------------------------\n",
    "net.eval()\n",
    "sample_inputs, _ = next(iter(testloader))\n",
    "sample_inputs = sample_inputs.to(device)\n",
    "with torch.no_grad():\n",
    "    output, hidden_activations = net(sample_inputs, return_hidden=True)\n",
    "print(\"Collected {} hidden activations.\".format(len(hidden_activations)))\n"
   ]
  },
  {
   "cell_type": "code",
   "execution_count": null,
   "id": "b722580a-72c7-465b-9090-8727c6a71f85",
   "metadata": {},
   "outputs": [],
   "source": []
  },
  {
   "cell_type": "code",
   "execution_count": 20,
   "id": "7b8a5bea-cf76-473b-92dc-6247337d3dfc",
   "metadata": {},
   "outputs": [
    {
     "data": {
      "text/plain": [
       "<function torch.nn.functional.relu(input: torch.Tensor, inplace: bool = False) -> torch.Tensor>"
      ]
     },
     "execution_count": 20,
     "metadata": {},
     "output_type": "execute_result"
    }
   ],
   "source": []
  },
  {
   "cell_type": "code",
   "execution_count": null,
   "id": "fddf3d26-0202-4c11-9aa7-7b0aeeabb577",
   "metadata": {},
   "outputs": [],
   "source": []
  },
  {
   "cell_type": "code",
   "execution_count": null,
   "id": "17c8e32d-a47c-4f59-b60b-a35a0ef2dedc",
   "metadata": {},
   "outputs": [],
   "source": []
  },
  {
   "cell_type": "code",
   "execution_count": null,
   "id": "60ec7dc8-5b84-4ccf-a739-509042a84e10",
   "metadata": {},
   "outputs": [],
   "source": []
  }
 ],
 "metadata": {
  "kernelspec": {
   "display_name": "Python 3",
   "language": "python",
   "name": "python3"
  },
  "language_info": {
   "codemirror_mode": {
    "name": "ipython",
    "version": 3
   },
   "file_extension": ".py",
   "mimetype": "text/x-python",
   "name": "python",
   "nbconvert_exporter": "python",
   "pygments_lexer": "ipython3",
   "version": "3.10.14"
  }
 },
 "nbformat": 4,
 "nbformat_minor": 5
}
