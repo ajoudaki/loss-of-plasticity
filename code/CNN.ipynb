{
 "cells": [
  {
   "cell_type": "code",
   "execution_count": 12,
   "id": "ee3419b6-664f-404a-b1a0-10a14db8463f",
   "metadata": {},
   "outputs": [
    {
     "name": "stderr",
     "output_type": "stream",
     "text": [
      "100%|█████████████████████████████████████████████████████████████████████████████████████████████████████████████████████████████████████████████████████| 391/391 [00:37<00:00, 10.36it/s]"
     ]
    },
    {
     "name": "stdout",
     "output_type": "stream",
     "text": [
      "Epoch 1, Train Loss: 0.00020\n"
     ]
    },
    {
     "name": "stderr",
     "output_type": "stream",
     "text": [
      "\n"
     ]
    },
    {
     "name": "stdout",
     "output_type": "stream",
     "text": [
      "# CC  =   99, e-rank =   13, soft rank = 4.578, dead features =    1 / 256\n",
      "# CC  =  211, e-rank =   48, soft rank = 6.112, dead features =    0 / 256\n",
      "# CC  =  243, e-rank =   80, soft rank = 6.929, dead features =    0 / 256\n",
      "# CC  =  255, e-rank =  118, soft rank = 8.515, dead features =    0 / 256\n",
      "# CC  =  256, e-rank =  187, soft rank = 8.246, dead features =    0 / 256\n",
      "# CC  =  256, e-rank =  256, soft rank = 4.047, dead features =    0 / 256\n",
      "# CC  =  256, e-rank =  256, soft rank = 6.285, dead features =    0 / 256\n",
      "Accuracy on test set after epoch 1: 2.77%\n"
     ]
    },
    {
     "name": "stderr",
     "output_type": "stream",
     "text": [
      "100%|█████████████████████████████████████████████████████████████████████████████████████████████████████████████████████████████████████████████████████| 391/391 [00:37<00:00, 10.39it/s]"
     ]
    },
    {
     "name": "stdout",
     "output_type": "stream",
     "text": [
      "Epoch 2, Train Loss: 0.00020\n"
     ]
    },
    {
     "name": "stderr",
     "output_type": "stream",
     "text": [
      "\n"
     ]
    },
    {
     "name": "stdout",
     "output_type": "stream",
     "text": [
      "# CC  =  101, e-rank =   13, soft rank = 4.616, dead features =    1 / 256\n",
      "# CC  =  210, e-rank =   48, soft rank = 6.171, dead features =    0 / 256\n",
      "# CC  =  244, e-rank =   80, soft rank = 6.964, dead features =    0 / 256\n",
      "# CC  =  255, e-rank =  118, soft rank = 8.530, dead features =    0 / 256\n",
      "# CC  =  256, e-rank =  187, soft rank = 8.309, dead features =    0 / 256\n",
      "# CC  =  256, e-rank =  256, soft rank = 4.078, dead features =    0 / 256\n",
      "# CC  =  256, e-rank =  256, soft rank = 6.389, dead features =    0 / 256\n",
      "Accuracy on test set after epoch 2: 2.78%\n"
     ]
    },
    {
     "name": "stderr",
     "output_type": "stream",
     "text": [
      "100%|█████████████████████████████████████████████████████████████████████████████████████████████████████████████████████████████████████████████████████| 391/391 [00:37<00:00, 10.38it/s]"
     ]
    },
    {
     "name": "stdout",
     "output_type": "stream",
     "text": [
      "Epoch 3, Train Loss: 0.00019\n"
     ]
    },
    {
     "name": "stderr",
     "output_type": "stream",
     "text": [
      "\n"
     ]
    },
    {
     "name": "stdout",
     "output_type": "stream",
     "text": [
      "# CC  =  100, e-rank =   13, soft rank = 4.622, dead features =    1 / 256\n",
      "# CC  =  212, e-rank =   48, soft rank = 6.130, dead features =    0 / 256\n",
      "# CC  =  243, e-rank =   80, soft rank = 6.929, dead features =    0 / 256\n",
      "# CC  =  255, e-rank =  118, soft rank = 8.543, dead features =    0 / 256\n",
      "# CC  =  256, e-rank =  187, soft rank = 8.289, dead features =    0 / 256\n",
      "# CC  =  256, e-rank =  256, soft rank = 4.031, dead features =    0 / 256\n",
      "# CC  =  256, e-rank =  256, soft rank = 6.316, dead features =    0 / 256\n",
      "Accuracy on test set after epoch 3: 2.87%\n"
     ]
    },
    {
     "name": "stderr",
     "output_type": "stream",
     "text": [
      "100%|█████████████████████████████████████████████████████████████████████████████████████████████████████████████████████████████████████████████████████| 391/391 [00:37<00:00, 10.36it/s]"
     ]
    },
    {
     "name": "stdout",
     "output_type": "stream",
     "text": [
      "Epoch 4, Train Loss: 0.00020\n"
     ]
    },
    {
     "name": "stderr",
     "output_type": "stream",
     "text": [
      "\n"
     ]
    },
    {
     "name": "stdout",
     "output_type": "stream",
     "text": [
      "# CC  =  101, e-rank =   13, soft rank = 4.614, dead features =    1 / 256\n",
      "# CC  =  210, e-rank =   48, soft rank = 6.186, dead features =    0 / 256\n",
      "# CC  =  243, e-rank =   81, soft rank = 6.997, dead features =    0 / 256\n",
      "# CC  =  255, e-rank =  118, soft rank = 8.558, dead features =    0 / 256\n",
      "# CC  =  256, e-rank =  187, soft rank = 8.342, dead features =    0 / 256\n",
      "# CC  =  256, e-rank =  256, soft rank = 4.070, dead features =    0 / 256\n",
      "# CC  =  256, e-rank =  256, soft rank = 6.331, dead features =    0 / 256\n",
      "Accuracy on test set after epoch 4: 2.84%\n"
     ]
    },
    {
     "name": "stderr",
     "output_type": "stream",
     "text": [
      "100%|█████████████████████████████████████████████████████████████████████████████████████████████████████████████████████████████████████████████████████| 391/391 [00:37<00:00, 10.36it/s]"
     ]
    },
    {
     "name": "stdout",
     "output_type": "stream",
     "text": [
      "Epoch 5, Train Loss: 0.00019\n"
     ]
    },
    {
     "name": "stderr",
     "output_type": "stream",
     "text": [
      "\n"
     ]
    },
    {
     "name": "stdout",
     "output_type": "stream",
     "text": [
      "# CC  =  100, e-rank =   13, soft rank = 4.611, dead features =    1 / 256\n",
      "# CC  =  211, e-rank =   48, soft rank = 6.155, dead features =    0 / 256\n",
      "# CC  =  243, e-rank =   81, soft rank = 6.948, dead features =    0 / 256\n",
      "# CC  =  255, e-rank =  118, soft rank = 8.543, dead features =    0 / 256\n",
      "# CC  =  256, e-rank =  187, soft rank = 8.297, dead features =    0 / 256\n",
      "# CC  =  256, e-rank =  256, soft rank = 4.042, dead features =    0 / 256\n",
      "# CC  =  256, e-rank =  256, soft rank = 6.311, dead features =    0 / 256\n",
      "Accuracy on test set after epoch 5: 3.04%\n"
     ]
    },
    {
     "name": "stderr",
     "output_type": "stream",
     "text": [
      "100%|█████████████████████████████████████████████████████████████████████████████████████████████████████████████████████████████████████████████████████| 391/391 [00:37<00:00, 10.36it/s]"
     ]
    },
    {
     "name": "stdout",
     "output_type": "stream",
     "text": [
      "Epoch 6, Train Loss: 0.00019\n"
     ]
    },
    {
     "name": "stderr",
     "output_type": "stream",
     "text": [
      "\n"
     ]
    },
    {
     "name": "stdout",
     "output_type": "stream",
     "text": [
      "# CC  =  101, e-rank =   13, soft rank = 4.607, dead features =    1 / 256\n",
      "# CC  =  210, e-rank =   48, soft rank = 6.162, dead features =    0 / 256\n",
      "# CC  =  243, e-rank =   80, soft rank = 6.960, dead features =    0 / 256\n",
      "# CC  =  255, e-rank =  118, soft rank = 8.527, dead features =    0 / 256\n",
      "# CC  =  256, e-rank =  187, soft rank = 8.311, dead features =    0 / 256\n",
      "# CC  =  256, e-rank =  256, soft rank = 4.075, dead features =    0 / 256\n",
      "# CC  =  256, e-rank =  256, soft rank = 6.373, dead features =    0 / 256\n",
      "Accuracy on test set after epoch 6: 2.92%\n"
     ]
    },
    {
     "name": "stderr",
     "output_type": "stream",
     "text": [
      "100%|█████████████████████████████████████████████████████████████████████████████████████████████████████████████████████████████████████████████████████| 391/391 [00:37<00:00, 10.35it/s]"
     ]
    },
    {
     "name": "stdout",
     "output_type": "stream",
     "text": [
      "Epoch 7, Train Loss: 0.00019\n"
     ]
    },
    {
     "name": "stderr",
     "output_type": "stream",
     "text": [
      "\n"
     ]
    },
    {
     "name": "stdout",
     "output_type": "stream",
     "text": [
      "# CC  =  100, e-rank =   13, soft rank = 4.609, dead features =    1 / 256\n",
      "# CC  =  210, e-rank =   48, soft rank = 6.178, dead features =    0 / 256\n",
      "# CC  =  244, e-rank =   81, soft rank = 6.996, dead features =    0 / 256\n",
      "# CC  =  255, e-rank =  118, soft rank = 8.599, dead features =    0 / 256\n",
      "# CC  =  256, e-rank =  187, soft rank = 8.295, dead features =    0 / 256\n",
      "# CC  =  256, e-rank =  256, soft rank = 4.067, dead features =    0 / 256\n",
      "# CC  =  256, e-rank =  256, soft rank = 6.353, dead features =    0 / 256\n",
      "Accuracy on test set after epoch 7: 2.84%\n"
     ]
    },
    {
     "name": "stderr",
     "output_type": "stream",
     "text": [
      "100%|█████████████████████████████████████████████████████████████████████████████████████████████████████████████████████████████████████████████████████| 391/391 [00:37<00:00, 10.37it/s]"
     ]
    },
    {
     "name": "stdout",
     "output_type": "stream",
     "text": [
      "Epoch 8, Train Loss: 0.00020\n"
     ]
    },
    {
     "name": "stderr",
     "output_type": "stream",
     "text": [
      "\n"
     ]
    },
    {
     "name": "stdout",
     "output_type": "stream",
     "text": [
      "# CC  =  100, e-rank =   13, soft rank = 4.591, dead features =    1 / 256\n",
      "# CC  =  211, e-rank =   48, soft rank = 6.132, dead features =    0 / 256\n",
      "# CC  =  243, e-rank =   81, soft rank = 6.928, dead features =    0 / 256\n",
      "# CC  =  255, e-rank =  118, soft rank = 8.513, dead features =    0 / 256\n",
      "# CC  =  256, e-rank =  187, soft rank = 8.323, dead features =    0 / 256\n",
      "# CC  =  256, e-rank =  256, soft rank = 4.061, dead features =    0 / 256\n",
      "# CC  =  256, e-rank =  256, soft rank = 6.297, dead features =    0 / 256\n",
      "Accuracy on test set after epoch 8: 2.88%\n"
     ]
    },
    {
     "name": "stderr",
     "output_type": "stream",
     "text": [
      "100%|█████████████████████████████████████████████████████████████████████████████████████████████████████████████████████████████████████████████████████| 391/391 [00:37<00:00, 10.38it/s]"
     ]
    },
    {
     "name": "stdout",
     "output_type": "stream",
     "text": [
      "Epoch 9, Train Loss: 0.00019\n"
     ]
    },
    {
     "name": "stderr",
     "output_type": "stream",
     "text": [
      "\n"
     ]
    },
    {
     "name": "stdout",
     "output_type": "stream",
     "text": [
      "# CC  =  101, e-rank =   13, soft rank = 4.632, dead features =    1 / 256\n",
      "# CC  =  211, e-rank =   48, soft rank = 6.170, dead features =    0 / 256\n",
      "# CC  =  244, e-rank =   80, soft rank = 6.968, dead features =    0 / 256\n",
      "# CC  =  255, e-rank =  118, soft rank = 8.569, dead features =    0 / 256\n",
      "# CC  =  256, e-rank =  187, soft rank = 8.379, dead features =    0 / 256\n",
      "# CC  =  256, e-rank =  256, soft rank = 4.079, dead features =    0 / 256\n",
      "# CC  =  256, e-rank =  256, soft rank = 6.326, dead features =    0 / 256\n",
      "Accuracy on test set after epoch 9: 2.76%\n"
     ]
    },
    {
     "name": "stderr",
     "output_type": "stream",
     "text": [
      "100%|█████████████████████████████████████████████████████████████████████████████████████████████████████████████████████████████████████████████████████| 391/391 [00:37<00:00, 10.37it/s]"
     ]
    },
    {
     "name": "stdout",
     "output_type": "stream",
     "text": [
      "Epoch 10, Train Loss: 0.00018\n"
     ]
    },
    {
     "name": "stderr",
     "output_type": "stream",
     "text": [
      "\n"
     ]
    },
    {
     "name": "stdout",
     "output_type": "stream",
     "text": [
      "# CC  =   99, e-rank =   13, soft rank = 4.590, dead features =    1 / 256\n",
      "# CC  =  210, e-rank =   48, soft rank = 6.109, dead features =    0 / 256\n",
      "# CC  =  243, e-rank =   81, soft rank = 6.924, dead features =    0 / 256\n",
      "# CC  =  255, e-rank =  118, soft rank = 8.511, dead features =    0 / 256\n",
      "# CC  =  256, e-rank =  187, soft rank = 8.255, dead features =    0 / 256\n",
      "# CC  =  256, e-rank =  256, soft rank = 4.041, dead features =    0 / 256\n",
      "# CC  =  256, e-rank =  256, soft rank = 6.306, dead features =    0 / 256\n",
      "Accuracy on test set after epoch 10: 2.73%\n"
     ]
    },
    {
     "name": "stderr",
     "output_type": "stream",
     "text": [
      "100%|█████████████████████████████████████████████████████████████████████████████████████████████████████████████████████████████████████████████████████| 391/391 [00:37<00:00, 10.35it/s]"
     ]
    },
    {
     "name": "stdout",
     "output_type": "stream",
     "text": [
      "Epoch 11, Train Loss: 0.00018\n"
     ]
    },
    {
     "name": "stderr",
     "output_type": "stream",
     "text": [
      "\n"
     ]
    },
    {
     "name": "stdout",
     "output_type": "stream",
     "text": [
      "# CC  =  100, e-rank =   13, soft rank = 4.628, dead features =    1 / 256\n",
      "# CC  =  212, e-rank =   48, soft rank = 6.171, dead features =    0 / 256\n",
      "# CC  =  243, e-rank =   80, soft rank = 6.968, dead features =    0 / 256\n",
      "# CC  =  255, e-rank =  118, soft rank = 8.551, dead features =    0 / 256\n",
      "# CC  =  256, e-rank =  187, soft rank = 8.327, dead features =    0 / 256\n",
      "# CC  =  256, e-rank =  256, soft rank = 4.058, dead features =    0 / 256\n",
      "# CC  =  256, e-rank =  256, soft rank = 6.287, dead features =    0 / 256\n",
      "Accuracy on test set after epoch 11: 3.06%\n"
     ]
    },
    {
     "name": "stderr",
     "output_type": "stream",
     "text": [
      "100%|█████████████████████████████████████████████████████████████████████████████████████████████████████████████████████████████████████████████████████| 391/391 [00:37<00:00, 10.37it/s]"
     ]
    },
    {
     "name": "stdout",
     "output_type": "stream",
     "text": [
      "Epoch 12, Train Loss: 0.00019\n"
     ]
    },
    {
     "name": "stderr",
     "output_type": "stream",
     "text": [
      "\n"
     ]
    },
    {
     "name": "stdout",
     "output_type": "stream",
     "text": [
      "# CC  =  100, e-rank =   13, soft rank = 4.624, dead features =    1 / 256\n",
      "# CC  =  212, e-rank =   48, soft rank = 6.217, dead features =    0 / 256\n",
      "# CC  =  244, e-rank =   81, soft rank = 7.017, dead features =    0 / 256\n",
      "# CC  =  255, e-rank =  118, soft rank = 8.578, dead features =    0 / 256\n",
      "# CC  =  256, e-rank =  187, soft rank = 8.319, dead features =    0 / 256\n",
      "# CC  =  256, e-rank =  256, soft rank = 4.076, dead features =    0 / 256\n",
      "# CC  =  256, e-rank =  256, soft rank = 6.363, dead features =    0 / 256\n",
      "Accuracy on test set after epoch 12: 2.79%\n"
     ]
    },
    {
     "name": "stderr",
     "output_type": "stream",
     "text": [
      "100%|█████████████████████████████████████████████████████████████████████████████████████████████████████████████████████████████████████████████████████| 391/391 [00:37<00:00, 10.37it/s]"
     ]
    },
    {
     "name": "stdout",
     "output_type": "stream",
     "text": [
      "Epoch 13, Train Loss: 0.00018\n"
     ]
    },
    {
     "name": "stderr",
     "output_type": "stream",
     "text": [
      "\n"
     ]
    },
    {
     "name": "stdout",
     "output_type": "stream",
     "text": [
      "# CC  =  101, e-rank =   13, soft rank = 4.599, dead features =    1 / 256\n",
      "# CC  =  211, e-rank =   48, soft rank = 6.184, dead features =    0 / 256\n",
      "# CC  =  244, e-rank =   81, soft rank = 6.971, dead features =    0 / 256\n",
      "# CC  =  255, e-rank =  118, soft rank = 8.546, dead features =    0 / 256\n",
      "# CC  =  256, e-rank =  187, soft rank = 8.302, dead features =    0 / 256\n",
      "# CC  =  256, e-rank =  256, soft rank = 4.072, dead features =    0 / 256\n",
      "# CC  =  256, e-rank =  256, soft rank = 6.359, dead features =    0 / 256\n",
      "Accuracy on test set after epoch 13: 2.80%\n"
     ]
    },
    {
     "name": "stderr",
     "output_type": "stream",
     "text": [
      "100%|█████████████████████████████████████████████████████████████████████████████████████████████████████████████████████████████████████████████████████| 391/391 [00:37<00:00, 10.35it/s]"
     ]
    },
    {
     "name": "stdout",
     "output_type": "stream",
     "text": [
      "Epoch 14, Train Loss: 0.00018\n"
     ]
    },
    {
     "name": "stderr",
     "output_type": "stream",
     "text": [
      "\n"
     ]
    },
    {
     "name": "stdout",
     "output_type": "stream",
     "text": [
      "# CC  =  100, e-rank =   13, soft rank = 4.652, dead features =    0 / 256\n",
      "# CC  =  214, e-rank =   48, soft rank = 6.161, dead features =    0 / 256\n",
      "# CC  =  244, e-rank =   80, soft rank = 6.938, dead features =    0 / 256\n",
      "# CC  =  255, e-rank =  118, soft rank = 8.490, dead features =    0 / 256\n",
      "# CC  =  256, e-rank =  187, soft rank = 8.301, dead features =    0 / 256\n",
      "# CC  =  256, e-rank =  256, soft rank = 4.072, dead features =    0 / 256\n",
      "# CC  =  256, e-rank =  256, soft rank = 6.373, dead features =    0 / 256\n",
      "Accuracy on test set after epoch 14: 2.91%\n"
     ]
    },
    {
     "name": "stderr",
     "output_type": "stream",
     "text": [
      " 69%|██████████████████████████████████████████████████████████████████████████████████████████████████████▉                                              | 270/391 [00:25<00:11, 10.39it/s]\n"
     ]
    },
    {
     "ename": "KeyboardInterrupt",
     "evalue": "",
     "output_type": "error",
     "traceback": [
      "\u001b[0;31m---------------------------------------------------------------------------\u001b[0m",
      "\u001b[0;31mKeyboardInterrupt\u001b[0m                         Traceback (most recent call last)",
      "Cell \u001b[0;32mIn[12], line 189\u001b[0m\n\u001b[1;32m    186\u001b[0m     loss\u001b[38;5;241m.\u001b[39mbackward()  \u001b[38;5;66;03m# Backpropagation\u001b[39;00m\n\u001b[1;32m    187\u001b[0m     optimizer\u001b[38;5;241m.\u001b[39mstep()  \u001b[38;5;66;03m# Update parameters\u001b[39;00m\n\u001b[0;32m--> 189\u001b[0m     running_loss \u001b[38;5;241m+\u001b[39m\u001b[38;5;241m=\u001b[39m \u001b[43mloss\u001b[49m\u001b[38;5;241;43m.\u001b[39;49m\u001b[43mitem\u001b[49m\u001b[43m(\u001b[49m\u001b[43m)\u001b[49m\n\u001b[1;32m    190\u001b[0m \u001b[38;5;28mprint\u001b[39m(\u001b[38;5;124mf\u001b[39m\u001b[38;5;124m'\u001b[39m\u001b[38;5;124mEpoch \u001b[39m\u001b[38;5;132;01m{\u001b[39;00mepoch\u001b[38;5;250m \u001b[39m\u001b[38;5;241m+\u001b[39m\u001b[38;5;250m \u001b[39m\u001b[38;5;241m1\u001b[39m\u001b[38;5;132;01m}\u001b[39;00m\u001b[38;5;124m, Train Loss: \u001b[39m\u001b[38;5;132;01m{\u001b[39;00mrunning_loss\u001b[38;5;250m \u001b[39m\u001b[38;5;241m/\u001b[39m\u001b[38;5;250m \u001b[39m\u001b[38;5;28mlen\u001b[39m(trainloader)\u001b[38;5;132;01m:\u001b[39;00m\u001b[38;5;124m.5f\u001b[39m\u001b[38;5;132;01m}\u001b[39;00m\u001b[38;5;124m'\u001b[39m)\n\u001b[1;32m    191\u001b[0m running_loss \u001b[38;5;241m=\u001b[39m \u001b[38;5;241m0.0\u001b[39m\n",
      "\u001b[0;31mKeyboardInterrupt\u001b[0m: "
     ]
    }
   ],
   "source": [
    "import torch\n",
    "import torch.nn as nn\n",
    "import torch.optim as optim\n",
    "import torch.nn.functional as F\n",
    "import torchvision\n",
    "import torchvision.transforms as transforms\n",
    "import tqdm\n",
    "\n",
    "import numpy as np\n",
    "from scipy.sparse.csgraph import connected_components\n",
    "\n",
    "# -------------------------\n",
    "# Configurable CNN with Batch Normalization and Hidden Activations Collection\n",
    "# -------------------------\n",
    "class ConfigurableCNN(nn.Module):\n",
    "    def __init__(self, conv_channels, fc_hidden_units=512, dropout_p=0.25,\n",
    "                 num_classes=10, input_size=32, input_channels=3, use_batchnorm=True):\n",
    "        \"\"\"`\n",
    "        Args:\n",
    "            conv_channels (list of int): List of output channels for each convolutional layer.\n",
    "            fc_hidden_units (int): Number of neurons in the hidden fully connected layer.\n",
    "            dropout_p (float): Dropout probability.\n",
    "            num_classes (int): Number of output classes.\n",
    "            input_size (int): Height/width of the input images (assumed square).\n",
    "            input_channels (int): Number of channels in the input images.\n",
    "            use_batchnorm (bool): Whether to use batch normalization after each convolution.\n",
    "        \"\"\"\n",
    "        super(ConfigurableCNN, self).__init__()\n",
    "        self.use_batchnorm = use_batchnorm\n",
    "        self.conv_layers = nn.ModuleList()\n",
    "        if self.use_batchnorm:\n",
    "            self.bn_layers = nn.ModuleList()\n",
    "        \n",
    "        in_channels = input_channels  # For colored images, this is 3.\n",
    "        self.num_pool = len(conv_channels)  # One pooling per conv layer\n",
    "        \n",
    "        # Create convolutional layers along with optional batch normalization.\n",
    "        for out_channels in conv_channels:\n",
    "            self.conv_layers.append(nn.Conv2d(in_channels, out_channels, kernel_size=3, padding=1))\n",
    "            if self.use_batchnorm:\n",
    "                self.bn_layers.append(nn.BatchNorm2d(out_channels))\n",
    "            in_channels = out_channels\n",
    "        \n",
    "        # Define a max pooling layer (2x2) applied after each conv block.\n",
    "        self.pool = nn.MaxPool2d(2, 2)\n",
    "        \n",
    "        # Compute the spatial size after all pooling operations.\n",
    "        final_size = input_size // (2 ** self.num_pool)\n",
    "        self.flattened_size = conv_channels[-1] * final_size * final_size\n",
    "        \n",
    "        # Fully connected layers.\n",
    "        self.fc1 = nn.Linear(self.flattened_size, fc_hidden_units)\n",
    "        self.fc2 = nn.Linear(fc_hidden_units, num_classes)\n",
    "        \n",
    "        # Dropout layer for regularization.\n",
    "        self.dropout = nn.Dropout(dropout_p)\n",
    "        self.act = F.tanh  # You can change this activation if desired\n",
    "\n",
    "    def forward(self, x, return_hidden=False):\n",
    "        hidden_activations = []  # List to collect hidden activations\n",
    "\n",
    "        # Pass through each convolutional layer\n",
    "        for idx, conv in enumerate(self.conv_layers):\n",
    "            x = conv(x)\n",
    "            if self.use_batchnorm:\n",
    "                x = self.bn_layers[idx](x)\n",
    "            if return_hidden:\n",
    "                hidden_activations.append(x.detach().cpu())\n",
    "            x = self.act(x)\n",
    "            x = self.pool(x)\n",
    "        \n",
    "        x = self.dropout(x)\n",
    "        x = x.view(x.size(0), -1)  # Flatten the tensor\n",
    "\n",
    "        # First fully connected layer with activation\n",
    "        x = self.fc1(x)\n",
    "        x = self.act(x)\n",
    "        x = self.dropout(x)\n",
    "\n",
    "        # Final fully connected layer (logits)\n",
    "        x = self.fc2(x)\n",
    "        \n",
    "        if return_hidden:\n",
    "            return x, hidden_activations\n",
    "        return x\n",
    "\n",
    "\n",
    "def eval_features(model, testloader, thresh=0.9, tol=1e-10, rank_atol=1e-2, dead_tol=0.05):\n",
    "    model.eval()\n",
    "    sample_inputs, _ = next(iter(testloader))\n",
    "    sample_inputs = sample_inputs.to(device)\n",
    "    with torch.no_grad():\n",
    "        _, hidden_activations = model(sample_inputs, return_hidden=True)\n",
    "        \n",
    "    for act in hidden_activations:\n",
    "        # Reshape: (batch, channels, H, W) --> (channels, batch * H * W)\n",
    "        A = act.transpose(0, 1).flatten(1)\n",
    "        # Normalize each row (avoid division by zero with a small epsilon)\n",
    "        # A = A - A.mean(dim=1,keepdim=True)\n",
    "        A = A / (A.norm(dim=1, keepdim=True) + tol)\n",
    "        stds = A.std(dim=1) / A.abs().mean(dim=1)\n",
    "        # print(stds.shape, stds)\n",
    "        dead_features = (stds<dead_tol).sum()\n",
    "        # Compute cosine similarity matrix\n",
    "        C = A @ A.t()\n",
    "        rank = torch.linalg.matrix_rank(C, atol=rank_atol)\n",
    "        soft_rank = torch.trace(C)**2 / torch.trace(C @ C)\n",
    "        # Remove self-similarity by zeroing the diagonal and take absolute value.\n",
    "        C.fill_diagonal_(0)\n",
    "        C = C.abs()\n",
    "        # Create an adjacency matrix by thresholding.\n",
    "        Adj = (C > thresh).float()\n",
    "        \n",
    "        # Convert to numpy array (scipy works with numpy arrays)\n",
    "        Adj_np = Adj.numpy()\n",
    "        # Compute the number of connected components using SciPy's stable routine.\n",
    "        n_components, labels = connected_components(csgraph=Adj_np, directed=False)\n",
    "        R = Adj_np.shape[0]\n",
    "        print(f'# CC  = {n_components:4}, e-rank = {rank:4}, soft rank = {soft_rank:4.3f}, dead features = {dead_features:4} / {R}')\n",
    "\n",
    "# -------------------------\n",
    "# Data Preparation (Tiny ImageNet with Selected Classes)\n",
    "# -------------------------\n",
    "# Specify which classes to use.\n",
    "selected_classes = range(50)  # Set to None to use all available classes\n",
    "\n",
    "# Define the image size for resizing\n",
    "input_size = 128\n",
    "\n",
    "transform = transforms.Compose([\n",
    "    transforms.Resize((input_size, input_size)),  # Resize images to input_size x input_size\n",
    "    transforms.ToTensor(),\n",
    "    transforms.Normalize((0.5, 0.5, 0.5), (0.5, 0.5, 0.5))\n",
    "])\n",
    "\n",
    "# Load the Tiny ImageNet datasets using ImageFolder.\n",
    "# Adjust the root paths to where you have Tiny ImageNet stored.\n",
    "trainset = torchvision.datasets.ImageFolder(root='./data/tiny-imagenet-200/train', transform=transform)\n",
    "testset = torchvision.datasets.ImageFolder(root='./data/tiny-imagenet-200/val', transform=transform)\n",
    "\n",
    "# If selected_classes is specified, filter the dataset to include only those classes.\n",
    "if selected_classes is not None:\n",
    "    train_indices = [i for i, (_, label) in enumerate(trainset.samples) if label in selected_classes]\n",
    "    trainset = torch.utils.data.Subset(trainset, train_indices)\n",
    "    test_indices = [i for i, (_, label) in enumerate(testset.samples) if label in selected_classes]\n",
    "    testset = torch.utils.data.Subset(testset, test_indices)\n",
    "    num_used_classes = len(selected_classes)\n",
    "else:\n",
    "    num_used_classes = len(trainset.classes)\n",
    "\n",
    "trainloader = torch.utils.data.DataLoader(trainset, batch_size=64,\n",
    "                                          shuffle=True, num_workers=2)\n",
    "testloader = torch.utils.data.DataLoader(testset, batch_size=128,\n",
    "                                         shuffle=False, num_workers=2)\n",
    "\n",
    "# -------------------------\n",
    "# Model Configuration and Instantiation\n",
    "# -------------------------\n",
    "conv_channels = [256] * 7  # Example configuration\n",
    "fc_hidden_units = conv_channels[0]\n",
    "dropout_p = 0.0\n",
    "use_batchnorm = True\n",
    "\n",
    "device = torch.device(\"cuda:0\" if torch.cuda.is_available() else \"cpu\")\n",
    "# net = ConfigurableCNN(conv_channels, fc_hidden_units, dropout_p,\n",
    "#                       num_classes=num_used_classes, input_size=input_size, input_channels=3,\n",
    "#                       use_batchnorm=use_batchnorm).to(device)\n",
    "\n",
    "criterion = nn.CrossEntropyLoss()\n",
    "optimizer = optim.Adam(net.parameters(), lr=0.00005)\n",
    "\n",
    "# -------------------------\n",
    "# Training Loop\n",
    "# -------------------------\n",
    "num_epochs = 100  # Adjust the number of epochs as needed\n",
    "for epoch in range(num_epochs):\n",
    "    net.train()\n",
    "    running_loss = 0.0\n",
    "    for i, data in tqdm.tqdm(enumerate(trainloader, 0), total=len(trainloader)):\n",
    "        inputs, labels = data[0].to(device), data[1].to(device)\n",
    "        \n",
    "        optimizer.zero_grad()  # Zero the parameter gradients\n",
    "        outputs = net(inputs)   # Forward pass\n",
    "        loss = criterion(outputs, labels)  # Compute loss\n",
    "        loss.backward()  # Backpropagation\n",
    "        optimizer.step()  # Update parameters\n",
    "        \n",
    "        running_loss += loss.item()\n",
    "    print(f'Epoch {epoch + 1}, Train Loss: {running_loss / len(trainloader):.5f}')\n",
    "    running_loss = 0.0\n",
    "\n",
    "    # Optionally, evaluate feature connectivity\n",
    "    eval_features(net, testloader, thresh=0.95)\n",
    "    \n",
    "    # -------------------------\n",
    "    # Validation after each epoch\n",
    "    # -------------------------\n",
    "    net.eval()\n",
    "    correct = 0\n",
    "    total = 0\n",
    "    with torch.no_grad():\n",
    "        for data in testloader:\n",
    "            images, labels = data[0].to(device), data[1].to(device)\n",
    "            outputs = net(images)\n",
    "            _, predicted = torch.max(outputs.data, 1)\n",
    "            total += labels.size(0)\n",
    "            correct += (predicted == labels).sum().item()\n",
    "    accuracy = 100 * correct / total\n",
    "    print(f'Accuracy on test set after epoch {epoch + 1}: {accuracy:.2f}%')\n",
    "\n",
    "print(\"Training complete!\")\n",
    "x\n",
    "# -------------------------\n",
    "# Example: Obtaining Hidden Activations\n",
    "# -------------------------\n",
    "net.eval()\n",
    "sample_inputs, _ = next(iter(testloader))\n",
    "sample_inputs = sample_inputs.to(device)\n",
    "with torch.no_grad():\n",
    "    output, hidden_activations = net(sample_inputs, return_hidden=True)\n",
    "print(\"Collected {} hidden activations.\".format(len(hidden_activations)))\n"
   ]
  },
  {
   "cell_type": "code",
   "execution_count": null,
   "id": "b722580a-72c7-465b-9090-8727c6a71f85",
   "metadata": {},
   "outputs": [],
   "source": []
  },
  {
   "cell_type": "code",
   "execution_count": null,
   "id": "7b8a5bea-cf76-473b-92dc-6247337d3dfc",
   "metadata": {},
   "outputs": [],
   "source": []
  },
  {
   "cell_type": "code",
   "execution_count": null,
   "id": "fddf3d26-0202-4c11-9aa7-7b0aeeabb577",
   "metadata": {},
   "outputs": [],
   "source": []
  },
  {
   "cell_type": "code",
   "execution_count": null,
   "id": "17c8e32d-a47c-4f59-b60b-a35a0ef2dedc",
   "metadata": {},
   "outputs": [],
   "source": []
  },
  {
   "cell_type": "code",
   "execution_count": null,
   "id": "60ec7dc8-5b84-4ccf-a739-509042a84e10",
   "metadata": {},
   "outputs": [],
   "source": []
  }
 ],
 "metadata": {
  "kernelspec": {
   "display_name": "Python 3",
   "language": "python",
   "name": "python3"
  },
  "language_info": {
   "codemirror_mode": {
    "name": "ipython",
    "version": 3
   },
   "file_extension": ".py",
   "mimetype": "text/x-python",
   "name": "python",
   "nbconvert_exporter": "python",
   "pygments_lexer": "ipython3",
   "version": "3.10.14"
  }
 },
 "nbformat": 4,
 "nbformat_minor": 5
}
