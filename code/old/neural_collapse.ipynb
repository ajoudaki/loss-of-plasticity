{
 "cells": [
  {
   "cell_type": "code",
   "execution_count": 3,
   "id": "f0d743fc-2ca1-417e-8ed7-ebaa1c88bc33",
   "metadata": {},
   "outputs": [
    {
     "name": "stderr",
     "output_type": "stream",
     "text": [
      "100%|███████████████████████████████████████████████████████████████████████████████████████████████████████████████████████████████████████████████████████| 40/40 [00:31<00:00,  1.28it/s]\n"
     ]
    },
    {
     "name": "stdout",
     "output_type": "stream",
     "text": [
      "Activation=relu, Norm=none, WD=0.0, Test Acc=99.95\n",
      "Estimated rank of penultimate features: 76\n",
      "Penultimate layer rank=76\n",
      "----------------------------------------------------\n"
     ]
    },
    {
     "name": "stderr",
     "output_type": "stream",
     "text": [
      "100%|███████████████████████████████████████████████████████████████████████████████████████████████████████████████████████████████████████████████████████| 40/40 [00:30<00:00,  1.29it/s]\n"
     ]
    },
    {
     "name": "stdout",
     "output_type": "stream",
     "text": [
      "Activation=relu, Norm=none, WD=0.0001, Test Acc=99.86\n",
      "Estimated rank of penultimate features: 146\n",
      "Penultimate layer rank=146\n",
      "----------------------------------------------------\n"
     ]
    },
    {
     "name": "stderr",
     "output_type": "stream",
     "text": [
      "100%|███████████████████████████████████████████████████████████████████████████████████████████████████████████████████████████████████████████████████████| 40/40 [00:30<00:00,  1.30it/s]\n"
     ]
    },
    {
     "name": "stdout",
     "output_type": "stream",
     "text": [
      "Activation=relu, Norm=batchnorm, WD=0.0, Test Acc=99.95\n",
      "Estimated rank of penultimate features: 246\n",
      "Penultimate layer rank=246\n",
      "----------------------------------------------------\n"
     ]
    },
    {
     "name": "stderr",
     "output_type": "stream",
     "text": [
      "100%|███████████████████████████████████████████████████████████████████████████████████████████████████████████████████████████████████████████████████████| 40/40 [00:31<00:00,  1.28it/s]\n"
     ]
    },
    {
     "name": "stdout",
     "output_type": "stream",
     "text": [
      "Activation=relu, Norm=batchnorm, WD=0.0001, Test Acc=99.67\n",
      "Estimated rank of penultimate features: 167\n",
      "Penultimate layer rank=167\n",
      "----------------------------------------------------\n"
     ]
    },
    {
     "name": "stderr",
     "output_type": "stream",
     "text": [
      "100%|███████████████████████████████████████████████████████████████████████████████████████████████████████████████████████████████████████████████████████| 40/40 [00:31<00:00,  1.29it/s]\n"
     ]
    },
    {
     "name": "stdout",
     "output_type": "stream",
     "text": [
      "Activation=relu, Norm=layernorm, WD=0.0, Test Acc=99.91\n",
      "Estimated rank of penultimate features: 80\n",
      "Penultimate layer rank=80\n",
      "----------------------------------------------------\n"
     ]
    },
    {
     "name": "stderr",
     "output_type": "stream",
     "text": [
      "100%|███████████████████████████████████████████████████████████████████████████████████████████████████████████████████████████████████████████████████████| 40/40 [00:30<00:00,  1.30it/s]\n"
     ]
    },
    {
     "name": "stdout",
     "output_type": "stream",
     "text": [
      "Activation=relu, Norm=layernorm, WD=0.0001, Test Acc=99.95\n",
      "Estimated rank of penultimate features: 39\n",
      "Penultimate layer rank=39\n",
      "----------------------------------------------------\n"
     ]
    },
    {
     "name": "stderr",
     "output_type": "stream",
     "text": [
      "100%|███████████████████████████████████████████████████████████████████████████████████████████████████████████████████████████████████████████████████████| 40/40 [00:31<00:00,  1.27it/s]\n"
     ]
    },
    {
     "name": "stdout",
     "output_type": "stream",
     "text": [
      "Activation=tanh, Norm=none, WD=0.0, Test Acc=99.43\n",
      "Estimated rank of penultimate features: 3\n",
      "Penultimate layer rank=3\n",
      "----------------------------------------------------\n"
     ]
    },
    {
     "name": "stderr",
     "output_type": "stream",
     "text": [
      "100%|███████████████████████████████████████████████████████████████████████████████████████████████████████████████████████████████████████████████████████| 40/40 [00:31<00:00,  1.26it/s]\n"
     ]
    },
    {
     "name": "stdout",
     "output_type": "stream",
     "text": [
      "Activation=tanh, Norm=none, WD=0.0001, Test Acc=99.10\n",
      "Estimated rank of penultimate features: 113\n",
      "Penultimate layer rank=113\n",
      "----------------------------------------------------\n"
     ]
    },
    {
     "name": "stderr",
     "output_type": "stream",
     "text": [
      "100%|███████████████████████████████████████████████████████████████████████████████████████████████████████████████████████████████████████████████████████| 40/40 [00:31<00:00,  1.28it/s]\n"
     ]
    },
    {
     "name": "stdout",
     "output_type": "stream",
     "text": [
      "Activation=tanh, Norm=batchnorm, WD=0.0, Test Acc=99.95\n",
      "Estimated rank of penultimate features: 236\n",
      "Penultimate layer rank=236\n",
      "----------------------------------------------------\n"
     ]
    },
    {
     "name": "stderr",
     "output_type": "stream",
     "text": [
      "100%|███████████████████████████████████████████████████████████████████████████████████████████████████████████████████████████████████████████████████████| 40/40 [00:31<00:00,  1.26it/s]\n"
     ]
    },
    {
     "name": "stdout",
     "output_type": "stream",
     "text": [
      "Activation=tanh, Norm=batchnorm, WD=0.0001, Test Acc=99.91\n",
      "Estimated rank of penultimate features: 68\n",
      "Penultimate layer rank=68\n",
      "----------------------------------------------------\n"
     ]
    },
    {
     "name": "stderr",
     "output_type": "stream",
     "text": [
      "100%|███████████████████████████████████████████████████████████████████████████████████████████████████████████████████████████████████████████████████████| 40/40 [00:30<00:00,  1.29it/s]\n"
     ]
    },
    {
     "name": "stdout",
     "output_type": "stream",
     "text": [
      "Activation=tanh, Norm=layernorm, WD=0.0, Test Acc=99.95\n",
      "Estimated rank of penultimate features: 42\n",
      "Penultimate layer rank=42\n",
      "----------------------------------------------------\n"
     ]
    },
    {
     "name": "stderr",
     "output_type": "stream",
     "text": [
      "100%|███████████████████████████████████████████████████████████████████████████████████████████████████████████████████████████████████████████████████████| 40/40 [00:31<00:00,  1.27it/s]\n"
     ]
    },
    {
     "name": "stdout",
     "output_type": "stream",
     "text": [
      "Activation=tanh, Norm=layernorm, WD=0.0001, Test Acc=99.72\n",
      "Estimated rank of penultimate features: 34\n",
      "Penultimate layer rank=34\n",
      "----------------------------------------------------\n"
     ]
    },
    {
     "name": "stderr",
     "output_type": "stream",
     "text": [
      "100%|███████████████████████████████████████████████████████████████████████████████████████████████████████████████████████████████████████████████████████| 40/40 [00:31<00:00,  1.27it/s]\n"
     ]
    },
    {
     "name": "stdout",
     "output_type": "stream",
     "text": [
      "Activation=sigmoid, Norm=none, WD=0.0, Test Acc=99.95\n",
      "Estimated rank of penultimate features: 6\n",
      "Penultimate layer rank=6\n",
      "----------------------------------------------------\n"
     ]
    },
    {
     "name": "stderr",
     "output_type": "stream",
     "text": [
      "100%|███████████████████████████████████████████████████████████████████████████████████████████████████████████████████████████████████████████████████████| 40/40 [00:30<00:00,  1.30it/s]\n"
     ]
    },
    {
     "name": "stdout",
     "output_type": "stream",
     "text": [
      "Activation=sigmoid, Norm=none, WD=0.0001, Test Acc=99.86\n",
      "Estimated rank of penultimate features: 43\n",
      "Penultimate layer rank=43\n",
      "----------------------------------------------------\n"
     ]
    },
    {
     "name": "stderr",
     "output_type": "stream",
     "text": [
      "100%|███████████████████████████████████████████████████████████████████████████████████████████████████████████████████████████████████████████████████████| 40/40 [00:31<00:00,  1.25it/s]\n"
     ]
    },
    {
     "name": "stdout",
     "output_type": "stream",
     "text": [
      "Activation=sigmoid, Norm=batchnorm, WD=0.0, Test Acc=99.95\n",
      "Estimated rank of penultimate features: 143\n",
      "Penultimate layer rank=143\n",
      "----------------------------------------------------\n"
     ]
    },
    {
     "name": "stderr",
     "output_type": "stream",
     "text": [
      "100%|███████████████████████████████████████████████████████████████████████████████████████████████████████████████████████████████████████████████████████| 40/40 [00:31<00:00,  1.27it/s]\n"
     ]
    },
    {
     "name": "stdout",
     "output_type": "stream",
     "text": [
      "Activation=sigmoid, Norm=batchnorm, WD=0.0001, Test Acc=99.91\n",
      "Estimated rank of penultimate features: 134\n",
      "Penultimate layer rank=134\n",
      "----------------------------------------------------\n"
     ]
    },
    {
     "name": "stderr",
     "output_type": "stream",
     "text": [
      "100%|███████████████████████████████████████████████████████████████████████████████████████████████████████████████████████████████████████████████████████| 40/40 [00:30<00:00,  1.30it/s]\n"
     ]
    },
    {
     "name": "stdout",
     "output_type": "stream",
     "text": [
      "Activation=sigmoid, Norm=layernorm, WD=0.0, Test Acc=99.95\n",
      "Estimated rank of penultimate features: 50\n",
      "Penultimate layer rank=50\n",
      "----------------------------------------------------\n"
     ]
    },
    {
     "name": "stderr",
     "output_type": "stream",
     "text": [
      "100%|███████████████████████████████████████████████████████████████████████████████████████████████████████████████████████████████████████████████████████| 40/40 [00:31<00:00,  1.27it/s]\n"
     ]
    },
    {
     "name": "stdout",
     "output_type": "stream",
     "text": [
      "Activation=sigmoid, Norm=layernorm, WD=0.0001, Test Acc=99.95\n",
      "Estimated rank of penultimate features: 11\n",
      "Penultimate layer rank=11\n",
      "----------------------------------------------------\n"
     ]
    }
   ],
   "source": [
    "import torch\n",
    "import torch.nn as nn\n",
    "import torch.optim as optim\n",
    "from torch.utils.data import DataLoader\n",
    "import torchvision.transforms as T\n",
    "import torchvision.datasets as datasets\n",
    "import tqdm \n",
    "from torch.utils.data import Dataset\n",
    "\n",
    "class SubsampledDataset(Dataset):\n",
    "    def __init__(self, dataset, select_classes):\n",
    "        \"\"\"\n",
    "        Wrap an existing dataset to only include samples whose labels are in select_classes.\n",
    "        Labels are remapped to 0, 1, ..., len(select_classes)-1.\n",
    "        \"\"\"\n",
    "        self.dataset = dataset\n",
    "        self.select_classes = set(select_classes)\n",
    "        # Create mapping: original label -> new label (0-indexed)\n",
    "        self.class_map = {orig_label: new_label \n",
    "                          for new_label, orig_label in enumerate(sorted(select_classes))}\n",
    "        # Filter indices for samples that belong to the desired classes\n",
    "        self.indices = [i for i, (_, label) in enumerate(dataset) if label in self.select_classes]\n",
    "        \n",
    "    def __len__(self):\n",
    "        return len(self.indices)\n",
    "    \n",
    "    def __getitem__(self, idx):\n",
    "        actual_idx = self.indices[idx]\n",
    "        x, y = self.dataset[actual_idx]\n",
    "        return x, self.class_map[y]\n",
    "\n",
    "\n",
    "# --- Hyperparameters ---\n",
    "batch_size = 1024\n",
    "lr = 1e-2\n",
    "epochs = 40\n",
    "weight_decay_list = [0.0, 1e-4]  # as an example\n",
    "\n",
    "\n",
    "# Specify which classes to include; for example, only classes 0, 1, and 2.\n",
    "select_classes = [0, 1, ]\n",
    "\n",
    "transform = T.Compose([T.ToTensor()])\n",
    "# Load the full MNIST dataset\n",
    "full_train_dataset = datasets.MNIST(root='./data', train=True, download=True, transform=transform)\n",
    "full_test_dataset  = datasets.MNIST(root='./data', train=False, download=True, transform=transform)\n",
    "\n",
    "# Wrap the dataset to only include the selected classes\n",
    "train_dataset = SubsampledDataset(full_train_dataset, select_classes)\n",
    "test_dataset  = SubsampledDataset(full_test_dataset, select_classes)\n",
    "\n",
    "train_loader = DataLoader(train_dataset, batch_size=batch_size, shuffle=True)\n",
    "test_loader  = DataLoader(test_dataset, batch_size=batch_size, shuffle=False)\n",
    "\n",
    "# Number of classes\n",
    "num_classes = 10\n",
    "# Penultimate dimension, bigger than num_classes\n",
    "hidden_dim = 512\n",
    "\n",
    "class Noramalization(nn.Module):\n",
    "    def __init__(self,):\n",
    "        super().__init__()\n",
    "        \n",
    "\n",
    "\n",
    "# ---- Model Definition with Configurable Activation and Norm ----\n",
    "class SimpleNet(nn.Module):\n",
    "    def __init__(self, activation='relu', norm='none', weight_decay=0.0):\n",
    "        super().__init__()\n",
    "        \n",
    "        # Just a simple MLP for demonstration; you can add CNN layers for CIFAR\n",
    "        self.activation_choice = activation\n",
    "        if activation == 'relu':\n",
    "            self.act = nn.ReLU()\n",
    "        elif activation == 'tanh':\n",
    "            self.act = nn.Tanh()\n",
    "        elif activation == 'sigmoid':\n",
    "            self.act = nn.Sigmoid()\n",
    "        else:\n",
    "            raise ValueError(\"Unsupported activation\")\n",
    "\n",
    "        self.norm_choice = norm\n",
    "        if norm == 'batchnorm':\n",
    "            norm_layer = nn.BatchNorm1d\n",
    "        elif norm == 'layernorm':\n",
    "            norm_layer = nn.LayerNorm\n",
    "        elif norm == 'none':\n",
    "            norm_layer = nn.Identity\n",
    "        else:\n",
    "            raise ValueError(\"Unsupported normalization\")\n",
    "\n",
    "        # A small MLP: Flatten -> Dense -> Activation -> Normalization -> Dense -> ...\n",
    "        self.fc1 = nn.Linear(28*28, hidden_dim)\n",
    "        self.norm1 = norm_layer(hidden_dim)\n",
    "        self.fc2 = nn.Linear(hidden_dim, hidden_dim)\n",
    "        self.norm2 = norm_layer(hidden_dim)\n",
    "        self.fc3 = nn.Linear(hidden_dim, num_classes)\n",
    "\n",
    "    def forward(self, x, return_penultimate=False):\n",
    "        x = x.view(x.size(0), -1)\n",
    "        z = self.fc1(x)\n",
    "        z = self.norm1(z)\n",
    "        z = self.act(z)\n",
    "        z = self.fc2(z)\n",
    "        z = self.norm2(z)\n",
    "        z = self.act(z)\n",
    "        out = self.fc3(z)\n",
    "        \n",
    "        if return_penultimate:\n",
    "            # Return both the final logits and the penultimate features\n",
    "            return out, z\n",
    "        return out\n",
    "\n",
    "# ---- Training loop utility ----\n",
    "def train_one_variant(activation, norm, weight_decay):\n",
    "    # Instantiate model\n",
    "    model = SimpleNet(activation=activation, norm=norm)\n",
    "    device = torch.device(\"cuda:1\" if torch.cuda.is_available() else \"cpu\")\n",
    "    model.to(device)\n",
    "\n",
    "    criterion = nn.CrossEntropyLoss()\n",
    "    optimizer = optim.Adam(model.parameters(), lr=lr, weight_decay=weight_decay)\n",
    "\n",
    "    # Train\n",
    "    model.train()\n",
    "    for ep in tqdm.trange(epochs):\n",
    "        for images, labels in train_loader:\n",
    "            images, labels = images.to(device), labels.to(device)\n",
    "            optimizer.zero_grad()\n",
    "            preds = model(images)\n",
    "            loss = criterion(preds, labels)\n",
    "            loss.backward()\n",
    "            optimizer.step()\n",
    "\n",
    "    # Evaluate classification performance on test set\n",
    "    model.eval()\n",
    "    correct = 0\n",
    "    total = 0\n",
    "    with torch.no_grad():\n",
    "        for images, labels in test_loader:\n",
    "            images, labels = images.to(device), labels.to(device)\n",
    "            outputs = model(images)\n",
    "            _, predicted = outputs.max(1)\n",
    "            correct += (predicted == labels).sum().item()\n",
    "            total += labels.size(0)\n",
    "    acc = 100.0 * correct / total\n",
    "    return model, acc\n",
    "\n",
    "# ---- Extract penultimate layer features and compute rank ----\n",
    "def analyze_penultimate_features(model):\n",
    "    device = torch.device(\"cuda:1\" if torch.cuda.is_available() else \"cpu\")\n",
    "    model.eval()\n",
    "    all_feats = []\n",
    "    all_labels = []\n",
    "    with torch.no_grad():\n",
    "        for images, labels in train_loader:\n",
    "            images = images.to(device)\n",
    "            outputs, feats = model(images, return_penultimate=True)\n",
    "            all_feats.append(feats.cpu())\n",
    "            all_labels.append(labels)\n",
    "\n",
    "    all_feats = torch.cat(all_feats, dim=0)\n",
    "    all_labels = torch.cat(all_labels, dim=0)\n",
    "\n",
    "    # Compute numerical rank of (N x hidden_dim) features\n",
    "    # We'll do SVD or rank via torch.linalg.svdvals\n",
    "    svs = torch.linalg.svdvals(all_feats)\n",
    "    # For numerical rank, define a threshold e.g. 1e-5 * largest singular value\n",
    "    threshold = svs.mean().item() * 1e-2\n",
    "    rank_est = int((svs > threshold).sum().item())\n",
    "\n",
    "    # Also you can check rank per class, or measure within-class scatter\n",
    "    # Example: rank across entire dataset\n",
    "    print(\"Estimated rank of penultimate features:\", rank_est)\n",
    "\n",
    "    # Optionally compute within-class covariance or scatter\n",
    "    # for c in range(num_classes):\n",
    "    #     class_feats = all_feats[all_labels == c]\n",
    "    #     # Compute variance or some measure for these...\n",
    "    #     ...\n",
    "\n",
    "    return rank_est\n",
    "\n",
    "# ------------- MAIN EXPERIMENT -------------\n",
    "if __name__ == \"__main__\":\n",
    "    for activation in ['relu', 'tanh', 'sigmoid']:\n",
    "        for norm in ['none', 'batchnorm', 'layernorm']:\n",
    "            for wd in weight_decay_list:\n",
    "                model, acc = train_one_variant(activation, norm, wd)\n",
    "                print(f\"Activation={activation}, Norm={norm}, WD={wd}, Test Acc={acc:.2f}\")\n",
    "                rank_est = analyze_penultimate_features(model)\n",
    "                print(f\"Penultimate layer rank={rank_est}\")\n",
    "                print(\"----------------------------------------------------\")\n"
   ]
  },
  {
   "cell_type": "code",
   "execution_count": 1,
   "id": "b539f3c6-d8f2-40fc-b81a-0b96d66135b4",
   "metadata": {},
   "outputs": [
    {
     "name": "stdout",
     "output_type": "stream",
     "text": [
      "2.302903413772583\n",
      "top C eigs / total eigs =   0.3409665822982788\n",
      "1.7006683349609375\n",
      "top C eigs / total eigs =   0.35945844650268555\n",
      "0.6711888909339905\n",
      "top C eigs / total eigs =   0.38364148139953613\n",
      "0.11468775570392609\n",
      "top C eigs / total eigs =   0.3833918869495392\n",
      "0.021001525223255157\n",
      "top C eigs / total eigs =   0.3808661997318268\n",
      "0.00749711599200964\n",
      "top C eigs / total eigs =   0.3800453543663025\n",
      "0.0042839329689741135\n",
      "top C eigs / total eigs =   0.37982437014579773\n",
      "0.003134742844849825\n",
      "top C eigs / total eigs =   0.3797539174556732\n",
      "0.0025819989386945963\n",
      "top C eigs / total eigs =   0.3797118067741394\n",
      "0.0022480571642518044\n",
      "top C eigs / total eigs =   0.3796693980693817\n",
      "0.0020098956301808357\n",
      "top C eigs / total eigs =   0.379621297121048\n",
      "0.0018214788287878036\n",
      "top C eigs / total eigs =   0.37956860661506653\n",
      "0.0016637679655104876\n",
      "top C eigs / total eigs =   0.3795127868652344\n",
      "0.001527746906504035\n",
      "top C eigs / total eigs =   0.3794545531272888\n",
      "0.0014085641596466303\n",
      "top C eigs / total eigs =   0.379395991563797\n",
      "0.00130315066780895\n",
      "top C eigs / total eigs =   0.3793371617794037\n",
      "0.001209320849739015\n",
      "top C eigs / total eigs =   0.3792794346809387\n",
      "0.0011253692209720612\n",
      "top C eigs / total eigs =   0.3792223036289215\n",
      "0.0010499379131942987\n",
      "top C eigs / total eigs =   0.37916600704193115\n",
      "0.000981909572146833\n",
      "top C eigs / total eigs =   0.3791111409664154\n",
      "0.0009203428053297102\n",
      "top C eigs / total eigs =   0.3790576159954071\n",
      "0.0008644392946735024\n",
      "top C eigs / total eigs =   0.37900540232658386\n",
      "0.0008135332027450204\n",
      "top C eigs / total eigs =   0.3789549171924591\n",
      "0.0007670430932193995\n",
      "top C eigs / total eigs =   0.378905713558197\n",
      "0.0007244705921038985\n",
      "top C eigs / total eigs =   0.37885791063308716\n",
      "0.000685378210619092\n",
      "top C eigs / total eigs =   0.3788117468357086\n",
      "0.0006494086119346321\n",
      "top C eigs / total eigs =   0.378766804933548\n",
      "0.0006162401405163109\n",
      "top C eigs / total eigs =   0.3787229061126709\n",
      "0.000585588626563549\n",
      "top C eigs / total eigs =   0.3786807954311371\n",
      "0.0005572012742049992\n",
      "top C eigs / total eigs =   0.3786395788192749\n",
      "0.0005308582913130522\n",
      "top C eigs / total eigs =   0.3785996735095978\n",
      "0.0005063700955361128\n",
      "top C eigs / total eigs =   0.378560870885849\n",
      "0.0004835599975194782\n",
      "top C eigs / total eigs =   0.37852293252944946\n",
      "0.00046228108112700284\n",
      "top C eigs / total eigs =   0.3784862458705902\n",
      "0.000442396936705336\n",
      "top C eigs / total eigs =   0.378450483083725\n",
      "0.00042378611396998167\n",
      "top C eigs / total eigs =   0.3784160315990448\n",
      "0.00040634142351336777\n",
      "top C eigs / total eigs =   0.37838214635849\n",
      "0.0003899709554389119\n",
      "top C eigs / total eigs =   0.3783493638038635\n",
      "0.0003745814028661698\n",
      "top C eigs / total eigs =   0.3783175051212311\n",
      "0.0003600996278692037\n",
      "top C eigs / total eigs =   0.3782865107059479\n"
     ]
    }
   ],
   "source": [
    "import torch\n",
    "import torch.nn as nn\n",
    "import torch.nn.functional as F\n",
    "import torch.optim as optim\n",
    "import math\n",
    "import matplotlib.pyplot as plt\n",
    "\n",
    "# ------------------------\n",
    "# Define an optional RMSNorm\n",
    "# ------------------------\n",
    "class RMSNorm(nn.Module):\n",
    "    def __init__(self, d, eps=1e-8):\n",
    "        super().__init__()\n",
    "        self.d = d\n",
    "        self.eps = eps\n",
    "        # Optional learnable scale (set to 1 by default)\n",
    "        self.scale = nn.Parameter(torch.ones(d))\n",
    "    \n",
    "    def forward(self, x):\n",
    "        # Compute the root-mean-square along the last dimension\n",
    "        rms = x.pow(2).mean(dim=-1, keepdim=True).sqrt() + self.eps\n",
    "        return self.scale * x / rms\n",
    "\n",
    "# ------------------------\n",
    "# Define the two-layer model\n",
    "# ------------------------\n",
    "class TwoLayerModel(nn.Module):\n",
    "    def __init__(self, d, C, activation='relu', norm_type=None):\n",
    "        \"\"\"\n",
    "        d: hidden dimension (and input dimension)\n",
    "        C: number of classes (output dimension)\n",
    "        activation: 'relu', 'tanh', or 'sigmoid'\n",
    "        norm_type: None, 'layer_norm', 'batch_norm', or 'rms_norm'\n",
    "        \"\"\"\n",
    "        super().__init__()\n",
    "        self.d = d\n",
    "        self.C = C\n",
    "        self.activation = activation\n",
    "        self.norm_type = norm_type\n",
    "        \n",
    "        # First layer: dxd Gaussian matrix with entries ~ N(0, 1/d)\n",
    "        self.W1 = nn.Parameter(torch.randn(d, d) / math.sqrt(d))\n",
    "        \n",
    "        # Second layer: d x C Gaussian matrix with entries ~ N(0, 1/d^2)\n",
    "        self.W2 = nn.Parameter(torch.randn(d, C) / d)\n",
    "        \n",
    "        # Optional normalization before activation\n",
    "        if norm_type == 'LN':\n",
    "            self.norm = nn.LayerNorm(d)\n",
    "        elif norm_type == 'BN':\n",
    "            self.norm = nn.BatchNorm1d(d)\n",
    "        elif norm_type == 'RMS':\n",
    "            self.norm = RMSNorm(d)\n",
    "        else:\n",
    "            self.norm = None\n",
    "\n",
    "    def forward(self, X):\n",
    "        # X: (N, d)\n",
    "        pre_act = X @ self.W1  # (N, d)\n",
    "        \n",
    "        # Optionally apply normalization to the pre-activations\n",
    "        if self.norm is not None:\n",
    "            pre_act = self.norm(pre_act)\n",
    "        \n",
    "        # Apply activation\n",
    "        if self.activation == 'relu':\n",
    "            act = F.relu(pre_act)\n",
    "        elif self.activation == 'tanh':\n",
    "            act = torch.tanh(pre_act)\n",
    "        elif self.activation == 'sigmoid':\n",
    "            act = torch.sigmoid(pre_act)\n",
    "        else:\n",
    "            raise ValueError(\"Unsupported activation\")\n",
    "        \n",
    "        # Compute logits via the second weight matrix\n",
    "        logits = act @ self.W2  # (N, C)\n",
    "        return logits, act, pre_act\n",
    "\n",
    "# ------------------------\n",
    "# Experiment Setup\n",
    "# ------------------------\n",
    "\n",
    "# Set experiment parameters\n",
    "N = 5000       # total number of samples\n",
    "d = 1000       # dimension of each sample (and hidden layer)\n",
    "C = 10        # number of classes\n",
    "num_epochs = 400\n",
    "\n",
    "# Generate N random vectors (each of dimension d)\n",
    "X = torch.randn(N, d)\n",
    "\n",
    "# Assign labels: i-th sample has label (i mod C)\n",
    "labels = torch.tensor([i%C for i in range(N)], dtype=torch.long)\n",
    "\n",
    "# Choose activation and normalization options\n",
    "activation = 'relu'         # options: 'relu', 'tanh', 'sigmoid'\n",
    "norm_type = '‌‌BN'            # options: None, 'layer_norm', 'batch_norm', 'rms_norm'\n",
    "\n",
    "# Instantiate the model\n",
    "model = TwoLayerModel(d, C, activation=activation, norm_type=norm_type)\n",
    "\n",
    "# Set up the optimizer and loss function\n",
    "optimizer = optim.Adam(model.parameters(), lr=0.001)\n",
    "criterion = nn.CrossEntropyLoss()\n",
    "\n",
    "def test_model(model, C):\n",
    "    logits, act, pre_act = model(X)\n",
    "    M = act\n",
    "    # M = M - M.mean(dim=1,keepdim=True)\n",
    "    M = M / (M**2).mean(dim=1,keepdim=True)**0.5\n",
    "    G = M.T @ M  / N\n",
    "    svals = torch.linalg.svdvals(G,).detach()\n",
    "    # plt.plot(svals,marker='.');\n",
    "    print('top C eigs / total eigs =  ' , (svals[:C].sum()/svals.sum()).item())\n",
    "\n",
    "\n",
    "# ------------------------\n",
    "# Training Loop\n",
    "# ------------------------\n",
    "for epoch in range(num_epochs):\n",
    "    optimizer.zero_grad()\n",
    "    \n",
    "    # Forward pass: compute logits\n",
    "    logits, _, _ = model(X)\n",
    "    \n",
    "    # Compute cross-entropy loss\n",
    "    loss = criterion(logits, labels)\n",
    "    \n",
    "    # Backward pass and update\n",
    "    loss.backward()\n",
    "    optimizer.step()\n",
    "    if (epoch)%10==0:\n",
    "        print(loss.item())\n",
    "        test_model(model, C)"
   ]
  },
  {
   "cell_type": "code",
   "execution_count": 3,
   "id": "a728424a-00c2-46f8-b2b2-5baf47955272",
   "metadata": {},
   "outputs": [
    {
     "data": {
      "text/plain": [
       "tensor([[ 1.0092, -0.0137, -0.0688, -0.0395,  0.0074],\n",
       "        [-0.0137,  1.0250, -0.0665, -0.0482, -0.0313],\n",
       "        [-0.0688, -0.0665,  1.0392,  0.0471, -0.0036],\n",
       "        [-0.0395, -0.0482,  0.0471,  0.9722,  0.0149],\n",
       "        [ 0.0074, -0.0313, -0.0036,  0.0149,  0.9994]],\n",
       "       grad_fn=<SliceBackward0>)"
      ]
     },
     "execution_count": 3,
     "metadata": {},
     "output_type": "execute_result"
    },
    {
     "data": {
      "image/png": "[encoded data removed]",
      "text/plain": [
       "<Figure size 640x480 with 1 Axes>"
      ]
     },
     "metadata": {},
     "output_type": "display_data"
    }
   ],
   "source": [
    "logits, act, pre_act = model(X)\n",
    "M = pre_act\n",
    "# M = M - M.mean(dim=1,keepdim=True)\n",
    "M = M / (M**2).mean(dim=1,keepdim=True)**0.5\n",
    "G = M.T @ M  / N\n",
    "svals = torch.linalg.svdvals(G,).detach()\n",
    "plt.plot(svals,marker='.');\n",
    "svals[:10].sum()/svals.sum()\n",
    "\n",
    "\n",
    "G[:5,:5]\n",
    "# plt.imshow(G[:5,:5].detach())\n",
    "# plt.colorbar()"
   ]
  },
  {
   "cell_type": "code",
   "execution_count": 4,
   "id": "f1ed2b0c-9613-42e4-8c9f-9d680755fb7a",
   "metadata": {},
   "outputs": [
    {
     "data": {
      "image/png": "[encoded data removed]",
      "text/plain": [
       "<Figure size 640x480 with 1 Axes>"
      ]
     },
     "metadata": {},
     "output_type": "display_data"
    }
   ],
   "source": [
    "G_flat = torch.triu(G.detach(), diagonal=1).flatten()\n",
    "G_flat = G_flat[G_flat!=0]\n",
    "plt.hist(G_flat,bins=30);"
   ]
  },
  {
   "cell_type": "code",
   "execution_count": 8,
   "id": "b6a11760-b5de-4930-804f-f10573dba28d",
   "metadata": {},
   "outputs": [
    {
     "data": {
      "image/png": "[encoded data removed]",
      "text/plain": [
       "<Figure size 640x480 with 1 Axes>"
      ]
     },
     "metadata": {},
     "output_type": "display_data"
    }
   ],
   "source": [
    "import matplotlib.pyplot as plt\n",
    "import numpy as np\n",
    "f = 1\n",
    "plt.hist(act[:,f].detach(),label=' act',alpha=0.5,bins=30)\n",
    "plt.hist(pre_act[:,f].detach(),label='pre act',alpha=0.5,bins=30)\n",
    "plt.legend();"
   ]
  },
  {
   "cell_type": "code",
   "execution_count": 7,
   "id": "4b6f4a6d-a9f1-4e3b-ae6c-dc565065391e",
   "metadata": {},
   "outputs": [
    {
     "data": {
      "text/plain": [
       "torch.Size([5000, 1000])"
      ]
     },
     "execution_count": 7,
     "metadata": {},
     "output_type": "execute_result"
    }
   ],
   "source": [
    "act.shape"
   ]
  },
  {
   "cell_type": "code",
   "execution_count": 185,
   "id": "88631d49-302d-4b5c-ab2d-ff74a4f8ad94",
   "metadata": {},
   "outputs": [
    {
     "data": {
      "text/plain": [
       "tensor([3.0583e+01, 2.9076e+01, 2.7079e+01, 2.5391e+01, 2.4546e+01, 2.4120e+01,\n",
       "        2.3484e+01, 2.1080e+01, 1.9404e+01, 1.1915e+01, 5.5937e+00, 5.4528e+00,\n",
       "        5.2881e+00, 5.2259e+00, 5.0046e+00, 4.9929e+00, 4.8882e+00, 4.7590e+00,\n",
       "        4.6955e+00, 4.5629e+00, 4.4675e+00, 4.4192e+00, 4.3149e+00, 4.3064e+00,\n",
       "        4.2440e+00, 4.1676e+00, 4.0469e+00, 3.9413e+00, 3.9080e+00, 3.8549e+00,\n",
       "        3.8205e+00, 3.7708e+00, 3.7543e+00, 3.6888e+00, 3.6612e+00, 3.6120e+00,\n",
       "        3.6008e+00, 3.5695e+00, 3.4890e+00, 3.4282e+00, 3.4051e+00, 3.3510e+00,\n",
       "        3.3082e+00, 3.2907e+00, 3.2697e+00, 3.2335e+00, 3.2221e+00, 3.1804e+00,\n",
       "        3.1321e+00, 3.1235e+00, 3.1207e+00, 3.0751e+00, 3.0063e+00, 2.9779e+00,\n",
       "        2.9564e+00, 2.9178e+00, 2.9133e+00, 2.9084e+00, 2.8684e+00, 2.8448e+00,\n",
       "        2.8214e+00, 2.7903e+00, 2.7766e+00, 2.7568e+00, 2.7521e+00, 2.7365e+00,\n",
       "        2.7068e+00, 2.6798e+00, 2.6720e+00, 2.6498e+00, 2.6478e+00, 2.6242e+00,\n",
       "        2.6179e+00, 2.6041e+00, 2.5871e+00, 2.5693e+00, 2.5649e+00, 2.5264e+00,\n",
       "        2.5079e+00, 2.4903e+00, 2.4679e+00, 2.4608e+00, 2.4523e+00, 2.4429e+00,\n",
       "        2.4219e+00, 2.4048e+00, 2.3770e+00, 2.3561e+00, 2.3413e+00, 2.3296e+00,\n",
       "        2.3204e+00, 2.2980e+00, 2.2881e+00, 2.2723e+00, 2.2674e+00, 2.2581e+00,\n",
       "        2.2377e+00, 2.2304e+00, 2.2180e+00, 2.1976e+00, 2.1735e+00, 2.1680e+00,\n",
       "        2.1609e+00, 2.1435e+00, 2.1342e+00, 2.1169e+00, 2.1137e+00, 2.1039e+00,\n",
       "        2.0771e+00, 2.0734e+00, 2.0623e+00, 2.0585e+00, 2.0502e+00, 2.0359e+00,\n",
       "        2.0260e+00, 2.0147e+00, 1.9978e+00, 1.9894e+00, 1.9823e+00, 1.9600e+00,\n",
       "        1.9537e+00, 1.9419e+00, 1.9278e+00, 1.9196e+00, 1.9140e+00, 1.9045e+00,\n",
       "        1.8886e+00, 1.8797e+00, 1.8750e+00, 1.8579e+00, 1.8548e+00, 1.8473e+00,\n",
       "        1.8395e+00, 1.8331e+00, 1.8276e+00, 1.8139e+00, 1.8044e+00, 1.7951e+00,\n",
       "        1.7904e+00, 1.7838e+00, 1.7778e+00, 1.7716e+00, 1.7644e+00, 1.7443e+00,\n",
       "        1.7423e+00, 1.7342e+00, 1.7328e+00, 1.7272e+00, 1.7206e+00, 1.6966e+00,\n",
       "        1.6919e+00, 1.6862e+00, 1.6797e+00, 1.6687e+00, 1.6605e+00, 1.6530e+00,\n",
       "        1.6492e+00, 1.6476e+00, 1.6342e+00, 1.6236e+00, 1.6196e+00, 1.6116e+00,\n",
       "        1.6004e+00, 1.5982e+00, 1.5939e+00, 1.5844e+00, 1.5788e+00, 1.5722e+00,\n",
       "        1.5660e+00, 1.5623e+00, 1.5582e+00, 1.5485e+00, 1.5408e+00, 1.5375e+00,\n",
       "        1.5328e+00, 1.5292e+00, 1.5092e+00, 1.5059e+00, 1.4968e+00, 1.4945e+00,\n",
       "        1.4869e+00, 1.4778e+00, 1.4717e+00, 1.4666e+00, 1.4580e+00, 1.4495e+00,\n",
       "        1.4460e+00, 1.4356e+00, 1.4289e+00, 1.4221e+00, 1.4184e+00, 1.4163e+00,\n",
       "        1.4052e+00, 1.4007e+00, 1.3975e+00, 1.3853e+00, 1.3812e+00, 1.3768e+00,\n",
       "        1.3698e+00, 1.3654e+00, 1.3544e+00, 1.3517e+00, 1.3481e+00, 1.3422e+00,\n",
       "        1.3344e+00, 1.3259e+00, 1.3158e+00, 1.3133e+00, 1.3107e+00, 1.3077e+00,\n",
       "        1.3034e+00, 1.2988e+00, 1.2920e+00, 1.2853e+00, 1.2779e+00, 1.2750e+00,\n",
       "        1.2718e+00, 1.2685e+00, 1.2642e+00, 1.2602e+00, 1.2553e+00, 1.2507e+00,\n",
       "        1.2469e+00, 1.2424e+00, 1.2361e+00, 1.2323e+00, 1.2250e+00, 1.2190e+00,\n",
       "        1.2168e+00, 1.2138e+00, 1.2130e+00, 1.2071e+00, 1.1997e+00, 1.1930e+00,\n",
       "        1.1879e+00, 1.1842e+00, 1.1787e+00, 1.1738e+00, 1.1693e+00, 1.1612e+00,\n",
       "        1.1570e+00, 1.1515e+00, 1.1488e+00, 1.1465e+00, 1.1438e+00, 1.1365e+00,\n",
       "        1.1265e+00, 1.1258e+00, 1.1223e+00, 1.1174e+00, 1.1161e+00, 1.1137e+00,\n",
       "        1.1059e+00, 1.0985e+00, 1.0947e+00, 1.0907e+00, 1.0873e+00, 1.0814e+00,\n",
       "        1.0783e+00, 1.0769e+00, 1.0727e+00, 1.0662e+00, 1.0567e+00, 1.0541e+00,\n",
       "        1.0482e+00, 1.0463e+00, 1.0451e+00, 1.0407e+00, 1.0383e+00, 1.0367e+00,\n",
       "        1.0306e+00, 1.0275e+00, 1.0222e+00, 1.0164e+00, 1.0098e+00, 1.0039e+00,\n",
       "        1.0019e+00, 1.0001e+00, 9.9913e-01, 9.9660e-01, 9.9191e-01, 9.8420e-01,\n",
       "        9.7972e-01, 9.7820e-01, 9.7233e-01, 9.6888e-01, 9.6464e-01, 9.6263e-01,\n",
       "        9.5794e-01, 9.5567e-01, 9.4945e-01, 9.4781e-01, 9.4361e-01, 9.4101e-01,\n",
       "        9.3855e-01, 9.3425e-01, 9.3142e-01, 9.2802e-01, 9.2162e-01, 9.1866e-01,\n",
       "        9.1514e-01, 9.1093e-01, 9.0954e-01, 9.0295e-01, 9.0090e-01, 8.9976e-01,\n",
       "        8.9419e-01, 8.9214e-01, 8.8849e-01, 8.8593e-01, 8.8095e-01, 8.7567e-01,\n",
       "        8.7105e-01, 8.6759e-01, 8.6604e-01, 8.6300e-01, 8.6016e-01, 8.5719e-01,\n",
       "        8.5460e-01, 8.5173e-01, 8.4875e-01, 8.4397e-01, 8.4056e-01, 8.3764e-01,\n",
       "        8.3636e-01, 8.3300e-01, 8.3018e-01, 8.2615e-01, 8.2302e-01, 8.1882e-01,\n",
       "        8.1471e-01, 8.1274e-01, 8.1076e-01, 8.0832e-01, 8.0570e-01, 8.0226e-01,\n",
       "        7.9574e-01, 7.9474e-01, 7.8752e-01, 7.8505e-01, 7.8403e-01, 7.7862e-01,\n",
       "        7.7631e-01, 7.6982e-01, 7.6960e-01, 7.6703e-01, 7.6382e-01, 7.6247e-01,\n",
       "        7.6014e-01, 7.5590e-01, 7.5151e-01, 7.4817e-01, 7.4489e-01, 7.4151e-01,\n",
       "        7.3843e-01, 7.3548e-01, 7.3407e-01, 7.3008e-01, 7.2982e-01, 7.2485e-01,\n",
       "        7.2091e-01, 7.1669e-01, 7.1453e-01, 7.1004e-01, 7.0916e-01, 7.0639e-01,\n",
       "        6.9997e-01, 6.9785e-01, 6.9367e-01, 6.9192e-01, 6.9058e-01, 6.8651e-01,\n",
       "        6.8479e-01, 6.8222e-01, 6.7803e-01, 6.7616e-01, 6.7244e-01, 6.6874e-01,\n",
       "        6.6646e-01, 6.6427e-01, 6.6195e-01, 6.5850e-01, 6.5695e-01, 6.5359e-01,\n",
       "        6.5268e-01, 6.5064e-01, 6.4587e-01, 6.4374e-01, 6.4192e-01, 6.3744e-01,\n",
       "        6.3670e-01, 6.3412e-01, 6.3034e-01, 6.2827e-01, 6.2651e-01, 6.2154e-01,\n",
       "        6.2000e-01, 6.1748e-01, 6.1586e-01, 6.1181e-01, 6.1042e-01, 6.0897e-01,\n",
       "        6.0737e-01, 6.0316e-01, 6.0038e-01, 5.9810e-01, 5.9549e-01, 5.9361e-01,\n",
       "        5.9204e-01, 5.9004e-01, 5.8836e-01, 5.8319e-01, 5.8209e-01, 5.7747e-01,\n",
       "        5.7593e-01, 5.7382e-01, 5.7111e-01, 5.6812e-01, 5.6653e-01, 5.6507e-01,\n",
       "        5.6042e-01, 5.5752e-01, 5.5602e-01, 5.5417e-01, 5.5365e-01, 5.5003e-01,\n",
       "        5.4746e-01, 5.4609e-01, 5.4382e-01, 5.3883e-01, 5.3695e-01, 5.3437e-01,\n",
       "        5.3045e-01, 5.2825e-01, 5.2712e-01, 5.2410e-01, 5.2306e-01, 5.2242e-01,\n",
       "        5.1997e-01, 5.1942e-01, 5.1725e-01, 5.1539e-01, 5.1018e-01, 5.0974e-01,\n",
       "        5.0816e-01, 5.0506e-01, 5.0145e-01, 4.9986e-01, 4.9691e-01, 4.9573e-01,\n",
       "        4.9325e-01, 4.9079e-01, 4.9006e-01, 4.8667e-01, 4.8454e-01, 4.8257e-01,\n",
       "        4.8085e-01, 4.7880e-01, 4.7589e-01, 4.7486e-01, 4.7289e-01, 4.7193e-01,\n",
       "        4.7013e-01, 4.6784e-01, 4.6635e-01, 4.6371e-01, 4.6187e-01, 4.6114e-01,\n",
       "        4.5818e-01, 4.5507e-01, 4.5343e-01, 4.5014e-01, 4.4882e-01, 4.4723e-01,\n",
       "        4.4548e-01, 4.4267e-01, 4.4137e-01, 4.4055e-01, 4.3930e-01, 4.3510e-01,\n",
       "        4.3436e-01, 4.2933e-01, 4.2679e-01, 4.2582e-01, 4.2438e-01, 4.2347e-01,\n",
       "        4.2217e-01, 4.2024e-01, 4.1847e-01, 4.1765e-01, 4.1529e-01, 4.1017e-01,\n",
       "        4.0958e-01, 4.0713e-01, 4.0706e-01, 4.0459e-01, 4.0126e-01, 4.0103e-01,\n",
       "        4.0018e-01, 3.9772e-01, 3.9584e-01, 3.9465e-01, 3.9319e-01, 3.9243e-01,\n",
       "        3.8912e-01, 3.8763e-01, 3.8639e-01, 3.8509e-01, 3.8484e-01, 3.8128e-01,\n",
       "        3.7908e-01, 3.7754e-01, 3.7504e-01, 3.7454e-01, 3.7218e-01, 3.7154e-01,\n",
       "        3.6914e-01, 3.6764e-01, 3.6434e-01, 3.6370e-01, 3.6263e-01, 3.6068e-01,\n",
       "        3.5903e-01, 3.5839e-01, 3.5628e-01, 3.5392e-01, 3.5360e-01, 3.5262e-01,\n",
       "        3.5102e-01, 3.4780e-01, 3.4537e-01, 3.4391e-01, 3.4190e-01, 3.4141e-01,\n",
       "        3.3801e-01, 3.3721e-01, 3.3578e-01, 3.3543e-01, 3.3332e-01, 3.2987e-01,\n",
       "        3.2861e-01, 3.2777e-01, 3.2623e-01, 3.2470e-01, 3.2342e-01, 3.2195e-01,\n",
       "        3.1897e-01, 3.1825e-01, 3.1691e-01, 3.1319e-01, 3.1267e-01, 3.1164e-01,\n",
       "        3.0968e-01, 3.0819e-01, 3.0656e-01, 3.0566e-01, 3.0347e-01, 3.0057e-01,\n",
       "        2.9936e-01, 2.9839e-01, 2.9625e-01, 2.9518e-01, 2.9267e-01, 2.9219e-01,\n",
       "        2.9130e-01, 2.8880e-01, 2.8722e-01, 2.8635e-01, 2.8366e-01, 2.8255e-01,\n",
       "        2.8102e-01, 2.8026e-01, 2.7922e-01, 2.7738e-01, 2.7503e-01, 2.7470e-01,\n",
       "        2.7408e-01, 2.7156e-01, 2.7087e-01, 2.7006e-01, 2.6808e-01, 2.6728e-01,\n",
       "        2.6611e-01, 2.6480e-01, 2.6244e-01, 2.6167e-01, 2.6114e-01, 2.5972e-01,\n",
       "        2.5787e-01, 2.5760e-01, 2.5496e-01, 2.5210e-01, 2.5135e-01, 2.5043e-01,\n",
       "        2.5002e-01, 2.4868e-01, 2.4595e-01, 2.4495e-01, 2.4445e-01, 2.4316e-01,\n",
       "        2.4137e-01, 2.4003e-01, 2.3902e-01, 2.3867e-01, 2.3758e-01, 2.3537e-01,\n",
       "        2.3400e-01, 2.3225e-01, 2.3143e-01, 2.2995e-01, 2.2929e-01, 2.2840e-01,\n",
       "        2.2638e-01, 2.2483e-01, 2.2443e-01, 2.2226e-01, 2.2141e-01, 2.1992e-01,\n",
       "        2.1850e-01, 2.1712e-01, 2.1632e-01, 2.1564e-01, 2.1416e-01, 2.1356e-01,\n",
       "        2.1176e-01, 2.1025e-01, 2.0841e-01, 2.0750e-01, 2.0695e-01, 2.0556e-01,\n",
       "        2.0407e-01, 2.0264e-01, 2.0171e-01, 2.0028e-01, 1.9866e-01, 1.9807e-01,\n",
       "        1.9717e-01, 1.9626e-01, 1.9440e-01, 1.9359e-01, 1.9191e-01, 1.8965e-01,\n",
       "        1.8928e-01, 1.8849e-01, 1.8668e-01, 1.8650e-01, 1.8585e-01, 1.8370e-01,\n",
       "        1.8331e-01, 1.8204e-01, 1.8102e-01, 1.8044e-01, 1.7883e-01, 1.7730e-01,\n",
       "        1.7658e-01, 1.7620e-01, 1.7405e-01, 1.7381e-01, 1.7273e-01, 1.7234e-01,\n",
       "        1.7056e-01, 1.6970e-01, 1.6858e-01, 1.6743e-01, 1.6669e-01, 1.6607e-01,\n",
       "        1.6564e-01, 1.6356e-01, 1.6309e-01, 1.6148e-01, 1.6084e-01, 1.6021e-01,\n",
       "        1.5983e-01, 1.5726e-01, 1.5608e-01, 1.5520e-01, 1.5430e-01, 1.5387e-01,\n",
       "        1.5277e-01, 1.5047e-01, 1.5001e-01, 1.4927e-01, 1.4813e-01, 1.4748e-01,\n",
       "        1.4698e-01, 1.4611e-01, 1.4476e-01, 1.4410e-01, 1.4369e-01, 1.4170e-01,\n",
       "        1.4050e-01, 1.4017e-01, 1.3866e-01, 1.3837e-01, 1.3809e-01, 1.3660e-01,\n",
       "        1.3538e-01, 1.3487e-01, 1.3456e-01, 1.3299e-01, 1.3218e-01, 1.3118e-01,\n",
       "        1.3022e-01, 1.2917e-01, 1.2767e-01, 1.2711e-01, 1.2612e-01, 1.2529e-01,\n",
       "        1.2449e-01, 1.2411e-01, 1.2271e-01, 1.2236e-01, 1.2141e-01, 1.2040e-01,\n",
       "        1.1931e-01, 1.1793e-01, 1.1717e-01, 1.1692e-01, 1.1520e-01, 1.1478e-01,\n",
       "        1.1377e-01, 1.1288e-01, 1.1177e-01, 1.1034e-01, 1.0918e-01, 1.0904e-01,\n",
       "        1.0788e-01, 1.0743e-01, 1.0641e-01, 1.0585e-01, 1.0497e-01, 1.0458e-01,\n",
       "        1.0420e-01, 1.0303e-01, 1.0182e-01, 1.0124e-01, 1.0057e-01, 1.0004e-01,\n",
       "        9.9395e-02, 9.8212e-02, 9.7705e-02, 9.7200e-02, 9.5360e-02, 9.4965e-02,\n",
       "        9.3603e-02, 9.3468e-02, 9.3247e-02, 9.2950e-02, 9.1898e-02, 9.0603e-02,\n",
       "        8.9774e-02, 8.9156e-02, 8.8680e-02, 8.8203e-02, 8.6738e-02, 8.5995e-02,\n",
       "        8.5793e-02, 8.4446e-02, 8.3709e-02, 8.3210e-02, 8.2469e-02, 8.2342e-02,\n",
       "        8.1026e-02, 8.0533e-02, 7.9635e-02, 7.8810e-02, 7.8317e-02, 7.7256e-02,\n",
       "        7.6323e-02, 7.5923e-02, 7.5508e-02, 7.4920e-02, 7.4246e-02, 7.3328e-02,\n",
       "        7.3051e-02, 7.2216e-02, 7.1801e-02, 7.0899e-02, 7.0097e-02, 6.9313e-02,\n",
       "        6.8740e-02, 6.8398e-02, 6.7510e-02, 6.7067e-02, 6.6352e-02, 6.5722e-02,\n",
       "        6.4581e-02, 6.4307e-02, 6.3986e-02, 6.3793e-02, 6.2850e-02, 6.2785e-02,\n",
       "        6.1599e-02, 6.1539e-02, 6.0181e-02, 5.9300e-02, 5.8981e-02, 5.8089e-02,\n",
       "        5.7684e-02, 5.7221e-02, 5.6484e-02, 5.5402e-02, 5.5149e-02, 5.4603e-02,\n",
       "        5.3878e-02, 5.3665e-02, 5.3303e-02, 5.2704e-02, 5.2412e-02, 5.2240e-02,\n",
       "        5.0933e-02, 5.0471e-02, 5.0076e-02, 4.9076e-02, 4.8580e-02, 4.8179e-02,\n",
       "        4.7649e-02, 4.7431e-02, 4.7047e-02, 4.6240e-02, 4.5773e-02, 4.5368e-02,\n",
       "        4.5152e-02, 4.4501e-02, 4.3756e-02, 4.3268e-02, 4.2484e-02, 4.1962e-02,\n",
       "        4.1782e-02, 4.1333e-02, 4.0654e-02, 4.0268e-02, 4.0141e-02, 3.9675e-02,\n",
       "        3.9462e-02, 3.8763e-02, 3.8111e-02, 3.7828e-02, 3.7533e-02, 3.7159e-02,\n",
       "        3.5943e-02, 3.5756e-02, 3.5569e-02, 3.4691e-02, 3.4486e-02, 3.4256e-02,\n",
       "        3.3986e-02, 3.3101e-02, 3.2436e-02, 3.1450e-02, 3.1417e-02, 3.1073e-02,\n",
       "        3.0561e-02, 2.9927e-02, 2.9716e-02, 2.9519e-02, 2.9124e-02, 2.8492e-02,\n",
       "        2.8380e-02, 2.7989e-02, 2.7434e-02, 2.6828e-02, 2.6390e-02, 2.6200e-02,\n",
       "        2.5718e-02, 2.4884e-02, 2.4693e-02, 2.4268e-02, 2.4140e-02, 2.3510e-02,\n",
       "        2.3191e-02, 2.3014e-02, 2.2774e-02, 2.2630e-02, 2.2428e-02, 2.1538e-02,\n",
       "        2.1395e-02, 2.0698e-02, 2.0521e-02, 2.0016e-02, 1.9767e-02, 1.9736e-02,\n",
       "        1.9329e-02, 1.8951e-02, 1.8592e-02, 1.8479e-02, 1.7801e-02, 1.7500e-02,\n",
       "        1.7303e-02, 1.7084e-02, 1.6914e-02, 1.6600e-02, 1.6368e-02, 1.6005e-02,\n",
       "        1.5390e-02, 1.5120e-02, 1.4982e-02, 1.4890e-02, 1.4468e-02, 1.4123e-02,\n",
       "        1.3840e-02, 1.3657e-02, 1.3411e-02, 1.3281e-02, 1.2731e-02, 1.2626e-02,\n",
       "        1.2239e-02, 1.1998e-02, 1.1724e-02, 1.1718e-02, 1.1401e-02, 1.1109e-02,\n",
       "        1.0885e-02, 1.0652e-02, 1.0469e-02, 1.0033e-02, 9.5598e-03, 9.5252e-03,\n",
       "        9.1684e-03, 9.1050e-03, 9.0147e-03, 8.8800e-03, 8.8181e-03, 8.4932e-03,\n",
       "        8.3155e-03, 7.8678e-03, 7.7048e-03, 7.3142e-03, 7.0524e-03, 6.8866e-03,\n",
       "        6.7844e-03, 6.7492e-03, 6.4298e-03, 6.1231e-03, 6.0578e-03, 5.9999e-03,\n",
       "        5.7661e-03, 5.5945e-03, 5.3796e-03, 5.1723e-03, 5.0103e-03, 4.8812e-03,\n",
       "        4.6478e-03, 4.3546e-03, 4.2568e-03, 4.0296e-03, 3.9893e-03, 3.7279e-03,\n",
       "        3.6880e-03, 3.4199e-03, 3.3569e-03, 3.2432e-03, 3.1335e-03, 3.0777e-03,\n",
       "        2.9408e-03, 2.8072e-03, 2.6124e-03, 2.3890e-03, 2.3118e-03, 2.2611e-03,\n",
       "        2.1582e-03, 2.0316e-03, 1.7405e-03, 1.6948e-03, 1.6867e-03, 1.6073e-03,\n",
       "        1.4606e-03, 1.4230e-03, 1.3357e-03, 1.2443e-03, 1.1318e-03, 1.0554e-03,\n",
       "        9.5601e-04, 9.2961e-04, 8.6237e-04, 7.8911e-04, 7.6949e-04, 6.9884e-04,\n",
       "        6.3551e-04, 5.6237e-04, 5.1779e-04, 4.3073e-04, 3.9861e-04, 3.8067e-04,\n",
       "        3.2881e-04, 2.9642e-04, 2.6722e-04, 2.0789e-04, 2.0741e-04, 1.3721e-04,\n",
       "        1.3396e-04, 9.0408e-05, 8.3534e-05, 5.7843e-05, 3.3588e-05, 2.9184e-05,\n",
       "        1.8432e-05, 1.2679e-05, 8.2922e-06, 4.1515e-06])"
      ]
     },
     "execution_count": 185,
     "metadata": {},
     "output_type": "execute_result"
    }
   ],
   "source": [
    "torch.linalg.svdvals(G,).detach()"
   ]
  },
  {
   "cell_type": "code",
   "execution_count": null,
   "id": "698b69d4-d07f-4570-bd9e-64b8aa28b6dc",
   "metadata": {},
   "outputs": [],
   "source": []
  }
 ],
 "metadata": {
  "kernelspec": {
   "display_name": "Python 3",
   "language": "python",
   "name": "python3"
  },
  "language_info": {
   "codemirror_mode": {
    "name": "ipython",
    "version": 3
   },
   "file_extension": ".py",
   "mimetype": "text/x-python",
   "name": "python",
   "nbconvert_exporter": "python",
   "pygments_lexer": "ipython3",
   "version": "3.10.14"
  }
 },
 "nbformat": 4,
 "nbformat_minor": 5
}
