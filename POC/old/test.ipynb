{
 "cells": [
  {
   "cell_type": "code",
   "execution_count": 1,
   "metadata": {},
   "outputs": [
    {
     "name": "stdout",
     "output_type": "stream",
     "text": [
      "Added /local/home/ajoudaki/projects/loss-of-plasticity to Python path\n"
     ]
    }
   ],
   "source": [
    "# Import the utility module\n",
    "import notebook_utils\n",
    "\n",
    "# Setup the path\n",
    "notebook_utils.setup_path()"
   ]
  },
  {
   "cell_type": "code",
   "execution_count": 2,
   "metadata": {},
   "outputs": [
    {
     "name": "stdout",
     "output_type": "stream",
     "text": [
      "Using device: cuda\n",
      "Starting training...\n",
      "Example [1000/300000], Avg Loss: 1.664002\n",
      "Example [2000/300000], Avg Loss: 1.344963\n",
      "Example [3000/300000], Avg Loss: 1.216897\n",
      "Example [4000/300000], Avg Loss: 0.805207\n",
      "Example [5000/300000], Avg Loss: 0.718922\n",
      "Example [6000/300000], Avg Loss: 0.526867\n",
      "Example [7000/300000], Avg Loss: 1.215080\n",
      "Example [8000/300000], Avg Loss: 0.851134\n",
      "Example [9000/300000], Avg Loss: 0.869631\n",
      "Example [10000/300000], Avg Loss: 0.840847\n",
      "Example [11000/300000], Avg Loss: 0.756825\n",
      "Example [12000/300000], Avg Loss: 0.751879\n",
      "Example [13000/300000], Avg Loss: 0.815157\n",
      "Example [14000/300000], Avg Loss: 0.566797\n",
      "Example [15000/300000], Avg Loss: 0.478743\n",
      "Example [16000/300000], Avg Loss: 0.602694\n",
      "Example [17000/300000], Avg Loss: 0.536774\n",
      "Example [18000/300000], Avg Loss: 0.520308\n",
      "Example [19000/300000], Avg Loss: 0.346418\n",
      "Example [20000/300000], Avg Loss: 0.393830\n",
      "Example [21000/300000], Avg Loss: 0.424050\n",
      "Example [22000/300000], Avg Loss: 0.472703\n",
      "Example [23000/300000], Avg Loss: 0.758674\n",
      "Example [24000/300000], Avg Loss: 0.484647\n",
      "Example [25000/300000], Avg Loss: 0.688659\n",
      "Example [26000/300000], Avg Loss: 0.769351\n",
      "Example [27000/300000], Avg Loss: 0.832955\n",
      "Example [28000/300000], Avg Loss: 0.828424\n",
      "Example [29000/300000], Avg Loss: 0.546718\n",
      "Example [30000/300000], Avg Loss: 0.731578\n",
      "Example [31000/300000], Avg Loss: 0.844668\n",
      "Example [32000/300000], Avg Loss: 0.991663\n",
      "Example [33000/300000], Avg Loss: 0.677570\n",
      "Example [34000/300000], Avg Loss: 0.311169\n",
      "Example [35000/300000], Avg Loss: 0.237833\n",
      "Example [36000/300000], Avg Loss: 0.659627\n",
      "Example [37000/300000], Avg Loss: 0.709417\n",
      "Example [38000/300000], Avg Loss: 0.827047\n",
      "Example [39000/300000], Avg Loss: 1.271223\n",
      "Example [40000/300000], Avg Loss: 1.419143\n",
      "Example [41000/300000], Avg Loss: 1.380849\n",
      "Example [42000/300000], Avg Loss: 0.703187\n",
      "Example [43000/300000], Avg Loss: 1.652051\n",
      "Example [44000/300000], Avg Loss: 0.938779\n",
      "Example [45000/300000], Avg Loss: 0.909672\n",
      "Example [46000/300000], Avg Loss: 0.778027\n",
      "Example [47000/300000], Avg Loss: 0.327161\n",
      "Example [48000/300000], Avg Loss: 0.530176\n",
      "Example [49000/300000], Avg Loss: 0.565417\n",
      "Example [50000/300000], Avg Loss: 0.342577\n",
      "Example [51000/300000], Avg Loss: 0.595027\n",
      "Example [52000/300000], Avg Loss: 0.989948\n",
      "Example [53000/300000], Avg Loss: 1.090883\n",
      "Example [54000/300000], Avg Loss: 1.069866\n",
      "Example [55000/300000], Avg Loss: 0.643494\n",
      "Example [56000/300000], Avg Loss: 0.436507\n",
      "Example [57000/300000], Avg Loss: 0.334036\n",
      "Example [58000/300000], Avg Loss: 0.356626\n",
      "Example [59000/300000], Avg Loss: 0.231593\n",
      "Example [60000/300000], Avg Loss: 0.317154\n",
      "Example [61000/300000], Avg Loss: 0.396662\n",
      "Example [62000/300000], Avg Loss: 0.310736\n",
      "Example [63000/300000], Avg Loss: 0.736902\n",
      "Example [64000/300000], Avg Loss: 1.197817\n",
      "Example [65000/300000], Avg Loss: 0.964494\n",
      "Example [66000/300000], Avg Loss: 0.419046\n",
      "Example [67000/300000], Avg Loss: 0.368116\n",
      "Example [68000/300000], Avg Loss: 0.616437\n"
     ]
    },
    {
     "ename": "KeyboardInterrupt",
     "evalue": "",
     "output_type": "error",
     "traceback": [
      "\u001b[0;31m---------------------------------------------------------------------------\u001b[0m",
      "\u001b[0;31mKeyboardInterrupt\u001b[0m                         Traceback (most recent call last)",
      "Cell \u001b[0;32mIn[2], line 2\u001b[0m\n\u001b[1;32m      1\u001b[0m \u001b[38;5;28;01mfrom\u001b[39;00m \u001b[38;5;21;01mbitflipping\u001b[39;00m \u001b[38;5;28;01mimport\u001b[39;00m run_experiment\n\u001b[0;32m----> 2\u001b[0m \u001b[43mrun_experiment\u001b[49m\u001b[43m(\u001b[49m\u001b[43m)\u001b[49m\n",
      "File \u001b[0;32m~/projects/loss-of-plasticity/notebooks/POC/bitflipping.py:168\u001b[0m, in \u001b[0;36mrun_experiment\u001b[0;34m()\u001b[0m\n\u001b[1;32m    166\u001b[0m \u001b[38;5;28mprint\u001b[39m(\u001b[38;5;124m\"\u001b[39m\u001b[38;5;124mStarting training...\u001b[39m\u001b[38;5;124m\"\u001b[39m)\n\u001b[1;32m    167\u001b[0m \u001b[38;5;28;01mfor\u001b[39;00m batch_idx \u001b[38;5;129;01min\u001b[39;00m \u001b[38;5;28mrange\u001b[39m(num_batches):\n\u001b[0;32m--> 168\u001b[0m     current_example_num \u001b[38;5;241m=\u001b[39m (batch_idx \u001b[38;5;241m+\u001b[39m \u001b[38;5;241m1\u001b[39m) \u001b[38;5;241m*\u001b[39m batch_size\n\u001b[1;32m    169\u001b[0m     learner_network\u001b[38;5;241m.\u001b[39mtrain()\n\u001b[1;32m    171\u001b[0m     inputs, targets \u001b[38;5;241m=\u001b[39m data_generator\u001b[38;5;241m.\u001b[39mgenerate_batch(batch_size)\n",
      "File \u001b[0;32m~/projects/loss-of-plasticity/notebooks/POC/bitflipping.py:135\u001b[0m, in \u001b[0;36mgenerate_batch\u001b[0;34m(self, batch_size_val)\u001b[0m\n\u001b[1;32m    131\u001b[0m             batch_y_tensor = self.target_net(batch_x_tensor).squeeze(-1)\n\u001b[1;32m    132\u001b[0m         return batch_x_tensor, batch_y_tensor\n\u001b[0;32m--> 135\u001b[0m # --- Main Experiment ---\n\u001b[1;32m    136\u001b[0m def run_experiment():\n\u001b[1;32m    137\u001b[0m     start_time = time.time()\n",
      "File \u001b[0;32m~/projects/loss-of-plasticity/notebooks/POC/bitflipping.py:126\u001b[0m, in \u001b[0;36mgenerate_example\u001b[0;34m(self)\u001b[0m\n\u001b[1;32m    124\u001b[0m \u001b[38;5;28;01mdef\u001b[39;00m \u001b[38;5;21mgenerate_batch\u001b[39m(\u001b[38;5;28mself\u001b[39m, batch_size_val):\n\u001b[1;32m    125\u001b[0m     batch_x_list \u001b[38;5;241m=\u001b[39m []\n\u001b[0;32m--> 126\u001b[0m     \u001b[38;5;28;01mfor\u001b[39;00m _ \u001b[38;5;129;01min\u001b[39;00m \u001b[38;5;28mrange\u001b[39m(batch_size_val):\n\u001b[1;32m    127\u001b[0m         batch_x_list\u001b[38;5;241m.\u001b[39mappend(\u001b[38;5;28mself\u001b[39m\u001b[38;5;241m.\u001b[39m_generate_single_example_tensors())\n\u001b[1;32m    129\u001b[0m     batch_x_tensor \u001b[38;5;241m=\u001b[39m torch\u001b[38;5;241m.\u001b[39mstack(batch_x_list)\n",
      "File \u001b[0;32m~/miniconda3/lib/python3.12/site-packages/torch/nn/modules/module.py:1751\u001b[0m, in \u001b[0;36mModule._wrapped_call_impl\u001b[0;34m(self, *args, **kwargs)\u001b[0m\n\u001b[1;32m   1749\u001b[0m     \u001b[38;5;28;01mreturn\u001b[39;00m \u001b[38;5;28mself\u001b[39m\u001b[38;5;241m.\u001b[39m_compiled_call_impl(\u001b[38;5;241m*\u001b[39margs, \u001b[38;5;241m*\u001b[39m\u001b[38;5;241m*\u001b[39mkwargs)  \u001b[38;5;66;03m# type: ignore[misc]\u001b[39;00m\n\u001b[1;32m   1750\u001b[0m \u001b[38;5;28;01melse\u001b[39;00m:\n\u001b[0;32m-> 1751\u001b[0m     \u001b[38;5;28;01mreturn\u001b[39;00m \u001b[38;5;28;43mself\u001b[39;49m\u001b[38;5;241;43m.\u001b[39;49m\u001b[43m_call_impl\u001b[49m\u001b[43m(\u001b[49m\u001b[38;5;241;43m*\u001b[39;49m\u001b[43margs\u001b[49m\u001b[43m,\u001b[49m\u001b[43m \u001b[49m\u001b[38;5;241;43m*\u001b[39;49m\u001b[38;5;241;43m*\u001b[39;49m\u001b[43mkwargs\u001b[49m\u001b[43m)\u001b[49m\n",
      "File \u001b[0;32m~/miniconda3/lib/python3.12/site-packages/torch/nn/modules/module.py:1762\u001b[0m, in \u001b[0;36mModule._call_impl\u001b[0;34m(self, *args, **kwargs)\u001b[0m\n\u001b[1;32m   1757\u001b[0m \u001b[38;5;66;03m# If we don't have any hooks, we want to skip the rest of the logic in\u001b[39;00m\n\u001b[1;32m   1758\u001b[0m \u001b[38;5;66;03m# this function, and just call forward.\u001b[39;00m\n\u001b[1;32m   1759\u001b[0m \u001b[38;5;28;01mif\u001b[39;00m \u001b[38;5;129;01mnot\u001b[39;00m (\u001b[38;5;28mself\u001b[39m\u001b[38;5;241m.\u001b[39m_backward_hooks \u001b[38;5;129;01mor\u001b[39;00m \u001b[38;5;28mself\u001b[39m\u001b[38;5;241m.\u001b[39m_backward_pre_hooks \u001b[38;5;129;01mor\u001b[39;00m \u001b[38;5;28mself\u001b[39m\u001b[38;5;241m.\u001b[39m_forward_hooks \u001b[38;5;129;01mor\u001b[39;00m \u001b[38;5;28mself\u001b[39m\u001b[38;5;241m.\u001b[39m_forward_pre_hooks\n\u001b[1;32m   1760\u001b[0m         \u001b[38;5;129;01mor\u001b[39;00m _global_backward_pre_hooks \u001b[38;5;129;01mor\u001b[39;00m _global_backward_hooks\n\u001b[1;32m   1761\u001b[0m         \u001b[38;5;129;01mor\u001b[39;00m _global_forward_hooks \u001b[38;5;129;01mor\u001b[39;00m _global_forward_pre_hooks):\n\u001b[0;32m-> 1762\u001b[0m     \u001b[38;5;28;01mreturn\u001b[39;00m \u001b[43mforward_call\u001b[49m\u001b[43m(\u001b[49m\u001b[38;5;241;43m*\u001b[39;49m\u001b[43margs\u001b[49m\u001b[43m,\u001b[49m\u001b[43m \u001b[49m\u001b[38;5;241;43m*\u001b[39;49m\u001b[38;5;241;43m*\u001b[39;49m\u001b[43mkwargs\u001b[49m\u001b[43m)\u001b[49m\n\u001b[1;32m   1764\u001b[0m result \u001b[38;5;241m=\u001b[39m \u001b[38;5;28;01mNone\u001b[39;00m\n\u001b[1;32m   1765\u001b[0m called_always_called_hooks \u001b[38;5;241m=\u001b[39m \u001b[38;5;28mset\u001b[39m()\n",
      "File \u001b[0;32m~/projects/loss-of-plasticity/notebooks/POC/bitflipping.py:64\u001b[0m, in \u001b[0;36mforward\u001b[0;34m(self, x)\u001b[0m\n\u001b[1;32m     61\u001b[0m         \u001b[38;5;28;01mreturn\u001b[39;00m output\n\u001b[1;32m     63\u001b[0m \u001b[38;5;66;03m# --- Learning Network Definition (Identical to previous) ---\u001b[39;00m\n\u001b[0;32m---> 64\u001b[0m \u001b[38;5;28;01mclass\u001b[39;00m \u001b[38;5;21;01mLearnerNet\u001b[39;00m(nn\u001b[38;5;241m.\u001b[39mModule):\n\u001b[1;32m     65\u001b[0m     \u001b[38;5;28;01mdef\u001b[39;00m \u001b[38;5;21m__init__\u001b[39m(\u001b[38;5;28mself\u001b[39m, input_size, n_hidden, activation_fn):\n\u001b[1;32m     66\u001b[0m         \u001b[38;5;28msuper\u001b[39m(LearnerNet, \u001b[38;5;28mself\u001b[39m)\u001b[38;5;241m.\u001b[39m\u001b[38;5;21m__init__\u001b[39m()\n",
      "\u001b[0;31mKeyboardInterrupt\u001b[0m: "
     ]
    }
   ],
   "source": [
    "from bitflipping import run_experiment\n",
    "run_experiment()"
   ]
  },
  {
   "cell_type": "code",
   "execution_count": null,
   "metadata": {},
   "outputs": [],
   "source": []
  }
 ],
 "metadata": {
  "kernelspec": {
   "display_name": "base",
   "language": "python",
   "name": "python3"
  },
  "language_info": {
   "codemirror_mode": {
    "name": "ipython",
    "version": 3
   },
   "file_extension": ".py",
   "mimetype": "text/x-python",
   "name": "python",
   "nbconvert_exporter": "python",
   "pygments_lexer": "ipython3",
   "version": "3.12.7"
  }
 },
 "nbformat": 4,
 "nbformat_minor": 4
}
